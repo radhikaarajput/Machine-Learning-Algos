{
  "nbformat": 4,
  "nbformat_minor": 0,
  "metadata": {
    "orig_nbformat": 2,
    "deepnote_notebook_id": "f1a63d22-ee9c-4f11-b9a5-dfcab3a57096",
    "deepnote_execution_queue": [],
    "colab": {
      "name": "Tweepy_REF.ipynb",
      "provenance": [],
      "collapsed_sections": [],
      "include_colab_link": true
    },
    "kernelspec": {
      "name": "python3",
      "display_name": "Python 3"
    }
  },
  "cells": [
    {
      "cell_type": "markdown",
      "metadata": {
        "id": "view-in-github",
        "colab_type": "text"
      },
      "source": [
        "<a href=\"https://colab.research.google.com/github/priyaChaturvedi11/practice/blob/master/Tweepy_REF_pc.ipynb\" target=\"_parent\"><img src=\"https://colab.research.google.com/assets/colab-badge.svg\" alt=\"Open In Colab\"/></a>"
      ]
    },
    {
      "cell_type": "code",
      "metadata": {
        "tags": [],
        "cell_id": "7e431c86-3a8f-4c37-b4ea-a1223b46b661",
        "id": "Fft4y0E0C4r2",
        "colab_type": "code",
        "colab": {}
      },
      "source": [
        "\n",
        "import tweepy as tweepy"
      ],
      "execution_count": null,
      "outputs": []
    },
    {
      "cell_type": "code",
      "metadata": {
        "tags": [],
        "cell_id": "44de0875-4519-4b25-b941-4d1966880e59",
        "id": "Q9-nSNasC4sK",
        "colab_type": "code",
        "colab": {}
      },
      "source": [
        "consumer_key = 'V9Awf1dfvzw3pZa4daejEzUxm'\n",
        "consumer_secret = '1f33HZJJRB4FwraPiw7Gnu96kPrpd93kQXUsDyz5iecumAX6X5'\n",
        "access_token = '1180350016625373184-zeKWxmOglE1bHAs5nRrYxEr4kuQ81X'\n",
        "access_token_secret = 'ZVOlxkFBknpQLgguV5zgUos0fBX7j3r09x5wCjusSiwV7'\n",
        "\n",
        "\n",
        "auth = tweepy.OAuthHandler(consumer_key, consumer_secret)\n",
        "auth.set_access_token(access_token, access_token_secret)\n",
        "api = tweepy.API(auth, wait_on_rate_limit=True)"
      ],
      "execution_count": null,
      "outputs": []
    },
    {
      "cell_type": "code",
      "metadata": {
        "tags": [],
        "cell_id": "518d76dc-1268-4e0e-a35f-4b068fe014de",
        "id": "JMK2whN9C4sa",
        "colab_type": "code",
        "colab": {}
      },
      "source": [
        "result_cursor = api.search(q='#covid', count=20)"
      ],
      "execution_count": null,
      "outputs": []
    },
    {
      "cell_type": "code",
      "metadata": {
        "tags": [],
        "cell_id": "f602f929-33ca-423a-a2b6-f58b54650e61",
        "id": "S6xJNrEaC4sl",
        "colab_type": "code",
        "colab": {
          "base_uri": "https://localhost:8080/",
          "height": 56
        },
        "outputId": "3753dd99-e86a-4402-f102-01f1dc99cbaa"
      },
      "source": [
        "for item in result_cursor:\n",
        "    print(item._json)\n",
        "    break"
      ],
      "execution_count": null,
      "outputs": [
        {
          "output_type": "stream",
          "text": [
            "{'created_at': 'Thu Jun 18 06:27:26 +0000 2020', 'id': 1273502562914914304, 'id_str': '1273502562914914304', 'text': 'Any Twitter / Telegraph / Facebook handle which gives up to date #Covid news on Maharashtra and Mumbai ? \\n\\nIs it re… https://t.co/6vPzSycSGX', 'truncated': True, 'entities': {'hashtags': [{'text': 'Covid', 'indices': [65, 71]}], 'symbols': [], 'user_mentions': [], 'urls': [{'url': 'https://t.co/6vPzSycSGX', 'expanded_url': 'https://twitter.com/i/web/status/1273502562914914304', 'display_url': 'twitter.com/i/web/status/1…', 'indices': [117, 140]}]}, 'metadata': {'iso_language_code': 'en', 'result_type': 'recent'}, 'source': '<a href=\"https://mobile.twitter.com\" rel=\"nofollow\">Twitter Web App</a>', 'in_reply_to_status_id': None, 'in_reply_to_status_id_str': None, 'in_reply_to_user_id': None, 'in_reply_to_user_id_str': None, 'in_reply_to_screen_name': None, 'user': {'id': 291678421, 'id_str': '291678421', 'name': 'Aneesh Gokhale', 'screen_name': 'authorAneesh', 'location': 'India', 'description': 'Author of Brahmaputra - The Story of Lachit Barphukan. Available at Amazon India.\\nNext book - Battles of the Maratha Empire\\nRT not endorsement', 'url': 'https://t.co/YEVd5bp1UO', 'entities': {'url': {'urls': [{'url': 'https://t.co/YEVd5bp1UO', 'expanded_url': 'http://www.aneeshbooks.com', 'display_url': 'aneeshbooks.com', 'indices': [0, 23]}]}, 'description': {'urls': []}}, 'protected': False, 'followers_count': 6590, 'friends_count': 822, 'listed_count': 48, 'created_at': 'Mon May 02 12:53:51 +0000 2011', 'favourites_count': 22880, 'utc_offset': None, 'time_zone': None, 'geo_enabled': False, 'verified': False, 'statuses_count': 24107, 'lang': None, 'contributors_enabled': False, 'is_translator': False, 'is_translation_enabled': False, 'profile_background_color': '1A1B1F', 'profile_background_image_url': 'http://abs.twimg.com/images/themes/theme9/bg.gif', 'profile_background_image_url_https': 'https://abs.twimg.com/images/themes/theme9/bg.gif', 'profile_background_tile': False, 'profile_image_url': 'http://pbs.twimg.com/profile_images/1270311741013069825/Kt1hjh2M_normal.jpg', 'profile_image_url_https': 'https://pbs.twimg.com/profile_images/1270311741013069825/Kt1hjh2M_normal.jpg', 'profile_banner_url': 'https://pbs.twimg.com/profile_banners/291678421/1591700898', 'profile_link_color': '7FDBB6', 'profile_sidebar_border_color': '181A1E', 'profile_sidebar_fill_color': '252429', 'profile_text_color': '666666', 'profile_use_background_image': True, 'has_extended_profile': True, 'default_profile': False, 'default_profile_image': False, 'following': False, 'follow_request_sent': False, 'notifications': False, 'translator_type': 'none'}, 'geo': None, 'coordinates': None, 'place': None, 'contributors': None, 'is_quote_status': False, 'retweet_count': 0, 'favorite_count': 0, 'favorited': False, 'retweeted': False, 'lang': 'en'}\n"
          ],
          "name": "stdout"
        }
      ]
    },
    {
      "cell_type": "code",
      "metadata": {
        "tags": [],
        "cell_id": "4f29aa42-c741-4061-869e-60ace7167a06",
        "id": "FGiorQf0C4su",
        "colab_type": "code",
        "colab": {}
      },
      "source": [
        "covid_results = []\n",
        "for item in result_cursor:\n",
        "    covid_results.append(item._json)"
      ],
      "execution_count": null,
      "outputs": []
    },
    {
      "cell_type": "code",
      "metadata": {
        "tags": [],
        "cell_id": "2f5e1fb2-07e3-473a-b2e0-060bcf8bdb86",
        "id": "FpGleee2C4s4",
        "colab_type": "code",
        "colab": {
          "base_uri": "https://localhost:8080/",
          "height": 1000
        },
        "outputId": "4da94f76-c4fa-4f95-e5bf-815437bb3906"
      },
      "source": [
        "covid_results[0]"
      ],
      "execution_count": null,
      "outputs": [
        {
          "output_type": "execute_result",
          "data": {
            "text/plain": [
              "{'contributors': None,\n",
              " 'coordinates': None,\n",
              " 'created_at': 'Thu Jun 18 06:27:26 +0000 2020',\n",
              " 'entities': {'hashtags': [{'indices': [65, 71], 'text': 'Covid'}],\n",
              "  'symbols': [],\n",
              "  'urls': [{'display_url': 'twitter.com/i/web/status/1…',\n",
              "    'expanded_url': 'https://twitter.com/i/web/status/1273502562914914304',\n",
              "    'indices': [117, 140],\n",
              "    'url': 'https://t.co/6vPzSycSGX'}],\n",
              "  'user_mentions': []},\n",
              " 'favorite_count': 0,\n",
              " 'favorited': False,\n",
              " 'geo': None,\n",
              " 'id': 1273502562914914304,\n",
              " 'id_str': '1273502562914914304',\n",
              " 'in_reply_to_screen_name': None,\n",
              " 'in_reply_to_status_id': None,\n",
              " 'in_reply_to_status_id_str': None,\n",
              " 'in_reply_to_user_id': None,\n",
              " 'in_reply_to_user_id_str': None,\n",
              " 'is_quote_status': False,\n",
              " 'lang': 'en',\n",
              " 'metadata': {'iso_language_code': 'en', 'result_type': 'recent'},\n",
              " 'place': None,\n",
              " 'retweet_count': 0,\n",
              " 'retweeted': False,\n",
              " 'source': '<a href=\"https://mobile.twitter.com\" rel=\"nofollow\">Twitter Web App</a>',\n",
              " 'text': 'Any Twitter / Telegraph / Facebook handle which gives up to date #Covid news on Maharashtra and Mumbai ? \\n\\nIs it re… https://t.co/6vPzSycSGX',\n",
              " 'truncated': True,\n",
              " 'user': {'contributors_enabled': False,\n",
              "  'created_at': 'Mon May 02 12:53:51 +0000 2011',\n",
              "  'default_profile': False,\n",
              "  'default_profile_image': False,\n",
              "  'description': 'Author of Brahmaputra - The Story of Lachit Barphukan. Available at Amazon India.\\nNext book - Battles of the Maratha Empire\\nRT not endorsement',\n",
              "  'entities': {'description': {'urls': []},\n",
              "   'url': {'urls': [{'display_url': 'aneeshbooks.com',\n",
              "      'expanded_url': 'http://www.aneeshbooks.com',\n",
              "      'indices': [0, 23],\n",
              "      'url': 'https://t.co/YEVd5bp1UO'}]}},\n",
              "  'favourites_count': 22880,\n",
              "  'follow_request_sent': False,\n",
              "  'followers_count': 6590,\n",
              "  'following': False,\n",
              "  'friends_count': 822,\n",
              "  'geo_enabled': False,\n",
              "  'has_extended_profile': True,\n",
              "  'id': 291678421,\n",
              "  'id_str': '291678421',\n",
              "  'is_translation_enabled': False,\n",
              "  'is_translator': False,\n",
              "  'lang': None,\n",
              "  'listed_count': 48,\n",
              "  'location': 'India',\n",
              "  'name': 'Aneesh Gokhale',\n",
              "  'notifications': False,\n",
              "  'profile_background_color': '1A1B1F',\n",
              "  'profile_background_image_url': 'http://abs.twimg.com/images/themes/theme9/bg.gif',\n",
              "  'profile_background_image_url_https': 'https://abs.twimg.com/images/themes/theme9/bg.gif',\n",
              "  'profile_background_tile': False,\n",
              "  'profile_banner_url': 'https://pbs.twimg.com/profile_banners/291678421/1591700898',\n",
              "  'profile_image_url': 'http://pbs.twimg.com/profile_images/1270311741013069825/Kt1hjh2M_normal.jpg',\n",
              "  'profile_image_url_https': 'https://pbs.twimg.com/profile_images/1270311741013069825/Kt1hjh2M_normal.jpg',\n",
              "  'profile_link_color': '7FDBB6',\n",
              "  'profile_sidebar_border_color': '181A1E',\n",
              "  'profile_sidebar_fill_color': '252429',\n",
              "  'profile_text_color': '666666',\n",
              "  'profile_use_background_image': True,\n",
              "  'protected': False,\n",
              "  'screen_name': 'authorAneesh',\n",
              "  'statuses_count': 24107,\n",
              "  'time_zone': None,\n",
              "  'translator_type': 'none',\n",
              "  'url': 'https://t.co/YEVd5bp1UO',\n",
              "  'utc_offset': None,\n",
              "  'verified': False}}"
            ]
          },
          "metadata": {
            "tags": []
          },
          "execution_count": 20
        }
      ]
    },
    {
      "cell_type": "code",
      "metadata": {
        "tags": [],
        "cell_id": "5eef99a4-7154-4758-a51e-8b4e5f22422b",
        "id": "yR_2c7FnC4tB",
        "colab_type": "code",
        "colab": {}
      },
      "source": [
        "one_tweet = covid_results[0]"
      ],
      "execution_count": null,
      "outputs": []
    },
    {
      "cell_type": "markdown",
      "metadata": {
        "id": "LEceuTwEIbm1",
        "colab_type": "text"
      },
      "source": [
        "one_tweet.keys()"
      ]
    },
    {
      "cell_type": "code",
      "metadata": {
        "id": "IPWJv2tKJAfJ",
        "colab_type": "code",
        "colab": {
          "base_uri": "https://localhost:8080/",
          "height": 151
        },
        "outputId": "4dc660e3-0753-4979-9495-e8c6385d1b7e"
      },
      "source": [
        "one_tweet_entities = one_tweet['entities']\n",
        "one_tweet_entities"
      ],
      "execution_count": null,
      "outputs": [
        {
          "output_type": "execute_result",
          "data": {
            "text/plain": [
              "{'hashtags': [{'indices': [65, 71], 'text': 'Covid'}],\n",
              " 'symbols': [],\n",
              " 'urls': [{'display_url': 'twitter.com/i/web/status/1…',\n",
              "   'expanded_url': 'https://twitter.com/i/web/status/1273502562914914304',\n",
              "   'indices': [117, 140],\n",
              "   'url': 'https://t.co/6vPzSycSGX'}],\n",
              " 'user_mentions': []}"
            ]
          },
          "metadata": {
            "tags": []
          },
          "execution_count": 27
        }
      ]
    },
    {
      "cell_type": "code",
      "metadata": {
        "id": "MvAG8-48K559",
        "colab_type": "code",
        "colab": {
          "base_uri": "https://localhost:8080/",
          "height": 440
        },
        "outputId": "5ca48af7-7123-44d3-fee2-0449b8d47044"
      },
      "source": [
        "all_hashtags = []\n",
        "for item in result_cursor:\n",
        "  print(item._json['entities']['hashtags'])\n",
        "print(item._json['entities']['hashtags'])\n",
        "\n",
        "  "
      ],
      "execution_count": null,
      "outputs": [
        {
          "output_type": "stream",
          "text": [
            "[{'text': 'Covid', 'indices': [65, 71]}]\n",
            "[]\n",
            "[]\n",
            "[{'text': 'नजफगढ़', 'indices': [21, 28]}, {'text': 'south_west', 'indices': [32, 43]}, {'text': 'COVID', 'indices': [69, 75]}]\n",
            "[{'text': 'COVID', 'indices': [128, 134]}]\n",
            "[{'text': 'covid', 'indices': [99, 105]}]\n",
            "[]\n",
            "[{'text': 'China', 'indices': [36, 42]}, {'text': 'HongKong', 'indices': [63, 72]}, {'text': 'COVID', 'indices': [129, 135]}]\n",
            "[]\n",
            "[]\n",
            "[{'text': 'COVID', 'indices': [41, 47]}]\n",
            "[{'text': 'COVID', 'indices': [87, 93]}]\n",
            "[{'text': 'COVID', 'indices': [25, 31]}]\n",
            "[]\n",
            "[{'text': 'COVID', 'indices': [104, 110]}]\n",
            "[{'text': 'Covid', 'indices': [19, 25]}, {'text': 'AnálisisMétrico', 'indices': [30, 46]}, {'text': 'Vídeos', 'indices': [50, 57]}, {'text': 'YouTube', 'indices': [87, 95]}]\n",
            "[{'text': 'coronavirus', 'indices': [86, 98]}, {'text': 'COVID', 'indices': [99, 105]}]\n",
            "[{'text': 'covid', 'indices': [131, 137]}]\n",
            "[{'text': 'corona', 'indices': [48, 55]}, {'text': 'coronavirus', 'indices': [56, 68]}, {'text': 'covid', 'indices': [69, 75]}, {'text': 'covidー19', 'indices': [76, 85]}, {'text': 'covid_19', 'indices': [86, 95]}, {'text': 'covid19', 'indices': [96, 104]}, {'text': 'sarscov2', 'indices': [105, 114]}]\n",
            "[{'text': 'Covid', 'indices': [60, 66]}, {'text': 'Bronco', 'indices': [106, 113]}]\n",
            "[{'text': 'Covid', 'indices': [60, 66]}, {'text': 'Bronco', 'indices': [106, 113]}]\n"
          ],
          "name": "stdout"
        }
      ]
    },
    {
      "cell_type": "code",
      "metadata": {
        "id": "M8Sm7NZHMLVv",
        "colab_type": "code",
        "colab": {}
      },
      "source": [
        ""
      ],
      "execution_count": null,
      "outputs": []
    },
    {
      "cell_type": "markdown",
      "metadata": {
        "id": "yRq7Cs79MKyB",
        "colab_type": "text"
      },
      "source": [
        ""
      ]
    },
    {
      "cell_type": "code",
      "metadata": {
        "id": "aK7cMvcwKr_g",
        "colab_type": "code",
        "colab": {
          "base_uri": "https://localhost:8080/",
          "height": 36
        },
        "outputId": "78526bdc-18ff-44bf-a14a-244cefbc2c00"
      },
      "source": [
        "for item in result_cursor:"
      ],
      "execution_count": null,
      "outputs": [
        {
          "output_type": "execute_result",
          "data": {
            "text/plain": [
              "[{'indices': [65, 71], 'text': 'Covid'}]"
            ]
          },
          "metadata": {
            "tags": []
          },
          "execution_count": 31
        }
      ]
    },
    {
      "cell_type": "code",
      "metadata": {
        "id": "qik5JYIeJPpM",
        "colab_type": "code",
        "colab": {
          "base_uri": "https://localhost:8080/",
          "height": 56
        },
        "outputId": "dd9973e3-b9f0-4a06-8450-cbfff45e6d9e"
      },
      "source": [
        "result = []\n",
        "for item in result_cursor:\n",
        "  result.append(item._json)\n",
        "\n",
        "print (result)"
      ],
      "execution_count": null,
      "outputs": [
        {
          "output_type": "stream",
          "text": [
            "[{'created_at': 'Thu Jun 18 06:27:26 +0000 2020', 'id': 1273502562914914304, 'id_str': '1273502562914914304', 'text': 'Any Twitter / Telegraph / Facebook handle which gives up to date #Covid news on Maharashtra and Mumbai ? \\n\\nIs it re… https://t.co/6vPzSycSGX', 'truncated': True, 'entities': {'hashtags': [{'text': 'Covid', 'indices': [65, 71]}], 'symbols': [], 'user_mentions': [], 'urls': [{'url': 'https://t.co/6vPzSycSGX', 'expanded_url': 'https://twitter.com/i/web/status/1273502562914914304', 'display_url': 'twitter.com/i/web/status/1…', 'indices': [117, 140]}]}, 'metadata': {'iso_language_code': 'en', 'result_type': 'recent'}, 'source': '<a href=\"https://mobile.twitter.com\" rel=\"nofollow\">Twitter Web App</a>', 'in_reply_to_status_id': None, 'in_reply_to_status_id_str': None, 'in_reply_to_user_id': None, 'in_reply_to_user_id_str': None, 'in_reply_to_screen_name': None, 'user': {'id': 291678421, 'id_str': '291678421', 'name': 'Aneesh Gokhale', 'screen_name': 'authorAneesh', 'location': 'India', 'description': 'Author of Brahmaputra - The Story of Lachit Barphukan. Available at Amazon India.\\nNext book - Battles of the Maratha Empire\\nRT not endorsement', 'url': 'https://t.co/YEVd5bp1UO', 'entities': {'url': {'urls': [{'url': 'https://t.co/YEVd5bp1UO', 'expanded_url': 'http://www.aneeshbooks.com', 'display_url': 'aneeshbooks.com', 'indices': [0, 23]}]}, 'description': {'urls': []}}, 'protected': False, 'followers_count': 6590, 'friends_count': 822, 'listed_count': 48, 'created_at': 'Mon May 02 12:53:51 +0000 2011', 'favourites_count': 22880, 'utc_offset': None, 'time_zone': None, 'geo_enabled': False, 'verified': False, 'statuses_count': 24107, 'lang': None, 'contributors_enabled': False, 'is_translator': False, 'is_translation_enabled': False, 'profile_background_color': '1A1B1F', 'profile_background_image_url': 'http://abs.twimg.com/images/themes/theme9/bg.gif', 'profile_background_image_url_https': 'https://abs.twimg.com/images/themes/theme9/bg.gif', 'profile_background_tile': False, 'profile_image_url': 'http://pbs.twimg.com/profile_images/1270311741013069825/Kt1hjh2M_normal.jpg', 'profile_image_url_https': 'https://pbs.twimg.com/profile_images/1270311741013069825/Kt1hjh2M_normal.jpg', 'profile_banner_url': 'https://pbs.twimg.com/profile_banners/291678421/1591700898', 'profile_link_color': '7FDBB6', 'profile_sidebar_border_color': '181A1E', 'profile_sidebar_fill_color': '252429', 'profile_text_color': '666666', 'profile_use_background_image': True, 'has_extended_profile': True, 'default_profile': False, 'default_profile_image': False, 'following': False, 'follow_request_sent': False, 'notifications': False, 'translator_type': 'none'}, 'geo': None, 'coordinates': None, 'place': None, 'contributors': None, 'is_quote_status': False, 'retweet_count': 0, 'favorite_count': 0, 'favorited': False, 'retweeted': False, 'lang': 'en'}, {'created_at': 'Thu Jun 18 06:27:25 +0000 2020', 'id': 1273502560293277697, 'id_str': '1273502560293277697', 'text': 'RT @sahilchawla77: Urgently need B+ blood for plasma therapy for a covid patient at Moolchand hospital.... please whatsapp/text on 99998687…', 'truncated': False, 'entities': {'hashtags': [], 'symbols': [], 'user_mentions': [{'screen_name': 'sahilchawla77', 'name': 'Sahil chawla', 'id': 572756869, 'id_str': '572756869', 'indices': [3, 17]}], 'urls': []}, 'metadata': {'iso_language_code': 'en', 'result_type': 'recent'}, 'source': '<a href=\"http://twitter.com/download/android\" rel=\"nofollow\">Twitter for Android</a>', 'in_reply_to_status_id': None, 'in_reply_to_status_id_str': None, 'in_reply_to_user_id': None, 'in_reply_to_user_id_str': None, 'in_reply_to_screen_name': None, 'user': {'id': 1171452867313463298, 'id_str': '1171452867313463298', 'name': 'Rakesh Kumar Tyagi #RTI Activist #Whistle Blower', 'screen_name': 'RakeshK35974444', 'location': 'वसुंधरा, गाज़ियाबाद', 'description': 'Indian', 'url': None, 'entities': {'description': {'urls': []}}, 'protected': False, 'followers_count': 3995, 'friends_count': 2741, 'listed_count': 2, 'created_at': 'Tue Sep 10 15:58:42 +0000 2019', 'favourites_count': 79241, 'utc_offset': None, 'time_zone': None, 'geo_enabled': True, 'verified': False, 'statuses_count': 273197, 'lang': None, 'contributors_enabled': False, 'is_translator': False, 'is_translation_enabled': False, 'profile_background_color': 'F5F8FA', 'profile_background_image_url': None, 'profile_background_image_url_https': None, 'profile_background_tile': False, 'profile_image_url': 'http://pbs.twimg.com/profile_images/1171453088093200385/Dj_3P6pi_normal.jpg', 'profile_image_url_https': 'https://pbs.twimg.com/profile_images/1171453088093200385/Dj_3P6pi_normal.jpg', 'profile_link_color': '1DA1F2', 'profile_sidebar_border_color': 'C0DEED', 'profile_sidebar_fill_color': 'DDEEF6', 'profile_text_color': '333333', 'profile_use_background_image': True, 'has_extended_profile': True, 'default_profile': True, 'default_profile_image': False, 'following': False, 'follow_request_sent': False, 'notifications': False, 'translator_type': 'none'}, 'geo': None, 'coordinates': None, 'place': None, 'contributors': None, 'retweeted_status': {'created_at': 'Wed Jun 17 18:37:50 +0000 2020', 'id': 1273323987456516098, 'id_str': '1273323987456516098', 'text': 'Urgently need B+ blood for plasma therapy for a covid patient at Moolchand hospital.... please whatsapp/text on 999… https://t.co/WzKg74gQZ3', 'truncated': True, 'entities': {'hashtags': [], 'symbols': [], 'user_mentions': [], 'urls': [{'url': 'https://t.co/WzKg74gQZ3', 'expanded_url': 'https://twitter.com/i/web/status/1273323987456516098', 'display_url': 'twitter.com/i/web/status/1…', 'indices': [117, 140]}]}, 'metadata': {'iso_language_code': 'en', 'result_type': 'recent'}, 'source': '<a href=\"http://twitter.com/download/iphone\" rel=\"nofollow\">Twitter for iPhone</a>', 'in_reply_to_status_id': None, 'in_reply_to_status_id_str': None, 'in_reply_to_user_id': None, 'in_reply_to_user_id_str': None, 'in_reply_to_screen_name': None, 'user': {'id': 572756869, 'id_str': '572756869', 'name': 'Sahil chawla', 'screen_name': 'sahilchawla77', 'location': 'delhi', 'description': '', 'url': None, 'entities': {'description': {'urls': []}}, 'protected': False, 'followers_count': 10, 'friends_count': 156, 'listed_count': 0, 'created_at': 'Sun May 06 15:55:29 +0000 2012', 'favourites_count': 289, 'utc_offset': None, 'time_zone': None, 'geo_enabled': True, 'verified': False, 'statuses_count': 252, 'lang': None, 'contributors_enabled': False, 'is_translator': False, 'is_translation_enabled': False, 'profile_background_color': 'C0DEED', 'profile_background_image_url': 'http://abs.twimg.com/images/themes/theme1/bg.png', 'profile_background_image_url_https': 'https://abs.twimg.com/images/themes/theme1/bg.png', 'profile_background_tile': False, 'profile_image_url': 'http://pbs.twimg.com/profile_images/434714070990614528/KkyRdfJZ_normal.jpeg', 'profile_image_url_https': 'https://pbs.twimg.com/profile_images/434714070990614528/KkyRdfJZ_normal.jpeg', 'profile_banner_url': 'https://pbs.twimg.com/profile_banners/572756869/1392478886', 'profile_link_color': '1DA1F2', 'profile_sidebar_border_color': 'C0DEED', 'profile_sidebar_fill_color': 'DDEEF6', 'profile_text_color': '333333', 'profile_use_background_image': True, 'has_extended_profile': False, 'default_profile': True, 'default_profile_image': False, 'following': False, 'follow_request_sent': False, 'notifications': False, 'translator_type': 'none'}, 'geo': None, 'coordinates': None, 'place': None, 'contributors': None, 'is_quote_status': False, 'retweet_count': 47, 'favorite_count': 56, 'favorited': False, 'retweeted': False, 'lang': 'en'}, 'is_quote_status': False, 'retweet_count': 47, 'favorite_count': 0, 'favorited': False, 'retweeted': False, 'lang': 'en'}, {'created_at': 'Thu Jun 18 06:27:24 +0000 2020', 'id': 1273502557588119553, 'id_str': '1273502557588119553', 'text': 'Revving it up! In its new World Investment Report 2020, @UNCTAD says the global manufacture of goods was well on it… https://t.co/1XJUR1lkS2', 'truncated': True, 'entities': {'hashtags': [], 'symbols': [], 'user_mentions': [{'screen_name': 'UNCTAD', 'name': 'UNCTAD', 'id': 92263845, 'id_str': '92263845', 'indices': [56, 63]}], 'urls': [{'url': 'https://t.co/1XJUR1lkS2', 'expanded_url': 'https://twitter.com/i/web/status/1273502557588119553', 'display_url': 'twitter.com/i/web/status/1…', 'indices': [117, 140]}]}, 'metadata': {'iso_language_code': 'en', 'result_type': 'recent'}, 'source': '<a href=\"https://mobile.twitter.com\" rel=\"nofollow\">Twitter Web App</a>', 'in_reply_to_status_id': None, 'in_reply_to_status_id_str': None, 'in_reply_to_user_id': None, 'in_reply_to_user_id_str': None, 'in_reply_to_screen_name': None, 'user': {'id': 2646231974, 'id_str': '2646231974', 'name': 'KION Group', 'screen_name': 'kion_group', 'location': 'Frankfurt/Main, Deutschland', 'description': 'The #KION Group is a global leader in industrial trucks, related services and supply chain solutions. It is represented by its eight brand companies.', 'url': 'http://t.co/YNgl4hp1FW', 'entities': {'url': {'urls': [{'url': 'http://t.co/YNgl4hp1FW', 'expanded_url': 'http://www.kiongroup.com', 'display_url': 'kiongroup.com', 'indices': [0, 22]}]}, 'description': {'urls': []}}, 'protected': False, 'followers_count': 1682, 'friends_count': 352, 'listed_count': 125, 'created_at': 'Mon Jul 14 19:35:55 +0000 2014', 'favourites_count': 460, 'utc_offset': None, 'time_zone': None, 'geo_enabled': True, 'verified': False, 'statuses_count': 3564, 'lang': None, 'contributors_enabled': False, 'is_translator': False, 'is_translation_enabled': False, 'profile_background_color': 'BDB6B0', 'profile_background_image_url': 'http://abs.twimg.com/images/themes/theme17/bg.gif', 'profile_background_image_url_https': 'https://abs.twimg.com/images/themes/theme17/bg.gif', 'profile_background_tile': False, 'profile_image_url': 'http://pbs.twimg.com/profile_images/502066779590385665/YElxw-eg_normal.jpeg', 'profile_image_url_https': 'https://pbs.twimg.com/profile_images/502066779590385665/YElxw-eg_normal.jpeg', 'profile_banner_url': 'https://pbs.twimg.com/profile_banners/2646231974/1552298486', 'profile_link_color': '383633', 'profile_sidebar_border_color': 'FFFFFF', 'profile_sidebar_fill_color': 'DDEEF6', 'profile_text_color': '333333', 'profile_use_background_image': False, 'has_extended_profile': False, 'default_profile': False, 'default_profile_image': False, 'following': False, 'follow_request_sent': False, 'notifications': False, 'translator_type': 'none'}, 'geo': None, 'coordinates': None, 'place': None, 'contributors': None, 'is_quote_status': False, 'retweet_count': 0, 'favorite_count': 0, 'favorited': False, 'retweeted': False, 'possibly_sensitive': False, 'lang': 'en'}, {'created_at': 'Thu Jun 18 06:27:23 +0000 2020', 'id': 1273502553376866306, 'id_str': '1273502553376866306', 'text': 'RT @GkWqNVksTk2vwkA: #नजफगढ़ ओर #south_west जिले के महत्वपूर्ण नम्बर #COVID के लिये ।।\\n\\n@Vjdhankar1 @ManchNajafgarh @bjp4nazafgarh @Chandan…', 'truncated': False, 'entities': {'hashtags': [{'text': 'नजफगढ़', 'indices': [21, 28]}, {'text': 'south_west', 'indices': [32, 43]}, {'text': 'COVID', 'indices': [69, 75]}], 'symbols': [], 'user_mentions': [{'screen_name': 'GkWqNVksTk2vwkA', 'name': 'नजफगढ़ आले', 'id': 1268456519965663232, 'id_str': '1268456519965663232', 'indices': [3, 19]}, {'screen_name': 'Vjdhankar1', 'name': 'Vjdhankar', 'id': 1031582748681490438, 'id_str': '1031582748681490438', 'indices': [88, 99]}, {'screen_name': 'ManchNajafgarh', 'name': 'नजफगढ़ विकास मंच', 'id': 965418362951086080, 'id_str': '965418362951086080', 'indices': [100, 115]}, {'screen_name': 'bjp4nazafgarh', 'name': 'भाजपा नजफगढ़ जिला, दिल्ली प्रदेश।', 'id': 1098516195421040640, 'id_str': '1098516195421040640', 'indices': [116, 130]}], 'urls': []}, 'metadata': {'iso_language_code': 'hi', 'result_type': 'recent'}, 'source': '<a href=\"http://twitter.com/download/android\" rel=\"nofollow\">Twitter for Android</a>', 'in_reply_to_status_id': None, 'in_reply_to_status_id_str': None, 'in_reply_to_user_id': None, 'in_reply_to_user_id_str': None, 'in_reply_to_screen_name': None, 'user': {'id': 1271020872984219650, 'id_str': '1271020872984219650', 'name': 'Dushyant Ka Diwana', 'screen_name': 'DushyantKa', 'location': '', 'description': '', 'url': None, 'entities': {'description': {'urls': []}}, 'protected': False, 'followers_count': 79, 'friends_count': 195, 'listed_count': 0, 'created_at': 'Thu Jun 11 10:06:24 +0000 2020', 'favourites_count': 553, 'utc_offset': None, 'time_zone': None, 'geo_enabled': False, 'verified': False, 'statuses_count': 324, 'lang': None, 'contributors_enabled': False, 'is_translator': False, 'is_translation_enabled': False, 'profile_background_color': 'F5F8FA', 'profile_background_image_url': None, 'profile_background_image_url_https': None, 'profile_background_tile': False, 'profile_image_url': 'http://pbs.twimg.com/profile_images/1271021053913907200/sgJZg--V_normal.jpg', 'profile_image_url_https': 'https://pbs.twimg.com/profile_images/1271021053913907200/sgJZg--V_normal.jpg', 'profile_link_color': '1DA1F2', 'profile_sidebar_border_color': 'C0DEED', 'profile_sidebar_fill_color': 'DDEEF6', 'profile_text_color': '333333', 'profile_use_background_image': True, 'has_extended_profile': False, 'default_profile': True, 'default_profile_image': False, 'following': False, 'follow_request_sent': False, 'notifications': False, 'translator_type': 'none'}, 'geo': None, 'coordinates': None, 'place': None, 'contributors': None, 'retweeted_status': {'created_at': 'Wed Jun 17 17:19:29 +0000 2020', 'id': 1273304271790825473, 'id_str': '1273304271790825473', 'text': '#नजफगढ़ ओर #south_west जिले के महत्वपूर्ण नम्बर #COVID के लिये ।।\\n\\n@Vjdhankar1 @ManchNajafgarh @bjp4nazafgarh… https://t.co/h4OAeGICAX', 'truncated': True, 'entities': {'hashtags': [{'text': 'नजफगढ़', 'indices': [0, 7]}, {'text': 'south_west', 'indices': [11, 22]}, {'text': 'COVID', 'indices': [48, 54]}], 'symbols': [], 'user_mentions': [{'screen_name': 'Vjdhankar1', 'name': 'Vjdhankar', 'id': 1031582748681490438, 'id_str': '1031582748681490438', 'indices': [67, 78]}, {'screen_name': 'ManchNajafgarh', 'name': 'नजफगढ़ विकास मंच', 'id': 965418362951086080, 'id_str': '965418362951086080', 'indices': [79, 94]}, {'screen_name': 'bjp4nazafgarh', 'name': 'भाजपा नजफगढ़ जिला, दिल्ली प्रदेश।', 'id': 1098516195421040640, 'id_str': '1098516195421040640', 'indices': [95, 109]}], 'urls': [{'url': 'https://t.co/h4OAeGICAX', 'expanded_url': 'https://twitter.com/i/web/status/1273304271790825473', 'display_url': 'twitter.com/i/web/status/1…', 'indices': [111, 134]}]}, 'metadata': {'iso_language_code': 'hi', 'result_type': 'recent'}, 'source': '<a href=\"http://twitter.com/download/android\" rel=\"nofollow\">Twitter for Android</a>', 'in_reply_to_status_id': None, 'in_reply_to_status_id_str': None, 'in_reply_to_user_id': None, 'in_reply_to_user_id_str': None, 'in_reply_to_screen_name': None, 'user': {'id': 1268456519965663232, 'id_str': '1268456519965663232', 'name': 'नजफगढ़ आले', 'screen_name': 'GkWqNVksTk2vwkA', 'location': '', 'description': 'happy to help', 'url': None, 'entities': {'description': {'urls': []}}, 'protected': False, 'followers_count': 99, 'friends_count': 281, 'listed_count': 0, 'created_at': 'Thu Jun 04 08:16:59 +0000 2020', 'favourites_count': 626, 'utc_offset': None, 'time_zone': None, 'geo_enabled': False, 'verified': False, 'statuses_count': 260, 'lang': None, 'contributors_enabled': False, 'is_translator': False, 'is_translation_enabled': False, 'profile_background_color': 'F5F8FA', 'profile_background_image_url': None, 'profile_background_image_url_https': None, 'profile_background_tile': False, 'profile_image_url': 'http://pbs.twimg.com/profile_images/1268456869074362368/4p7ujsLs_normal.jpg', 'profile_image_url_https': 'https://pbs.twimg.com/profile_images/1268456869074362368/4p7ujsLs_normal.jpg', 'profile_link_color': '1DA1F2', 'profile_sidebar_border_color': 'C0DEED', 'profile_sidebar_fill_color': 'DDEEF6', 'profile_text_color': '333333', 'profile_use_background_image': True, 'has_extended_profile': False, 'default_profile': True, 'default_profile_image': False, 'following': False, 'follow_request_sent': False, 'notifications': False, 'translator_type': 'none'}, 'geo': None, 'coordinates': None, 'place': None, 'contributors': None, 'is_quote_status': False, 'retweet_count': 4, 'favorite_count': 11, 'favorited': False, 'retweeted': False, 'possibly_sensitive': False, 'lang': 'hi'}, 'is_quote_status': False, 'retweet_count': 4, 'favorite_count': 0, 'favorited': False, 'retweeted': False, 'lang': 'hi'}, {'created_at': 'Thu Jun 18 06:27:23 +0000 2020', 'id': 1273502551653179393, 'id_str': '1273502551653179393', 'text': 'RT @wef: COVID-19 affects men more than women and this could be the reason why, according to scientists https://t.co/qXhc1jHLOY #COVID-19 #…', 'truncated': False, 'entities': {'hashtags': [{'text': 'COVID', 'indices': [128, 134]}], 'symbols': [], 'user_mentions': [{'screen_name': 'wef', 'name': 'World Economic Forum', 'id': 5120691, 'id_str': '5120691', 'indices': [3, 7]}], 'urls': [{'url': 'https://t.co/qXhc1jHLOY', 'expanded_url': 'https://bit.ly/2Y7aPWr', 'display_url': 'bit.ly/2Y7aPWr', 'indices': [104, 127]}]}, 'metadata': {'iso_language_code': 'en', 'result_type': 'recent'}, 'source': '<a href=\"http://twitter.com/download/iphone\" rel=\"nofollow\">Twitter for iPhone</a>', 'in_reply_to_status_id': None, 'in_reply_to_status_id_str': None, 'in_reply_to_user_id': None, 'in_reply_to_user_id_str': None, 'in_reply_to_screen_name': None, 'user': {'id': 71877107, 'id_str': '71877107', 'name': 'WS Ameamu', 'screen_name': 'g_ohmzy', 'location': 'Anloga Junction • BHIMNATION', 'description': 'Systems  and Game Theorist #IoT #4IR #Fintech #Dataism 4:20 #Oddfellows Dad 2.0 #ComputerScienceEdu #Crypto #TransCyborg', 'url': 'https://t.co/920nyvwQlV', 'entities': {'url': {'urls': [{'url': 'https://t.co/920nyvwQlV', 'expanded_url': 'http://www.generalohmzy.wordpress.com', 'display_url': 'generalohmzy.wordpress.com', 'indices': [0, 23]}]}, 'description': {'urls': []}}, 'protected': False, 'followers_count': 1225, 'friends_count': 1223, 'listed_count': 59, 'created_at': 'Sat Sep 05 19:49:34 +0000 2009', 'favourites_count': 348, 'utc_offset': None, 'time_zone': None, 'geo_enabled': True, 'verified': False, 'statuses_count': 12267, 'lang': None, 'contributors_enabled': False, 'is_translator': False, 'is_translation_enabled': False, 'profile_background_color': 'FFCC4D', 'profile_background_image_url': 'http://abs.twimg.com/images/themes/theme1/bg.png', 'profile_background_image_url_https': 'https://abs.twimg.com/images/themes/theme1/bg.png', 'profile_background_tile': True, 'profile_image_url': 'http://pbs.twimg.com/profile_images/1257000258996973568/2kD5Lmmn_normal.jpg', 'profile_image_url_https': 'https://pbs.twimg.com/profile_images/1257000258996973568/2kD5Lmmn_normal.jpg', 'profile_banner_url': 'https://pbs.twimg.com/profile_banners/71877107/1587915796', 'profile_link_color': 'FA743E', 'profile_sidebar_border_color': '000000', 'profile_sidebar_fill_color': 'DDEEF6', 'profile_text_color': '333333', 'profile_use_background_image': True, 'has_extended_profile': True, 'default_profile': False, 'default_profile_image': False, 'following': False, 'follow_request_sent': False, 'notifications': False, 'translator_type': 'none'}, 'geo': None, 'coordinates': None, 'place': None, 'contributors': None, 'retweeted_status': {'created_at': 'Thu Jun 18 05:00:23 +0000 2020', 'id': 1273480656916447232, 'id_str': '1273480656916447232', 'text': 'COVID-19 affects men more than women and this could be the reason why, according to scientists… https://t.co/hqJHTzaijU', 'truncated': True, 'entities': {'hashtags': [], 'symbols': [], 'user_mentions': [], 'urls': [{'url': 'https://t.co/hqJHTzaijU', 'expanded_url': 'https://twitter.com/i/web/status/1273480656916447232', 'display_url': 'twitter.com/i/web/status/1…', 'indices': [96, 119]}]}, 'metadata': {'iso_language_code': 'en', 'result_type': 'recent'}, 'source': '<a href=\"https://buffer.com\" rel=\"nofollow\">Buffer</a>', 'in_reply_to_status_id': None, 'in_reply_to_status_id_str': None, 'in_reply_to_user_id': None, 'in_reply_to_user_id_str': None, 'in_reply_to_screen_name': None, 'user': {'id': 5120691, 'id_str': '5120691', 'name': 'World Economic Forum', 'screen_name': 'wef', 'location': 'Geneva, Switzerland', 'description': 'The international organization for public private cooperation. #wef21', 'url': 'https://t.co/QP0DqZaM6z', 'entities': {'url': {'urls': [{'url': 'https://t.co/QP0DqZaM6z', 'expanded_url': 'https://www.weforum.org/', 'display_url': 'weforum.org', 'indices': [0, 23]}]}, 'description': {'urls': []}}, 'protected': False, 'followers_count': 3804594, 'friends_count': 506, 'listed_count': 25743, 'created_at': 'Wed Apr 18 14:00:19 +0000 2007', 'favourites_count': 1787, 'utc_offset': None, 'time_zone': None, 'geo_enabled': True, 'verified': True, 'statuses_count': 152744, 'lang': None, 'contributors_enabled': False, 'is_translator': False, 'is_translation_enabled': False, 'profile_background_color': 'FCFCFC', 'profile_background_image_url': 'http://abs.twimg.com/images/themes/theme1/bg.png', 'profile_background_image_url_https': 'https://abs.twimg.com/images/themes/theme1/bg.png', 'profile_background_tile': False, 'profile_image_url': 'http://pbs.twimg.com/profile_images/565498192171507712/r2Hb2gvX_normal.png', 'profile_image_url_https': 'https://pbs.twimg.com/profile_images/565498192171507712/r2Hb2gvX_normal.png', 'profile_banner_url': 'https://pbs.twimg.com/profile_banners/5120691/1547196121', 'profile_link_color': '419FCF', 'profile_sidebar_border_color': 'FFFFFF', 'profile_sidebar_fill_color': '7AC3EE', 'profile_text_color': '000000', 'profile_use_background_image': False, 'has_extended_profile': False, 'default_profile': False, 'default_profile_image': False, 'following': False, 'follow_request_sent': False, 'notifications': False, 'translator_type': 'none'}, 'geo': None, 'coordinates': None, 'place': None, 'contributors': None, 'is_quote_status': False, 'retweet_count': 35, 'favorite_count': 78, 'favorited': False, 'retweeted': False, 'possibly_sensitive': False, 'lang': 'en'}, 'is_quote_status': False, 'retweet_count': 35, 'favorite_count': 0, 'favorited': False, 'retweeted': False, 'possibly_sensitive': False, 'lang': 'en'}, {'created_at': 'Thu Jun 18 06:27:20 +0000 2020', 'id': 1273502540299071488, 'id_str': '1273502540299071488', 'text': '@kiranshaw @rajivksharma @VidyaKrishnan @ICMRDELHI Shameful to defend your profiteering scandal in #covid times by… https://t.co/rGugbLAzNt', 'truncated': True, 'entities': {'hashtags': [{'text': 'covid', 'indices': [99, 105]}], 'symbols': [], 'user_mentions': [{'screen_name': 'kiranshaw', 'name': 'Kiran Mazumdar Shaw', 'id': 145607857, 'id_str': '145607857', 'indices': [0, 10]}, {'screen_name': 'rajivksharma', 'name': 'Rajiv Sharma', 'id': 19178421, 'id_str': '19178421', 'indices': [11, 24]}, {'screen_name': 'VidyaKrishnan', 'name': 'Vidya', 'id': 408467423, 'id_str': '408467423', 'indices': [25, 39]}, {'screen_name': 'ICMRDELHI', 'name': 'ICMR', 'id': 2695241174, 'id_str': '2695241174', 'indices': [40, 50]}], 'urls': [{'url': 'https://t.co/rGugbLAzNt', 'expanded_url': 'https://twitter.com/i/web/status/1273502540299071488', 'display_url': 'twitter.com/i/web/status/1…', 'indices': [116, 139]}]}, 'metadata': {'iso_language_code': 'en', 'result_type': 'recent'}, 'source': '<a href=\"http://twitter.com/download/android\" rel=\"nofollow\">Twitter for Android</a>', 'in_reply_to_status_id': 1273489502745423872, 'in_reply_to_status_id_str': '1273489502745423872', 'in_reply_to_user_id': 145607857, 'in_reply_to_user_id_str': '145607857', 'in_reply_to_screen_name': 'kiranshaw', 'user': {'id': 187510655, 'id_str': '187510655', 'name': 'PEK\\u200f\\u200e\\u200eجین', 'screen_name': 'Jayan_korba', 'location': '', 'description': '', 'url': None, 'entities': {'description': {'urls': []}}, 'protected': False, 'followers_count': 440, 'friends_count': 562, 'listed_count': 4, 'created_at': 'Mon Sep 06 12:51:47 +0000 2010', 'favourites_count': 145854, 'utc_offset': None, 'time_zone': None, 'geo_enabled': False, 'verified': False, 'statuses_count': 67948, 'lang': None, 'contributors_enabled': False, 'is_translator': False, 'is_translation_enabled': False, 'profile_background_color': 'C0DEED', 'profile_background_image_url': 'http://abs.twimg.com/images/themes/theme1/bg.png', 'profile_background_image_url_https': 'https://abs.twimg.com/images/themes/theme1/bg.png', 'profile_background_tile': True, 'profile_image_url': 'http://pbs.twimg.com/profile_images/1261300033959452673/io5eNL_l_normal.jpg', 'profile_image_url_https': 'https://pbs.twimg.com/profile_images/1261300033959452673/io5eNL_l_normal.jpg', 'profile_banner_url': 'https://pbs.twimg.com/profile_banners/187510655/1590241090', 'profile_link_color': '0084B4', 'profile_sidebar_border_color': 'C0DEED', 'profile_sidebar_fill_color': 'DDEEF6', 'profile_text_color': '333333', 'profile_use_background_image': True, 'has_extended_profile': False, 'default_profile': False, 'default_profile_image': False, 'following': False, 'follow_request_sent': False, 'notifications': False, 'translator_type': 'none'}, 'geo': None, 'coordinates': None, 'place': None, 'contributors': None, 'is_quote_status': False, 'retweet_count': 0, 'favorite_count': 0, 'favorited': False, 'retweeted': False, 'lang': 'en'}, {'created_at': 'Thu Jun 18 06:27:19 +0000 2020', 'id': 1273502534800375808, 'id_str': '1273502534800375808', 'text': 'RT @mauricedehond: Ook in de andere landen bij de demonstraties a la die bij ons op de Dam zijn er GEEN TOENAMES geweest van de besmettinge…', 'truncated': False, 'entities': {'hashtags': [], 'symbols': [], 'user_mentions': [{'screen_name': 'mauricedehond', 'name': 'Maurice de Hond', 'id': 39232421, 'id_str': '39232421', 'indices': [3, 17]}], 'urls': []}, 'metadata': {'iso_language_code': 'nl', 'result_type': 'recent'}, 'source': '<a href=\"https://mobile.twitter.com\" rel=\"nofollow\">Twitter Web App</a>', 'in_reply_to_status_id': None, 'in_reply_to_status_id_str': None, 'in_reply_to_user_id': None, 'in_reply_to_user_id_str': None, 'in_reply_to_screen_name': None, 'user': {'id': 1203102392725757952, 'id_str': '1203102392725757952', 'name': 'Édith Wassenaar ن', 'screen_name': 'EdithWassenaar', 'location': '', 'description': 'Je suis ن  I speak FR-EN-NL\\n...And to quote my husband @JetzeWassenaar: \"There is no rational argument for the world wide police state other than prophecy. \"', 'url': None, 'entities': {'description': {'urls': []}}, 'protected': False, 'followers_count': 23, 'friends_count': 29, 'listed_count': 0, 'created_at': 'Sat Dec 07 00:02:48 +0000 2019', 'favourites_count': 1241, 'utc_offset': None, 'time_zone': None, 'geo_enabled': False, 'verified': False, 'statuses_count': 1085, 'lang': None, 'contributors_enabled': False, 'is_translator': False, 'is_translation_enabled': False, 'profile_background_color': 'F5F8FA', 'profile_background_image_url': None, 'profile_background_image_url_https': None, 'profile_background_tile': False, 'profile_image_url': 'http://pbs.twimg.com/profile_images/1203102745139589121/Kc-OaYMV_normal.jpg', 'profile_image_url_https': 'https://pbs.twimg.com/profile_images/1203102745139589121/Kc-OaYMV_normal.jpg', 'profile_banner_url': 'https://pbs.twimg.com/profile_banners/1203102392725757952/1592296106', 'profile_link_color': '1DA1F2', 'profile_sidebar_border_color': 'C0DEED', 'profile_sidebar_fill_color': 'DDEEF6', 'profile_text_color': '333333', 'profile_use_background_image': True, 'has_extended_profile': False, 'default_profile': True, 'default_profile_image': False, 'following': False, 'follow_request_sent': False, 'notifications': False, 'translator_type': 'none'}, 'geo': None, 'coordinates': None, 'place': None, 'contributors': None, 'retweeted_status': {'created_at': 'Wed Jun 17 13:21:55 +0000 2020', 'id': 1273244485435228160, 'id_str': '1273244485435228160', 'text': 'Ook in de andere landen bij de demonstraties a la die bij ons op de Dam zijn er GEEN TOENAMES geweest van de besmet… https://t.co/hSSpFsEqyW', 'truncated': True, 'entities': {'hashtags': [], 'symbols': [], 'user_mentions': [], 'urls': [{'url': 'https://t.co/hSSpFsEqyW', 'expanded_url': 'https://twitter.com/i/web/status/1273244485435228160', 'display_url': 'twitter.com/i/web/status/1…', 'indices': [117, 140]}]}, 'metadata': {'iso_language_code': 'nl', 'result_type': 'recent'}, 'source': '<a href=\"https://about.twitter.com/products/tweetdeck\" rel=\"nofollow\">TweetDeck</a>', 'in_reply_to_status_id': None, 'in_reply_to_status_id_str': None, 'in_reply_to_user_id': None, 'in_reply_to_user_id_str': None, 'in_reply_to_screen_name': None, 'user': {'id': 39232421, 'id_str': '39232421', 'name': 'Maurice de Hond', 'screen_name': 'mauricedehond', 'location': '52.326147,4.855987', 'description': 'Echtgenoot, vader, grootvader', 'url': 'http://t.co/FOD27H09EC', 'entities': {'url': {'urls': [{'url': 'http://t.co/FOD27H09EC', 'expanded_url': 'http://www.mauricedehond.nl', 'display_url': 'mauricedehond.nl', 'indices': [0, 22]}]}, 'description': {'urls': []}}, 'protected': False, 'followers_count': 89791, 'friends_count': 217, 'listed_count': 1405, 'created_at': 'Mon May 11 11:18:30 +0000 2009', 'favourites_count': 430, 'utc_offset': None, 'time_zone': None, 'geo_enabled': False, 'verified': False, 'statuses_count': 6783, 'lang': None, 'contributors_enabled': False, 'is_translator': False, 'is_translation_enabled': False, 'profile_background_color': 'A3A3A3', 'profile_background_image_url': 'http://abs.twimg.com/images/themes/theme1/bg.png', 'profile_background_image_url_https': 'https://abs.twimg.com/images/themes/theme1/bg.png', 'profile_background_tile': True, 'profile_image_url': 'http://pbs.twimg.com/profile_images/1268408052446830592/U56vGlBl_normal.jpg', 'profile_image_url_https': 'https://pbs.twimg.com/profile_images/1268408052446830592/U56vGlBl_normal.jpg', 'profile_banner_url': 'https://pbs.twimg.com/profile_banners/39232421/1591247021', 'profile_link_color': '292929', 'profile_sidebar_border_color': '140800', 'profile_sidebar_fill_color': 'E0E0E0', 'profile_text_color': '5C5C5C', 'profile_use_background_image': True, 'has_extended_profile': False, 'default_profile': False, 'default_profile_image': False, 'following': False, 'follow_request_sent': False, 'notifications': False, 'translator_type': 'none'}, 'geo': None, 'coordinates': None, 'place': None, 'contributors': None, 'is_quote_status': False, 'retweet_count': 324, 'favorite_count': 713, 'favorited': False, 'retweeted': False, 'possibly_sensitive': False, 'lang': 'nl'}, 'is_quote_status': False, 'retweet_count': 324, 'favorite_count': 0, 'favorited': False, 'retweeted': False, 'lang': 'nl'}, {'created_at': 'Thu Jun 18 06:27:10 +0000 2020', 'id': 1273502498746060800, 'id_str': '1273502498746060800', 'text': 'RT @SenJohnThune: In recent months, #China has cracked down on #HongKong’s autonomy, tried to cover up its negligent response to #COVID, an…', 'truncated': False, 'entities': {'hashtags': [{'text': 'China', 'indices': [36, 42]}, {'text': 'HongKong', 'indices': [63, 72]}, {'text': 'COVID', 'indices': [129, 135]}], 'symbols': [], 'user_mentions': [{'screen_name': 'SenJohnThune', 'name': 'Senator John Thune', 'id': 296361085, 'id_str': '296361085', 'indices': [3, 16]}], 'urls': []}, 'metadata': {'iso_language_code': 'en', 'result_type': 'recent'}, 'source': '<a href=\"http://twitter.com/download/iphone\" rel=\"nofollow\">Twitter for iPhone</a>', 'in_reply_to_status_id': None, 'in_reply_to_status_id_str': None, 'in_reply_to_user_id': None, 'in_reply_to_user_id_str': None, 'in_reply_to_screen_name': None, 'user': {'id': 145172566, 'id_str': '145172566', 'name': 'Rex Cheung', 'screen_name': 'rexcheung', 'location': 'Toronto, Ontario', 'description': '🇨🇦 Canadian support freedom of speech, love the world, respect others!\\nStay Safe!', 'url': None, 'entities': {'description': {'urls': []}}, 'protected': False, 'followers_count': 66, 'friends_count': 34, 'listed_count': 0, 'created_at': 'Tue May 18 08:46:57 +0000 2010', 'favourites_count': 18385, 'utc_offset': None, 'time_zone': None, 'geo_enabled': False, 'verified': False, 'statuses_count': 22589, 'lang': None, 'contributors_enabled': False, 'is_translator': False, 'is_translation_enabled': False, 'profile_background_color': 'C0DEED', 'profile_background_image_url': 'http://abs.twimg.com/images/themes/theme1/bg.png', 'profile_background_image_url_https': 'https://abs.twimg.com/images/themes/theme1/bg.png', 'profile_background_tile': False, 'profile_image_url': 'http://pbs.twimg.com/profile_images/378800000497549566/8da44adba41e47a7805a0998bdba959e_normal.png', 'profile_image_url_https': 'https://pbs.twimg.com/profile_images/378800000497549566/8da44adba41e47a7805a0998bdba959e_normal.png', 'profile_banner_url': 'https://pbs.twimg.com/profile_banners/145172566/1570096970', 'profile_link_color': '1DA1F2', 'profile_sidebar_border_color': 'C0DEED', 'profile_sidebar_fill_color': 'DDEEF6', 'profile_text_color': '333333', 'profile_use_background_image': True, 'has_extended_profile': False, 'default_profile': True, 'default_profile_image': False, 'following': False, 'follow_request_sent': False, 'notifications': False, 'translator_type': 'none'}, 'geo': None, 'coordinates': None, 'place': None, 'contributors': None, 'retweeted_status': {'created_at': 'Wed Jun 17 23:06:53 +0000 2020', 'id': 1273391695124717570, 'id_str': '1273391695124717570', 'text': 'In recent months, #China has cracked down on #HongKong’s autonomy, tried to cover up its negligent response to… https://t.co/XP8LMYghmB', 'truncated': True, 'entities': {'hashtags': [{'text': 'China', 'indices': [18, 24]}, {'text': 'HongKong', 'indices': [45, 54]}], 'symbols': [], 'user_mentions': [], 'urls': [{'url': 'https://t.co/XP8LMYghmB', 'expanded_url': 'https://twitter.com/i/web/status/1273391695124717570', 'display_url': 'twitter.com/i/web/status/1…', 'indices': [112, 135]}]}, 'metadata': {'iso_language_code': 'en', 'result_type': 'recent'}, 'source': '<a href=\"https://mobile.twitter.com\" rel=\"nofollow\">Twitter Web App</a>', 'in_reply_to_status_id': None, 'in_reply_to_status_id_str': None, 'in_reply_to_user_id': None, 'in_reply_to_user_id_str': None, 'in_reply_to_screen_name': None, 'user': {'id': 296361085, 'id_str': '296361085', 'name': 'Senator John Thune', 'screen_name': 'SenJohnThune', 'location': '', 'description': 'Senate Majority Whip. Representing South Dakota. Father. Grandfather. Husband. Sports Fan. Avid Outdoorsman. Hates Shoveling Snow.\\nhttps://t.co/CAJybse6Mc', 'url': 'http://t.co/OiwOiAFGGw', 'entities': {'url': {'urls': [{'url': 'http://t.co/OiwOiAFGGw', 'expanded_url': 'http://thune.senate.gov', 'display_url': 'thune.senate.gov', 'indices': [0, 22]}]}, 'description': {'urls': [{'url': 'https://t.co/CAJybse6Mc', 'expanded_url': 'http://instagram.com/senjohnthune', 'display_url': 'instagram.com/senjohnthune', 'indices': [131, 154]}]}}, 'protected': False, 'followers_count': 101376, 'friends_count': 345, 'listed_count': 2310, 'created_at': 'Tue May 10 16:41:48 +0000 2011', 'favourites_count': 97, 'utc_offset': None, 'time_zone': None, 'geo_enabled': True, 'verified': True, 'statuses_count': 6198, 'lang': None, 'contributors_enabled': False, 'is_translator': False, 'is_translation_enabled': False, 'profile_background_color': 'F8F4E4', 'profile_background_image_url': 'http://abs.twimg.com/images/themes/theme1/bg.png', 'profile_background_image_url_https': 'https://abs.twimg.com/images/themes/theme1/bg.png', 'profile_background_tile': False, 'profile_image_url': 'http://pbs.twimg.com/profile_images/1232706878242729985/INGF333L_normal.jpg', 'profile_image_url_https': 'https://pbs.twimg.com/profile_images/1232706878242729985/INGF333L_normal.jpg', 'profile_banner_url': 'https://pbs.twimg.com/profile_banners/296361085/1582735199', 'profile_link_color': '264B59', 'profile_sidebar_border_color': '990000', 'profile_sidebar_fill_color': '333333', 'profile_text_color': '808080', 'profile_use_background_image': True, 'has_extended_profile': False, 'default_profile': False, 'default_profile_image': False, 'following': False, 'follow_request_sent': False, 'notifications': False, 'translator_type': 'none'}, 'geo': None, 'coordinates': None, 'place': None, 'contributors': None, 'is_quote_status': False, 'retweet_count': 261, 'favorite_count': 311, 'favorited': False, 'retweeted': False, 'possibly_sensitive': False, 'lang': 'en'}, 'is_quote_status': False, 'retweet_count': 261, 'favorite_count': 0, 'favorited': False, 'retweeted': False, 'lang': 'en'}, {'created_at': 'Thu Jun 18 06:27:09 +0000 2020', 'id': 1273502492945350656, 'id_str': '1273502492945350656', 'text': 'RT @ArmTeerapol: \"โยนกันไปมา ไหนบอกจะช่วยประชาชน สุดท้ายสำนักงานประกันสังคมบอกว่าให้ไปขอที่ไทยชนะกระทรวงการคลัง กระทรวงการคลังก็ตอบมาให้ไปข…', 'truncated': False, 'entities': {'hashtags': [], 'symbols': [], 'user_mentions': [{'screen_name': 'ArmTeerapol', 'name': 'Arm teerapol', 'id': 117772853, 'id_str': '117772853', 'indices': [3, 15]}], 'urls': []}, 'metadata': {'iso_language_code': 'th', 'result_type': 'recent'}, 'source': '<a href=\"http://twitter.com/download/android\" rel=\"nofollow\">Twitter for Android</a>', 'in_reply_to_status_id': None, 'in_reply_to_status_id_str': None, 'in_reply_to_user_id': None, 'in_reply_to_user_id_str': None, 'in_reply_to_screen_name': None, 'user': {'id': 178768476, 'id_str': '178768476', 'name': 'มะม่วงยำปลากรอบ', 'screen_name': 'bb00504', 'location': '', 'description': 'รู้เฟื่องเรื่องฟุตบอล', 'url': None, 'entities': {'description': {'urls': []}}, 'protected': False, 'followers_count': 159, 'friends_count': 864, 'listed_count': 11, 'created_at': 'Sun Aug 15 16:58:53 +0000 2010', 'favourites_count': 7616, 'utc_offset': None, 'time_zone': None, 'geo_enabled': True, 'verified': False, 'statuses_count': 189819, 'lang': None, 'contributors_enabled': False, 'is_translator': False, 'is_translation_enabled': False, 'profile_background_color': 'C0DEED', 'profile_background_image_url': 'http://abs.twimg.com/images/themes/theme1/bg.png', 'profile_background_image_url_https': 'https://abs.twimg.com/images/themes/theme1/bg.png', 'profile_background_tile': False, 'profile_image_url': 'http://pbs.twimg.com/profile_images/614134685896187905/2eul2mFy_normal.jpg', 'profile_image_url_https': 'https://pbs.twimg.com/profile_images/614134685896187905/2eul2mFy_normal.jpg', 'profile_banner_url': 'https://pbs.twimg.com/profile_banners/178768476/1460146481', 'profile_link_color': '1DA1F2', 'profile_sidebar_border_color': 'C0DEED', 'profile_sidebar_fill_color': 'DDEEF6', 'profile_text_color': '333333', 'profile_use_background_image': True, 'has_extended_profile': False, 'default_profile': True, 'default_profile_image': False, 'following': False, 'follow_request_sent': False, 'notifications': False, 'translator_type': 'none'}, 'geo': None, 'coordinates': None, 'place': None, 'contributors': None, 'retweeted_status': {'created_at': 'Thu Jun 18 04:45:39 +0000 2020', 'id': 1273476948212080640, 'id_str': '1273476948212080640', 'text': '\"โยนกันไปมา ไหนบอกจะช่วยประชาชน สุดท้ายสำนักงานประกันสังคมบอกว่าให้ไปขอที่ไทยชนะกระทรวงการคลัง กระทรวงการคลังก็ตอบม… https://t.co/ZRFEvF00UW', 'truncated': True, 'entities': {'hashtags': [], 'symbols': [], 'user_mentions': [], 'urls': [{'url': 'https://t.co/ZRFEvF00UW', 'expanded_url': 'https://twitter.com/i/web/status/1273476948212080640', 'display_url': 'twitter.com/i/web/status/1…', 'indices': [117, 140]}]}, 'metadata': {'iso_language_code': 'th', 'result_type': 'recent'}, 'source': '<a href=\"https://mobile.twitter.com\" rel=\"nofollow\">Twitter Web App</a>', 'in_reply_to_status_id': None, 'in_reply_to_status_id_str': None, 'in_reply_to_user_id': None, 'in_reply_to_user_id_str': None, 'in_reply_to_screen_name': None, 'user': {'id': 117772853, 'id_str': '117772853', 'name': 'Arm teerapol', 'screen_name': 'ArmTeerapol', 'location': '', 'description': 'Poitical Photographers', 'url': 'https://t.co/z4cGJlCSmD', 'entities': {'url': {'urls': [{'url': 'https://t.co/z4cGJlCSmD', 'expanded_url': 'http://www.tv24.in.th', 'display_url': 'tv24.in.th', 'indices': [0, 23]}]}, 'description': {'urls': []}}, 'protected': False, 'followers_count': 3900, 'friends_count': 2237, 'listed_count': 17, 'created_at': 'Fri Feb 26 15:25:28 +0000 2010', 'favourites_count': 979, 'utc_offset': None, 'time_zone': None, 'geo_enabled': False, 'verified': False, 'statuses_count': 46036, 'lang': None, 'contributors_enabled': False, 'is_translator': False, 'is_translation_enabled': True, 'profile_background_color': '1A1B1F', 'profile_background_image_url': 'http://abs.twimg.com/images/themes/theme9/bg.gif', 'profile_background_image_url_https': 'https://abs.twimg.com/images/themes/theme9/bg.gif', 'profile_background_tile': False, 'profile_image_url': 'http://pbs.twimg.com/profile_images/1222409404248518656/Ck-JUDGk_normal.jpg', 'profile_image_url_https': 'https://pbs.twimg.com/profile_images/1222409404248518656/Ck-JUDGk_normal.jpg', 'profile_banner_url': 'https://pbs.twimg.com/profile_banners/117772853/1580281037', 'profile_link_color': '2FC2EF', 'profile_sidebar_border_color': '181A1E', 'profile_sidebar_fill_color': '252429', 'profile_text_color': '666666', 'profile_use_background_image': True, 'has_extended_profile': False, 'default_profile': False, 'default_profile_image': False, 'following': False, 'follow_request_sent': False, 'notifications': False, 'translator_type': 'none'}, 'geo': None, 'coordinates': None, 'place': None, 'contributors': None, 'is_quote_status': False, 'retweet_count': 13, 'favorite_count': 16, 'favorited': False, 'retweeted': False, 'possibly_sensitive': False, 'lang': 'th'}, 'is_quote_status': False, 'retweet_count': 13, 'favorite_count': 0, 'favorited': False, 'retweeted': False, 'lang': 'th'}, {'created_at': 'Thu Jun 18 06:27:03 +0000 2020', 'id': 1273502468828286977, 'id_str': '1273502468828286977', 'text': 'RT @VanessaFreireV5: Nuestra posición como @CompromisoRC5 es clara y contundente \"Rechazamos el cambio del Calendario electoral\", el país n…', 'truncated': False, 'entities': {'hashtags': [], 'symbols': [], 'user_mentions': [{'screen_name': 'VanessaFreireV5', 'name': 'Vanessa Freire', 'id': 721802724451479552, 'id_str': '721802724451479552', 'indices': [3, 19]}, {'screen_name': 'CompromisoRC5', 'name': 'Compromiso Social RC5', 'id': 957643794, 'id_str': '957643794', 'indices': [43, 57]}], 'urls': []}, 'metadata': {'iso_language_code': 'es', 'result_type': 'recent'}, 'source': '<a href=\"https://mobile.twitter.com\" rel=\"nofollow\">Twitter Web App</a>', 'in_reply_to_status_id': None, 'in_reply_to_status_id_str': None, 'in_reply_to_user_id': None, 'in_reply_to_user_id_str': None, 'in_reply_to_screen_name': None, 'user': {'id': 196748421, 'id_str': '196748421', 'name': 'El Agrónomo', 'screen_name': 'el_agroecht', 'location': '', 'description': 'La democracia lleva el  mas bello nombre que existe: IGUALDAD🌱Ingeniería Agronómica🚜 👉Filántropo👥 ✌️🇪🇨⚽️ ®️©️🖐🏽', 'url': None, 'entities': {'description': {'urls': []}}, 'protected': False, 'followers_count': 298, 'friends_count': 2331, 'listed_count': 0, 'created_at': 'Wed Sep 29 20:37:12 +0000 2010', 'favourites_count': 4299, 'utc_offset': None, 'time_zone': None, 'geo_enabled': True, 'verified': False, 'statuses_count': 2938, 'lang': None, 'contributors_enabled': False, 'is_translator': False, 'is_translation_enabled': False, 'profile_background_color': '131516', 'profile_background_image_url': 'http://abs.twimg.com/images/themes/theme15/bg.png', 'profile_background_image_url_https': 'https://abs.twimg.com/images/themes/theme15/bg.png', 'profile_background_tile': False, 'profile_image_url': 'http://pbs.twimg.com/profile_images/1194620493736882176/28HgAZ26_normal.jpg', 'profile_image_url_https': 'https://pbs.twimg.com/profile_images/1194620493736882176/28HgAZ26_normal.jpg', 'profile_banner_url': 'https://pbs.twimg.com/profile_banners/196748421/1548284056', 'profile_link_color': '1B95E0', 'profile_sidebar_border_color': 'FFFFFF', 'profile_sidebar_fill_color': 'C0DFEC', 'profile_text_color': '333333', 'profile_use_background_image': True, 'has_extended_profile': True, 'default_profile': False, 'default_profile_image': False, 'following': False, 'follow_request_sent': False, 'notifications': False, 'translator_type': 'none'}, 'geo': None, 'coordinates': None, 'place': None, 'contributors': None, 'retweeted_status': {'created_at': 'Wed Jun 17 00:16:53 +0000 2020', 'id': 1273046925865037825, 'id_str': '1273046925865037825', 'text': 'Nuestra posición como @CompromisoRC5 es clara y contundente \"Rechazamos el cambio del Calendario electoral\", el paí… https://t.co/MAAmA4wFST', 'truncated': True, 'entities': {'hashtags': [], 'symbols': [], 'user_mentions': [{'screen_name': 'CompromisoRC5', 'name': 'Compromiso Social RC5', 'id': 957643794, 'id_str': '957643794', 'indices': [22, 36]}], 'urls': [{'url': 'https://t.co/MAAmA4wFST', 'expanded_url': 'https://twitter.com/i/web/status/1273046925865037825', 'display_url': 'twitter.com/i/web/status/1…', 'indices': [117, 140]}]}, 'metadata': {'iso_language_code': 'es', 'result_type': 'recent'}, 'source': '<a href=\"http://twitter.com/download/android\" rel=\"nofollow\">Twitter for Android</a>', 'in_reply_to_status_id': None, 'in_reply_to_status_id_str': None, 'in_reply_to_user_id': None, 'in_reply_to_user_id_str': None, 'in_reply_to_screen_name': None, 'user': {'id': 721802724451479552, 'id_str': '721802724451479552', 'name': 'Vanessa Freire', 'screen_name': 'VanessaFreireV5', 'location': 'Ecuador', 'description': 'Presidenta Nacional del Movimiento @CompromisoRC5 Piensa en grande y serás grande. FB: https://t.co/bMBVdtWWAx', 'url': None, 'entities': {'description': {'urls': [{'url': 'https://t.co/bMBVdtWWAx', 'expanded_url': 'https://www.facebook.com/VanessaFreireVergara/', 'display_url': 'facebook.com/VanessaFreireV…', 'indices': [87, 110]}]}}, 'protected': False, 'followers_count': 3678, 'friends_count': 858, 'listed_count': 9, 'created_at': 'Sun Apr 17 20:49:14 +0000 2016', 'favourites_count': 12168, 'utc_offset': None, 'time_zone': None, 'geo_enabled': True, 'verified': False, 'statuses_count': 7448, 'lang': None, 'contributors_enabled': False, 'is_translator': False, 'is_translation_enabled': False, 'profile_background_color': 'F5F8FA', 'profile_background_image_url': None, 'profile_background_image_url_https': None, 'profile_background_tile': False, 'profile_image_url': 'http://pbs.twimg.com/profile_images/1085934652441968641/QSL-fZ8t_normal.jpg', 'profile_image_url_https': 'https://pbs.twimg.com/profile_images/1085934652441968641/QSL-fZ8t_normal.jpg', 'profile_banner_url': 'https://pbs.twimg.com/profile_banners/721802724451479552/1563373386', 'profile_link_color': '1DA1F2', 'profile_sidebar_border_color': 'C0DEED', 'profile_sidebar_fill_color': 'DDEEF6', 'profile_text_color': '333333', 'profile_use_background_image': True, 'has_extended_profile': True, 'default_profile': True, 'default_profile_image': False, 'following': False, 'follow_request_sent': False, 'notifications': False, 'translator_type': 'none'}, 'geo': None, 'coordinates': None, 'place': None, 'contributors': None, 'is_quote_status': False, 'retweet_count': 356, 'favorite_count': 616, 'favorited': False, 'retweeted': False, 'possibly_sensitive': False, 'lang': 'es'}, 'is_quote_status': False, 'retweet_count': 356, 'favorite_count': 0, 'favorited': False, 'retweeted': False, 'lang': 'es'}, {'created_at': 'Thu Jun 18 06:27:00 +0000 2020', 'id': 1273502453145583617, 'id_str': '1273502453145583617', 'text': 'RT @airnewsalerts: Mizoram reports 9 new #COVID -19 cases in last 24 hrs, total reach 130.', 'truncated': False, 'entities': {'hashtags': [{'text': 'COVID', 'indices': [41, 47]}], 'symbols': [], 'user_mentions': [{'screen_name': 'airnewsalerts', 'name': 'All India Radio News', 'id': 1056850669, 'id_str': '1056850669', 'indices': [3, 17]}], 'urls': []}, 'metadata': {'iso_language_code': 'en', 'result_type': 'recent'}, 'source': '<a href=\"http://twitter.com/download/android\" rel=\"nofollow\">Twitter for Android</a>', 'in_reply_to_status_id': None, 'in_reply_to_status_id_str': None, 'in_reply_to_user_id': None, 'in_reply_to_user_id_str': None, 'in_reply_to_screen_name': None, 'user': {'id': 1254114265465643008, 'id_str': '1254114265465643008', 'name': 'Daisy Dcruz', 'screen_name': 'DaisyDcruz1', 'location': 'Mumbai, India', 'description': 'Reading novels and travelling all over places and adventure.....life is full of journey and challenges and face and fight for the problems of life', 'url': 'https://t.co/2SKkgarUZD', 'entities': {'url': {'urls': [{'url': 'https://t.co/2SKkgarUZD', 'expanded_url': 'http://instragram.com/daisydcruz176/', 'display_url': 'instragram.com/daisydcruz176/', 'indices': [0, 23]}]}, 'description': {'urls': []}}, 'protected': False, 'followers_count': 99, 'friends_count': 146, 'listed_count': 1, 'created_at': 'Sat Apr 25 18:25:32 +0000 2020', 'favourites_count': 18727, 'utc_offset': None, 'time_zone': None, 'geo_enabled': True, 'verified': False, 'statuses_count': 18553, 'lang': None, 'contributors_enabled': False, 'is_translator': False, 'is_translation_enabled': False, 'profile_background_color': 'F5F8FA', 'profile_background_image_url': None, 'profile_background_image_url_https': None, 'profile_background_tile': False, 'profile_image_url': 'http://pbs.twimg.com/profile_images/1254117984727003138/OeQrzFkJ_normal.jpg', 'profile_image_url_https': 'https://pbs.twimg.com/profile_images/1254117984727003138/OeQrzFkJ_normal.jpg', 'profile_banner_url': 'https://pbs.twimg.com/profile_banners/1254114265465643008/1587839925', 'profile_link_color': '1DA1F2', 'profile_sidebar_border_color': 'C0DEED', 'profile_sidebar_fill_color': 'DDEEF6', 'profile_text_color': '333333', 'profile_use_background_image': True, 'has_extended_profile': True, 'default_profile': True, 'default_profile_image': False, 'following': False, 'follow_request_sent': False, 'notifications': False, 'translator_type': 'none'}, 'geo': None, 'coordinates': None, 'place': None, 'contributors': None, 'retweeted_status': {'created_at': 'Thu Jun 18 06:23:38 +0000 2020', 'id': 1273501609117601798, 'id_str': '1273501609117601798', 'text': 'Mizoram reports 9 new #COVID -19 cases in last 24 hrs, total reach 130.', 'truncated': False, 'entities': {'hashtags': [{'text': 'COVID', 'indices': [22, 28]}], 'symbols': [], 'user_mentions': [], 'urls': []}, 'metadata': {'iso_language_code': 'en', 'result_type': 'recent'}, 'source': '<a href=\"https://mobile.twitter.com\" rel=\"nofollow\">Twitter Web App</a>', 'in_reply_to_status_id': None, 'in_reply_to_status_id_str': None, 'in_reply_to_user_id': None, 'in_reply_to_user_id_str': None, 'in_reply_to_screen_name': None, 'user': {'id': 1056850669, 'id_str': '1056850669', 'name': 'All India Radio News', 'screen_name': 'airnewsalerts', 'location': 'New Delhi, India', 'description': 'Official account of News Services Division, All India Radio.\\n\\nहिंदी के समाचारों के लिए @AIRNewsHindi को फॉलो करें!\\nFollow @AIRNewsUrdu for news updates in Urdu', 'url': None, 'entities': {'description': {'urls': []}}, 'protected': False, 'followers_count': 2439286, 'friends_count': 16, 'listed_count': 2616, 'created_at': 'Thu Jan 03 04:15:45 +0000 2013', 'favourites_count': 627, 'utc_offset': None, 'time_zone': None, 'geo_enabled': False, 'verified': True, 'statuses_count': 276698, 'lang': None, 'contributors_enabled': False, 'is_translator': False, 'is_translation_enabled': False, 'profile_background_color': '666655', 'profile_background_image_url': 'http://abs.twimg.com/images/themes/theme1/bg.png', 'profile_background_image_url_https': 'https://abs.twimg.com/images/themes/theme1/bg.png', 'profile_background_tile': True, 'profile_image_url': 'http://pbs.twimg.com/profile_images/1245193871396671488/-JRWFczO_normal.jpg', 'profile_image_url_https': 'https://pbs.twimg.com/profile_images/1245193871396671488/-JRWFczO_normal.jpg', 'profile_banner_url': 'https://pbs.twimg.com/profile_banners/1056850669/1572580529', 'profile_link_color': '467895', 'profile_sidebar_border_color': '000000', 'profile_sidebar_fill_color': 'DDEEF6', 'profile_text_color': '333333', 'profile_use_background_image': True, 'has_extended_profile': False, 'default_profile': False, 'default_profile_image': False, 'following': False, 'follow_request_sent': False, 'notifications': False, 'translator_type': 'regular'}, 'geo': None, 'coordinates': None, 'place': None, 'contributors': None, 'is_quote_status': False, 'retweet_count': 2, 'favorite_count': 16, 'favorited': False, 'retweeted': False, 'lang': 'en'}, 'is_quote_status': False, 'retweet_count': 2, 'favorite_count': 0, 'favorited': False, 'retweeted': False, 'lang': 'en'}, {'created_at': 'Thu Jun 18 06:26:59 +0000 2020', 'id': 1273502449693790208, 'id_str': '1273502449693790208', 'text': 'RT @mx_nutricioninf: Una buena hidratación es clave en la recuperación de pacientes de #COVID-19. El uso de sueros y electrolitos es esenci…', 'truncated': False, 'entities': {'hashtags': [{'text': 'COVID', 'indices': [87, 93]}], 'symbols': [], 'user_mentions': [{'screen_name': 'mx_nutricioninf', 'name': 'Nutrición Infantil de México', 'id': 1244657777823318024, 'id_str': '1244657777823318024', 'indices': [3, 19]}], 'urls': []}, 'metadata': {'iso_language_code': 'es', 'result_type': 'recent'}, 'source': '<a href=\"http://twitter.com/download/android\" rel=\"nofollow\">Twitter for Android</a>', 'in_reply_to_status_id': None, 'in_reply_to_status_id_str': None, 'in_reply_to_user_id': None, 'in_reply_to_user_id_str': None, 'in_reply_to_screen_name': None, 'user': {'id': 1123156153351852033, 'id_str': '1123156153351852033', 'name': 'Patricia Camacho', 'screen_name': 'Patrici64678597', 'location': '', 'description': 'I FEEL YOU AROUND ME, HUGGIN ME, KISSING ME ❤️', 'url': None, 'entities': {'description': {'urls': []}}, 'protected': False, 'followers_count': 73, 'friends_count': 215, 'listed_count': 0, 'created_at': 'Tue Apr 30 09:24:28 +0000 2019', 'favourites_count': 493, 'utc_offset': None, 'time_zone': None, 'geo_enabled': False, 'verified': False, 'statuses_count': 414, 'lang': None, 'contributors_enabled': False, 'is_translator': False, 'is_translation_enabled': False, 'profile_background_color': 'F5F8FA', 'profile_background_image_url': None, 'profile_background_image_url_https': None, 'profile_background_tile': False, 'profile_image_url': 'http://pbs.twimg.com/profile_images/1265512544988520448/-Hqmz4En_normal.jpg', 'profile_image_url_https': 'https://pbs.twimg.com/profile_images/1265512544988520448/-Hqmz4En_normal.jpg', 'profile_banner_url': 'https://pbs.twimg.com/profile_banners/1123156153351852033/1590556718', 'profile_link_color': '1DA1F2', 'profile_sidebar_border_color': 'C0DEED', 'profile_sidebar_fill_color': 'DDEEF6', 'profile_text_color': '333333', 'profile_use_background_image': True, 'has_extended_profile': False, 'default_profile': True, 'default_profile_image': False, 'following': False, 'follow_request_sent': False, 'notifications': False, 'translator_type': 'none'}, 'geo': None, 'coordinates': None, 'place': None, 'contributors': None, 'retweeted_status': {'created_at': 'Thu Jun 11 18:28:28 +0000 2020', 'id': 1271147302758088704, 'id_str': '1271147302758088704', 'text': 'Una buena hidratación es clave en la recuperación de pacientes de #COVID-19. El uso de sueros y electrolitos es ese… https://t.co/8esl61meps', 'truncated': True, 'entities': {'hashtags': [{'text': 'COVID', 'indices': [66, 72]}], 'symbols': [], 'user_mentions': [], 'urls': [{'url': 'https://t.co/8esl61meps', 'expanded_url': 'https://twitter.com/i/web/status/1271147302758088704', 'display_url': 'twitter.com/i/web/status/1…', 'indices': [117, 140]}]}, 'metadata': {'iso_language_code': 'es', 'result_type': 'recent'}, 'source': '<a href=\"https://mobile.twitter.com\" rel=\"nofollow\">Twitter Web App</a>', 'in_reply_to_status_id': None, 'in_reply_to_status_id_str': None, 'in_reply_to_user_id': None, 'in_reply_to_user_id_str': None, 'in_reply_to_screen_name': None, 'user': {'id': 1244657777823318024, 'id_str': '1244657777823318024', 'name': 'Nutrición Infantil de México', 'screen_name': 'mx_nutricioninf', 'location': 'México', 'description': 'Somos un grupo de expertos de diferentes organizaciones que buscan mejorar la nutrición y la salud de los niños y adolescentes mexicanos.', 'url': None, 'entities': {'description': {'urls': []}}, 'protected': False, 'followers_count': 50, 'friends_count': 26, 'listed_count': 0, 'created_at': 'Mon Mar 30 16:08:40 +0000 2020', 'favourites_count': 4, 'utc_offset': None, 'time_zone': None, 'geo_enabled': False, 'verified': False, 'statuses_count': 3, 'lang': None, 'contributors_enabled': False, 'is_translator': False, 'is_translation_enabled': False, 'profile_background_color': 'F5F8FA', 'profile_background_image_url': None, 'profile_background_image_url_https': None, 'profile_background_tile': False, 'profile_image_url': 'http://pbs.twimg.com/profile_images/1271145428495536129/9fS0EoCw_normal.jpg', 'profile_image_url_https': 'https://pbs.twimg.com/profile_images/1271145428495536129/9fS0EoCw_normal.jpg', 'profile_link_color': '1DA1F2', 'profile_sidebar_border_color': 'C0DEED', 'profile_sidebar_fill_color': 'DDEEF6', 'profile_text_color': '333333', 'profile_use_background_image': True, 'has_extended_profile': False, 'default_profile': True, 'default_profile_image': False, 'following': False, 'follow_request_sent': False, 'notifications': False, 'translator_type': 'none'}, 'geo': None, 'coordinates': None, 'place': None, 'contributors': None, 'is_quote_status': False, 'retweet_count': 23, 'favorite_count': 60, 'favorited': False, 'retweeted': False, 'possibly_sensitive': False, 'lang': 'es'}, 'is_quote_status': False, 'retweet_count': 23, 'favorite_count': 0, 'favorited': False, 'retweeted': False, 'lang': 'es'}, {'created_at': 'Thu Jun 18 06:26:58 +0000 2020', 'id': 1273502445763588097, 'id_str': '1273502445763588097', 'text': 'RT @Fiona_M_Russell: Our #COVID kids research evidence update #10 curated by paediatricians, scientists, epidemiologists &amp; med students at…', 'truncated': False, 'entities': {'hashtags': [{'text': 'COVID', 'indices': [25, 31]}], 'symbols': [], 'user_mentions': [{'screen_name': 'Fiona_M_Russell', 'name': 'Fiona Russell', 'id': 987475948994875392, 'id_str': '987475948994875392', 'indices': [3, 19]}], 'urls': []}, 'metadata': {'iso_language_code': 'en', 'result_type': 'recent'}, 'source': '<a href=\"https://mobile.twitter.com\" rel=\"nofollow\">Twitter Web App</a>', 'in_reply_to_status_id': None, 'in_reply_to_status_id_str': None, 'in_reply_to_user_id': None, 'in_reply_to_user_id_str': None, 'in_reply_to_screen_name': None, 'user': {'id': 1215716038186192896, 'id_str': '1215716038186192896', 'name': 'Alison Boast', 'screen_name': 'AlisonBoast', 'location': 'Melbourne, Victoria', 'description': 'Paediatric Doctor \\U0001fa7a👶🏻 PhD in pharmacometrics to improve Rx Infections in Children @unimelb @mcri_for_kids 🤓 write with @DFTBubbles #PaedsRocks #BeKind', 'url': None, 'entities': {'description': {'urls': []}}, 'protected': False, 'followers_count': 951, 'friends_count': 459, 'listed_count': 5, 'created_at': 'Fri Jan 10 19:24:34 +0000 2020', 'favourites_count': 4254, 'utc_offset': None, 'time_zone': None, 'geo_enabled': False, 'verified': False, 'statuses_count': 2822, 'lang': None, 'contributors_enabled': False, 'is_translator': False, 'is_translation_enabled': False, 'profile_background_color': 'F5F8FA', 'profile_background_image_url': None, 'profile_background_image_url_https': None, 'profile_background_tile': False, 'profile_image_url': 'http://pbs.twimg.com/profile_images/1218846155158614018/qHg01IF6_normal.jpg', 'profile_image_url_https': 'https://pbs.twimg.com/profile_images/1218846155158614018/qHg01IF6_normal.jpg', 'profile_banner_url': 'https://pbs.twimg.com/profile_banners/1215716038186192896/1590305492', 'profile_link_color': '1DA1F2', 'profile_sidebar_border_color': 'C0DEED', 'profile_sidebar_fill_color': 'DDEEF6', 'profile_text_color': '333333', 'profile_use_background_image': True, 'has_extended_profile': False, 'default_profile': True, 'default_profile_image': False, 'following': False, 'follow_request_sent': False, 'notifications': False, 'translator_type': 'none'}, 'geo': None, 'coordinates': None, 'place': None, 'contributors': None, 'retweeted_status': {'created_at': 'Thu Jun 18 06:25:46 +0000 2020', 'id': 1273502144524480512, 'id_str': '1273502144524480512', 'text': 'Our #COVID kids research evidence update #10 curated by paediatricians, scientists, epidemiologists &amp; med students… https://t.co/nvWnk3VbH9', 'truncated': True, 'entities': {'hashtags': [{'text': 'COVID', 'indices': [4, 10]}], 'symbols': [], 'user_mentions': [], 'urls': [{'url': 'https://t.co/nvWnk3VbH9', 'expanded_url': 'https://twitter.com/i/web/status/1273502144524480512', 'display_url': 'twitter.com/i/web/status/1…', 'indices': [120, 143]}]}, 'metadata': {'iso_language_code': 'en', 'result_type': 'recent'}, 'source': '<a href=\"http://twitter.com/download/iphone\" rel=\"nofollow\">Twitter for iPhone</a>', 'in_reply_to_status_id': None, 'in_reply_to_status_id_str': None, 'in_reply_to_user_id': None, 'in_reply_to_user_id_str': None, 'in_reply_to_screen_name': None, 'user': {'id': 987475948994875392, 'id_str': '987475948994875392', 'name': 'Fiona Russell', 'screen_name': 'Fiona_M_Russell', 'location': 'Melbourne, Victoria', 'description': 'Paediatrician; public health & infectious diseases researcher in global child health | Professor @UniMelbMDHS @MCRI_for_kids | weekend gardener | views are mine', 'url': None, 'entities': {'description': {'urls': []}}, 'protected': False, 'followers_count': 646, 'friends_count': 348, 'listed_count': 6, 'created_at': 'Fri Apr 20 23:39:47 +0000 2018', 'favourites_count': 9233, 'utc_offset': None, 'time_zone': None, 'geo_enabled': False, 'verified': False, 'statuses_count': 3283, 'lang': None, 'contributors_enabled': False, 'is_translator': False, 'is_translation_enabled': False, 'profile_background_color': 'F5F8FA', 'profile_background_image_url': None, 'profile_background_image_url_https': None, 'profile_background_tile': False, 'profile_image_url': 'http://pbs.twimg.com/profile_images/987511957530935296/_Fn-hxxW_normal.jpg', 'profile_image_url_https': 'https://pbs.twimg.com/profile_images/987511957530935296/_Fn-hxxW_normal.jpg', 'profile_link_color': '1DA1F2', 'profile_sidebar_border_color': 'C0DEED', 'profile_sidebar_fill_color': 'DDEEF6', 'profile_text_color': '333333', 'profile_use_background_image': True, 'has_extended_profile': False, 'default_profile': True, 'default_profile_image': False, 'following': False, 'follow_request_sent': False, 'notifications': False, 'translator_type': 'none'}, 'geo': None, 'coordinates': None, 'place': None, 'contributors': None, 'is_quote_status': False, 'retweet_count': 1, 'favorite_count': 1, 'favorited': False, 'retweeted': False, 'possibly_sensitive': False, 'lang': 'en'}, 'is_quote_status': False, 'retweet_count': 1, 'favorite_count': 0, 'favorited': False, 'retweeted': False, 'possibly_sensitive': True, 'lang': 'en'}, {'created_at': 'Thu Jun 18 06:26:52 +0000 2020', 'id': 1273502421747150848, 'id_str': '1273502421747150848', 'text': 'RT @DrTajikSohail: راولپنڈی پولیس کے شھید انسپکٹر یٰسین کا ھسپتال سے آخری سلام۔\\n\\nإِنَّا لِلّهِ وَإِنَّـا إِلَيْهِ رَاجِعونَ\\n\\n#PoliceLivesMa…', 'truncated': False, 'entities': {'hashtags': [], 'symbols': [], 'user_mentions': [{'screen_name': 'DrTajikSohail', 'name': 'Tajik Sohail Habib', 'id': 877581792970235904, 'id_str': '877581792970235904', 'indices': [3, 17]}], 'urls': []}, 'metadata': {'iso_language_code': 'ur', 'result_type': 'recent'}, 'source': '<a href=\"http://twitter.com/download/android\" rel=\"nofollow\">Twitter for Android</a>', 'in_reply_to_status_id': None, 'in_reply_to_status_id_str': None, 'in_reply_to_user_id': None, 'in_reply_to_user_id_str': None, 'in_reply_to_screen_name': None, 'user': {'id': 985887662971281414, 'id_str': '985887662971281414', 'name': 'Amer Khattak', 'screen_name': 'khattak_amer', 'location': 'Karak', 'description': 'Likes & RTs are not endorsements.\\nA blind follower of Bacha Khan Baba.', 'url': None, 'entities': {'description': {'urls': []}}, 'protected': False, 'followers_count': 86, 'friends_count': 123, 'listed_count': 0, 'created_at': 'Mon Apr 16 14:28:30 +0000 2018', 'favourites_count': 3926, 'utc_offset': None, 'time_zone': None, 'geo_enabled': False, 'verified': False, 'statuses_count': 3097, 'lang': None, 'contributors_enabled': False, 'is_translator': False, 'is_translation_enabled': False, 'profile_background_color': 'F5F8FA', 'profile_background_image_url': None, 'profile_background_image_url_https': None, 'profile_background_tile': False, 'profile_image_url': 'http://pbs.twimg.com/profile_images/985903202200629248/dPJebJmU_normal.jpg', 'profile_image_url_https': 'https://pbs.twimg.com/profile_images/985903202200629248/dPJebJmU_normal.jpg', 'profile_banner_url': 'https://pbs.twimg.com/profile_banners/985887662971281414/1523892691', 'profile_link_color': '1DA1F2', 'profile_sidebar_border_color': 'C0DEED', 'profile_sidebar_fill_color': 'DDEEF6', 'profile_text_color': '333333', 'profile_use_background_image': True, 'has_extended_profile': False, 'default_profile': True, 'default_profile_image': False, 'following': False, 'follow_request_sent': False, 'notifications': False, 'translator_type': 'none'}, 'geo': None, 'coordinates': None, 'place': None, 'contributors': None, 'retweeted_status': {'created_at': 'Wed Jun 17 19:17:28 +0000 2020', 'id': 1273333961859702785, 'id_str': '1273333961859702785', 'text': 'راولپنڈی پولیس کے شھید انسپکٹر یٰسین کا ھسپتال سے آخری سلام۔\\n\\nإِنَّا لِلّهِ وَإِنَّـا إِلَيْهِ رَاجِعونَ… https://t.co/kmGjHpzj5c', 'truncated': True, 'entities': {'hashtags': [], 'symbols': [], 'user_mentions': [], 'urls': [{'url': 'https://t.co/kmGjHpzj5c', 'expanded_url': 'https://twitter.com/i/web/status/1273333961859702785', 'display_url': 'twitter.com/i/web/status/1…', 'indices': [106, 129]}]}, 'metadata': {'iso_language_code': 'ur', 'result_type': 'recent'}, 'source': '<a href=\"http://twitter.com/download/iphone\" rel=\"nofollow\">Twitter for iPhone</a>', 'in_reply_to_status_id': None, 'in_reply_to_status_id_str': None, 'in_reply_to_user_id': None, 'in_reply_to_user_id_str': None, 'in_reply_to_screen_name': None, 'user': {'id': 877581792970235904, 'id_str': '877581792970235904', 'name': 'Tajik Sohail Habib', 'screen_name': 'DrTajikSohail', 'location': 'Pakistan', 'description': 'x-Doc; Security & CT studies; £$€ grad; HHH Fellow; CCR; triple minded. سرکاری خانہ بدوش Endorphins+. Pvt account & hujra. Views= 360* personal. RTs={x/0}', 'url': None, 'entities': {'description': {'urls': []}}, 'protected': False, 'followers_count': 14867, 'friends_count': 825, 'listed_count': 11, 'created_at': 'Wed Jun 21 17:39:38 +0000 2017', 'favourites_count': 13350, 'utc_offset': None, 'time_zone': None, 'geo_enabled': False, 'verified': False, 'statuses_count': 1699, 'lang': None, 'contributors_enabled': False, 'is_translator': False, 'is_translation_enabled': False, 'profile_background_color': 'F5F8FA', 'profile_background_image_url': None, 'profile_background_image_url_https': None, 'profile_background_tile': False, 'profile_image_url': 'http://pbs.twimg.com/profile_images/1063445573498482692/ABVpcc1Y_normal.jpg', 'profile_image_url_https': 'https://pbs.twimg.com/profile_images/1063445573498482692/ABVpcc1Y_normal.jpg', 'profile_banner_url': 'https://pbs.twimg.com/profile_banners/877581792970235904/1552750430', 'profile_link_color': '1DA1F2', 'profile_sidebar_border_color': 'C0DEED', 'profile_sidebar_fill_color': 'DDEEF6', 'profile_text_color': '333333', 'profile_use_background_image': True, 'has_extended_profile': True, 'default_profile': True, 'default_profile_image': False, 'following': False, 'follow_request_sent': False, 'notifications': False, 'translator_type': 'none'}, 'geo': None, 'coordinates': None, 'place': None, 'contributors': None, 'is_quote_status': False, 'retweet_count': 429, 'favorite_count': 2303, 'favorited': False, 'retweeted': False, 'possibly_sensitive': False, 'lang': 'ur'}, 'is_quote_status': False, 'retweet_count': 429, 'favorite_count': 0, 'favorited': False, 'retweeted': False, 'lang': 'ur'}, {'created_at': 'Thu Jun 18 06:26:46 +0000 2020', 'id': 1273502397684310016, 'id_str': '1273502397684310016', 'text': 'Esta crisis nos ha hecho adaptarnos y trabajar en gran medida teniendo muy presente el área psicosocial #COVID 19.… https://t.co/C7gPVTZsDb', 'truncated': True, 'entities': {'hashtags': [{'text': 'COVID', 'indices': [104, 110]}], 'symbols': [], 'user_mentions': [], 'urls': [{'url': 'https://t.co/C7gPVTZsDb', 'expanded_url': 'https://twitter.com/i/web/status/1273502397684310016', 'display_url': 'twitter.com/i/web/status/1…', 'indices': [116, 139]}]}, 'metadata': {'iso_language_code': 'es', 'result_type': 'recent'}, 'source': '<a href=\"https://social.zoho.com\" rel=\"nofollow\">Zoho Social</a>', 'in_reply_to_status_id': None, 'in_reply_to_status_id_str': None, 'in_reply_to_user_id': None, 'in_reply_to_user_id_str': None, 'in_reply_to_screen_name': None, 'user': {'id': 1243104193575084033, 'id_str': '1243104193575084033', 'name': 'Human Pull', 'screen_name': 'HumanPull', 'location': 'Madrid', 'description': 'Medimos el clima laboral para crear equipos que funcionan. La herramienta, app, para pulsar la satisfacción laboral', 'url': 'https://t.co/fURnmeiNfA', 'entities': {'url': {'urls': [{'url': 'https://t.co/fURnmeiNfA', 'expanded_url': 'https://www.humanpull.com/', 'display_url': 'humanpull.com', 'indices': [0, 23]}]}, 'description': {'urls': []}}, 'protected': False, 'followers_count': 325, 'friends_count': 257, 'listed_count': 2, 'created_at': 'Thu Mar 26 09:15:34 +0000 2020', 'favourites_count': 577, 'utc_offset': None, 'time_zone': None, 'geo_enabled': False, 'verified': False, 'statuses_count': 667, 'lang': None, 'contributors_enabled': False, 'is_translator': False, 'is_translation_enabled': False, 'profile_background_color': 'F5F8FA', 'profile_background_image_url': None, 'profile_background_image_url_https': None, 'profile_background_tile': False, 'profile_image_url': 'http://pbs.twimg.com/profile_images/1243104483040780289/KhjilIXb_normal.jpg', 'profile_image_url_https': 'https://pbs.twimg.com/profile_images/1243104483040780289/KhjilIXb_normal.jpg', 'profile_banner_url': 'https://pbs.twimg.com/profile_banners/1243104193575084033/1585214537', 'profile_link_color': '1DA1F2', 'profile_sidebar_border_color': 'C0DEED', 'profile_sidebar_fill_color': 'DDEEF6', 'profile_text_color': '333333', 'profile_use_background_image': True, 'has_extended_profile': False, 'default_profile': True, 'default_profile_image': False, 'following': False, 'follow_request_sent': False, 'notifications': False, 'translator_type': 'none'}, 'geo': None, 'coordinates': None, 'place': None, 'contributors': None, 'is_quote_status': False, 'retweet_count': 0, 'favorite_count': 0, 'favorited': False, 'retweeted': False, 'possibly_sensitive': False, 'lang': 'es'}, {'created_at': 'Thu Jun 18 06:26:44 +0000 2020', 'id': 1273502387538464768, 'id_str': '1273502387538464768', 'text': 'RT @revista_EPI: 📈 #Covid-19: #AnálisisMétrico de #Vídeos y canales de comunicación en #YouTube. Un artículo de @eomalea; Cristina I. Font-…', 'truncated': False, 'entities': {'hashtags': [{'text': 'Covid', 'indices': [19, 25]}, {'text': 'AnálisisMétrico', 'indices': [30, 46]}, {'text': 'Vídeos', 'indices': [50, 57]}, {'text': 'YouTube', 'indices': [87, 95]}], 'symbols': [], 'user_mentions': [{'screen_name': 'revista_EPI', 'name': 'Revista EPI', 'id': 25710548, 'id_str': '25710548', 'indices': [3, 15]}, {'screen_name': 'eomalea', 'name': 'Enrique Orduña Malea', 'id': 216303854, 'id_str': '216303854', 'indices': [112, 120]}], 'urls': []}, 'metadata': {'iso_language_code': 'es', 'result_type': 'recent'}, 'source': '<a href=\"https://mobile.twitter.com\" rel=\"nofollow\">Twitter Web App</a>', 'in_reply_to_status_id': None, 'in_reply_to_status_id_str': None, 'in_reply_to_user_id': None, 'in_reply_to_user_id_str': None, 'in_reply_to_screen_name': None, 'user': {'id': 17168087, 'id_str': '17168087', 'name': 'Javier Guallar', 'screen_name': 'jguallar', 'location': 'Barcelona', 'description': 'Profesor ➡️ @FIMA_UB\\nEditor ➡️ @revista_EPI #Contentcurator \\nDirector @contsocialmedia \\nMi blog: https://t.co/tEYgpKDqRB', 'url': 'https://t.co/o9IlmIzvD6', 'entities': {'url': {'urls': [{'url': 'https://t.co/o9IlmIzvD6', 'expanded_url': 'https://sites.google.com/site/sitiodejavierguallar/', 'display_url': 'sites.google.com/site/sitiodeja…', 'indices': [0, 23]}]}, 'description': {'urls': [{'url': 'https://t.co/tEYgpKDqRB', 'expanded_url': 'http://loscontentcurators.com', 'display_url': 'loscontentcurators.com', 'indices': [97, 120]}]}}, 'protected': False, 'followers_count': 7014, 'friends_count': 4270, 'listed_count': 767, 'created_at': 'Tue Nov 04 20:43:48 +0000 2008', 'favourites_count': 5474, 'utc_offset': None, 'time_zone': None, 'geo_enabled': True, 'verified': False, 'statuses_count': 37481, 'lang': None, 'contributors_enabled': False, 'is_translator': False, 'is_translation_enabled': False, 'profile_background_color': 'C0DEED', 'profile_background_image_url': 'http://abs.twimg.com/images/themes/theme1/bg.png', 'profile_background_image_url_https': 'https://abs.twimg.com/images/themes/theme1/bg.png', 'profile_background_tile': False, 'profile_image_url': 'http://pbs.twimg.com/profile_images/742117346849005568/Ib-Eqgtc_normal.jpg', 'profile_image_url_https': 'https://pbs.twimg.com/profile_images/742117346849005568/Ib-Eqgtc_normal.jpg', 'profile_banner_url': 'https://pbs.twimg.com/profile_banners/17168087/1576251623', 'profile_link_color': '1DA1F2', 'profile_sidebar_border_color': 'C0DEED', 'profile_sidebar_fill_color': 'DDEEF6', 'profile_text_color': '333333', 'profile_use_background_image': True, 'has_extended_profile': False, 'default_profile': True, 'default_profile_image': False, 'following': False, 'follow_request_sent': False, 'notifications': False, 'translator_type': 'none'}, 'geo': None, 'coordinates': None, 'place': None, 'contributors': None, 'retweeted_status': {'created_at': 'Thu Jun 18 06:10:04 +0000 2020', 'id': 1273498192458534913, 'id_str': '1273498192458534913', 'text': '📈 #Covid-19: #AnálisisMétrico de #Vídeos y canales de comunicación en #YouTube. Un artículo de @eomalea; Cristina I… https://t.co/cEquuSllLJ', 'truncated': True, 'entities': {'hashtags': [{'text': 'Covid', 'indices': [2, 8]}, {'text': 'AnálisisMétrico', 'indices': [13, 29]}, {'text': 'Vídeos', 'indices': [33, 40]}, {'text': 'YouTube', 'indices': [70, 78]}], 'symbols': [], 'user_mentions': [{'screen_name': 'eomalea', 'name': 'Enrique Orduña Malea', 'id': 216303854, 'id_str': '216303854', 'indices': [95, 103]}], 'urls': [{'url': 'https://t.co/cEquuSllLJ', 'expanded_url': 'https://twitter.com/i/web/status/1273498192458534913', 'display_url': 'twitter.com/i/web/status/1…', 'indices': [117, 140]}]}, 'metadata': {'iso_language_code': 'es', 'result_type': 'recent'}, 'source': '<a href=\"https://www.hootsuite.com\" rel=\"nofollow\">Hootsuite Inc.</a>', 'in_reply_to_status_id': None, 'in_reply_to_status_id_str': None, 'in_reply_to_user_id': None, 'in_reply_to_user_id_str': None, 'in_reply_to_screen_name': None, 'user': {'id': 25710548, 'id_str': '25710548', 'name': 'Revista EPI', 'screen_name': 'revista_EPI', 'location': 'Barcelona', 'description': 'Revista internacional de Información y Comunicación indexada por WoS (JCR, Q2), Scopus (SJR, Q1) y otras bases de datos\\n#journal #communication #LIS', 'url': 'http://t.co/E4GLXXrr6h', 'entities': {'url': {'urls': [{'url': 'http://t.co/E4GLXXrr6h', 'expanded_url': 'http://www.elprofesionaldelainformacion.com', 'display_url': 'elprofesionaldelainformacion.com', 'indices': [0, 22]}]}, 'description': {'urls': []}}, 'protected': False, 'followers_count': 10018, 'friends_count': 919, 'listed_count': 677, 'created_at': 'Sat Mar 21 18:48:11 +0000 2009', 'favourites_count': 3350, 'utc_offset': None, 'time_zone': None, 'geo_enabled': True, 'verified': False, 'statuses_count': 5307, 'lang': None, 'contributors_enabled': False, 'is_translator': False, 'is_translation_enabled': False, 'profile_background_color': 'FFFFFF', 'profile_background_image_url': 'http://abs.twimg.com/images/themes/theme6/bg.gif', 'profile_background_image_url_https': 'https://abs.twimg.com/images/themes/theme6/bg.gif', 'profile_background_tile': False, 'profile_image_url': 'http://pbs.twimg.com/profile_images/461238084760121344/9YudwhWv_normal.png', 'profile_image_url_https': 'https://pbs.twimg.com/profile_images/461238084760121344/9YudwhWv_normal.png', 'profile_banner_url': 'https://pbs.twimg.com/profile_banners/25710548/1588791029', 'profile_link_color': 'D7181F', 'profile_sidebar_border_color': 'FFFFFF', 'profile_sidebar_fill_color': 'DDFFCC', 'profile_text_color': '333333', 'profile_use_background_image': False, 'has_extended_profile': False, 'default_profile': False, 'default_profile_image': False, 'following': False, 'follow_request_sent': False, 'notifications': False, 'translator_type': 'none'}, 'geo': None, 'coordinates': None, 'place': None, 'contributors': None, 'is_quote_status': False, 'retweet_count': 4, 'favorite_count': 4, 'favorited': False, 'retweeted': False, 'possibly_sensitive': False, 'lang': 'es'}, 'is_quote_status': False, 'retweet_count': 4, 'favorite_count': 0, 'favorited': False, 'retweeted': False, 'lang': 'es'}, {'created_at': 'Thu Jun 18 06:26:37 +0000 2020', 'id': 1273502359583436800, 'id_str': '1273502359583436800', 'text': 'RT @greg_herriett: @MattHancock PEOPLE TESTED FOR COVID.\\n\\nNO DATA.\\n\\n25 DAYS IN A ROW\\n\\n#coronavirus #COVID https://t.co/UVG2Wy7D8N', 'truncated': False, 'entities': {'hashtags': [{'text': 'coronavirus', 'indices': [86, 98]}, {'text': 'COVID', 'indices': [99, 105]}], 'symbols': [], 'user_mentions': [{'screen_name': 'greg_herriett', 'name': 'Greg Herriett #GTTO', 'id': 2863775537, 'id_str': '2863775537', 'indices': [3, 17]}, {'screen_name': 'MattHancock', 'name': 'Matt Hancock', 'id': 19825835, 'id_str': '19825835', 'indices': [19, 31]}], 'urls': [], 'media': [{'id': 1272938058707582978, 'id_str': '1272938058707582978', 'indices': [106, 129], 'media_url': 'http://pbs.twimg.com/media/Eapia4pXQAIiZVn.jpg', 'media_url_https': 'https://pbs.twimg.com/media/Eapia4pXQAIiZVn.jpg', 'url': 'https://t.co/UVG2Wy7D8N', 'display_url': 'pic.twitter.com/UVG2Wy7D8N', 'expanded_url': 'https://twitter.com/greg_herriett/status/1272938063778459649/photo/1', 'type': 'photo', 'sizes': {'thumb': {'w': 150, 'h': 150, 'resize': 'crop'}, 'medium': {'w': 675, 'h': 1200, 'resize': 'fit'}, 'large': {'w': 750, 'h': 1334, 'resize': 'fit'}, 'small': {'w': 382, 'h': 680, 'resize': 'fit'}}, 'source_status_id': 1272938063778459649, 'source_status_id_str': '1272938063778459649', 'source_user_id': 2863775537, 'source_user_id_str': '2863775537'}]}, 'extended_entities': {'media': [{'id': 1272938058707582978, 'id_str': '1272938058707582978', 'indices': [106, 129], 'media_url': 'http://pbs.twimg.com/media/Eapia4pXQAIiZVn.jpg', 'media_url_https': 'https://pbs.twimg.com/media/Eapia4pXQAIiZVn.jpg', 'url': 'https://t.co/UVG2Wy7D8N', 'display_url': 'pic.twitter.com/UVG2Wy7D8N', 'expanded_url': 'https://twitter.com/greg_herriett/status/1272938063778459649/photo/1', 'type': 'photo', 'sizes': {'thumb': {'w': 150, 'h': 150, 'resize': 'crop'}, 'medium': {'w': 675, 'h': 1200, 'resize': 'fit'}, 'large': {'w': 750, 'h': 1334, 'resize': 'fit'}, 'small': {'w': 382, 'h': 680, 'resize': 'fit'}}, 'source_status_id': 1272938063778459649, 'source_status_id_str': '1272938063778459649', 'source_user_id': 2863775537, 'source_user_id_str': '2863775537'}]}, 'metadata': {'iso_language_code': 'en', 'result_type': 'recent'}, 'source': '<a href=\"http://twitter.com/download/iphone\" rel=\"nofollow\">Twitter for iPhone</a>', 'in_reply_to_status_id': None, 'in_reply_to_status_id_str': None, 'in_reply_to_user_id': None, 'in_reply_to_user_id_str': None, 'in_reply_to_screen_name': None, 'user': {'id': 1030495583759478784, 'id_str': '1030495583759478784', 'name': 'Up_Again', 'screen_name': 'up_again', 'location': 'Portsmouth, England', 'description': 'Pay all Essential workers properly, they are saving our lives. workers make the money!!! DEMOCRATIC SOCIALIST ✋🌹🌹 #AusterityKills #ToryLies #GTTO', 'url': None, 'entities': {'description': {'urls': []}}, 'protected': False, 'followers_count': 9279, 'friends_count': 6877, 'listed_count': 10, 'created_at': 'Fri Aug 17 16:44:27 +0000 2018', 'favourites_count': 105574, 'utc_offset': None, 'time_zone': None, 'geo_enabled': False, 'verified': False, 'statuses_count': 67373, 'lang': None, 'contributors_enabled': False, 'is_translator': False, 'is_translation_enabled': False, 'profile_background_color': 'F5F8FA', 'profile_background_image_url': None, 'profile_background_image_url_https': None, 'profile_background_tile': False, 'profile_image_url': 'http://pbs.twimg.com/profile_images/1272579667355189248/55Cqh4jg_normal.jpg', 'profile_image_url_https': 'https://pbs.twimg.com/profile_images/1272579667355189248/55Cqh4jg_normal.jpg', 'profile_banner_url': 'https://pbs.twimg.com/profile_banners/1030495583759478784/1589356118', 'profile_link_color': '1DA1F2', 'profile_sidebar_border_color': 'C0DEED', 'profile_sidebar_fill_color': 'DDEEF6', 'profile_text_color': '333333', 'profile_use_background_image': True, 'has_extended_profile': False, 'default_profile': True, 'default_profile_image': False, 'following': False, 'follow_request_sent': False, 'notifications': False, 'translator_type': 'none'}, 'geo': None, 'coordinates': None, 'place': None, 'contributors': None, 'retweeted_status': {'created_at': 'Tue Jun 16 17:04:19 +0000 2020', 'id': 1272938063778459649, 'id_str': '1272938063778459649', 'text': '@MattHancock PEOPLE TESTED FOR COVID.\\n\\nNO DATA.\\n\\n25 DAYS IN A ROW\\n\\n#coronavirus #COVID https://t.co/UVG2Wy7D8N', 'truncated': False, 'entities': {'hashtags': [{'text': 'coronavirus', 'indices': [67, 79]}, {'text': 'COVID', 'indices': [80, 86]}], 'symbols': [], 'user_mentions': [{'screen_name': 'MattHancock', 'name': 'Matt Hancock', 'id': 19825835, 'id_str': '19825835', 'indices': [0, 12]}], 'urls': [], 'media': [{'id': 1272938058707582978, 'id_str': '1272938058707582978', 'indices': [87, 110], 'media_url': 'http://pbs.twimg.com/media/Eapia4pXQAIiZVn.jpg', 'media_url_https': 'https://pbs.twimg.com/media/Eapia4pXQAIiZVn.jpg', 'url': 'https://t.co/UVG2Wy7D8N', 'display_url': 'pic.twitter.com/UVG2Wy7D8N', 'expanded_url': 'https://twitter.com/greg_herriett/status/1272938063778459649/photo/1', 'type': 'photo', 'sizes': {'thumb': {'w': 150, 'h': 150, 'resize': 'crop'}, 'medium': {'w': 675, 'h': 1200, 'resize': 'fit'}, 'large': {'w': 750, 'h': 1334, 'resize': 'fit'}, 'small': {'w': 382, 'h': 680, 'resize': 'fit'}}}]}, 'extended_entities': {'media': [{'id': 1272938058707582978, 'id_str': '1272938058707582978', 'indices': [87, 110], 'media_url': 'http://pbs.twimg.com/media/Eapia4pXQAIiZVn.jpg', 'media_url_https': 'https://pbs.twimg.com/media/Eapia4pXQAIiZVn.jpg', 'url': 'https://t.co/UVG2Wy7D8N', 'display_url': 'pic.twitter.com/UVG2Wy7D8N', 'expanded_url': 'https://twitter.com/greg_herriett/status/1272938063778459649/photo/1', 'type': 'photo', 'sizes': {'thumb': {'w': 150, 'h': 150, 'resize': 'crop'}, 'medium': {'w': 675, 'h': 1200, 'resize': 'fit'}, 'large': {'w': 750, 'h': 1334, 'resize': 'fit'}, 'small': {'w': 382, 'h': 680, 'resize': 'fit'}}}]}, 'metadata': {'iso_language_code': 'en', 'result_type': 'recent'}, 'source': '<a href=\"http://twitter.com/download/iphone\" rel=\"nofollow\">Twitter for iPhone</a>', 'in_reply_to_status_id': 1272935050271735809, 'in_reply_to_status_id_str': '1272935050271735809', 'in_reply_to_user_id': 19825835, 'in_reply_to_user_id_str': '19825835', 'in_reply_to_screen_name': 'MattHancock', 'user': {'id': 2863775537, 'id_str': '2863775537', 'name': 'Greg Herriett #GTTO', 'screen_name': 'greg_herriett', 'location': '', 'description': 'Angry.', 'url': None, 'entities': {'description': {'urls': []}}, 'protected': False, 'followers_count': 10110, 'friends_count': 10221, 'listed_count': 16, 'created_at': 'Thu Nov 06 12:53:16 +0000 2014', 'favourites_count': 38293, 'utc_offset': None, 'time_zone': None, 'geo_enabled': False, 'verified': False, 'statuses_count': 72693, 'lang': None, 'contributors_enabled': False, 'is_translator': False, 'is_translation_enabled': False, 'profile_background_color': 'C0DEED', 'profile_background_image_url': 'http://abs.twimg.com/images/themes/theme1/bg.png', 'profile_background_image_url_https': 'https://abs.twimg.com/images/themes/theme1/bg.png', 'profile_background_tile': False, 'profile_image_url': 'http://pbs.twimg.com/profile_images/1211305651659530247/QxhsGcmH_normal.jpg', 'profile_image_url_https': 'https://pbs.twimg.com/profile_images/1211305651659530247/QxhsGcmH_normal.jpg', 'profile_banner_url': 'https://pbs.twimg.com/profile_banners/2863775537/1584234199', 'profile_link_color': '1DA1F2', 'profile_sidebar_border_color': 'C0DEED', 'profile_sidebar_fill_color': 'DDEEF6', 'profile_text_color': '333333', 'profile_use_background_image': True, 'has_extended_profile': False, 'default_profile': True, 'default_profile_image': False, 'following': False, 'follow_request_sent': False, 'notifications': False, 'translator_type': 'none'}, 'geo': None, 'coordinates': None, 'place': None, 'contributors': None, 'is_quote_status': False, 'retweet_count': 130, 'favorite_count': 391, 'favorited': False, 'retweeted': False, 'possibly_sensitive': False, 'lang': 'en'}, 'is_quote_status': False, 'retweet_count': 130, 'favorite_count': 0, 'favorited': False, 'retweeted': False, 'possibly_sensitive': False, 'lang': 'en'}, {'created_at': 'Thu Jun 18 06:26:37 +0000 2020', 'id': 1273502356978745344, 'id_str': '1273502356978745344', 'text': 'RT @NoPatienceForWS: Young Blk men are being lynched, white men pulling guns on Blk ppl, Karens are on a racist rampage, &amp; the #covid is pi…', 'truncated': False, 'entities': {'hashtags': [{'text': 'covid', 'indices': [131, 137]}], 'symbols': [], 'user_mentions': [{'screen_name': 'NoPatienceForWS', 'name': 'Jetta_🙋🏾\\u200d♀️🌺💃🏿', 'id': 1204803083735306242, 'id_str': '1204803083735306242', 'indices': [3, 19]}], 'urls': []}, 'metadata': {'iso_language_code': 'en', 'result_type': 'recent'}, 'source': '<a href=\"http://twitter.com/download/android\" rel=\"nofollow\">Twitter for Android</a>', 'in_reply_to_status_id': None, 'in_reply_to_status_id_str': None, 'in_reply_to_user_id': None, 'in_reply_to_user_id_str': None, 'in_reply_to_screen_name': None, 'user': {'id': 1237589407022137345, 'id_str': '1237589407022137345', 'name': 'RECLAIMING AFROSUPREME1337', 'screen_name': 'Malcolm23129344', 'location': '', 'description': 'Lost access to my OLD profile @sneed_malcolm AFRO SUPREME, SOOOOOOOO.....here I am 🏴\\u200d☠️🇺🇸🇺🇸🇬🇭', 'url': None, 'entities': {'description': {'urls': []}}, 'protected': False, 'followers_count': 126, 'friends_count': 629, 'listed_count': 2, 'created_at': 'Wed Mar 11 04:01:43 +0000 2020', 'favourites_count': 3237, 'utc_offset': None, 'time_zone': None, 'geo_enabled': False, 'verified': False, 'statuses_count': 1914, 'lang': None, 'contributors_enabled': False, 'is_translator': False, 'is_translation_enabled': False, 'profile_background_color': 'F5F8FA', 'profile_background_image_url': None, 'profile_background_image_url_https': None, 'profile_background_tile': False, 'profile_image_url': 'http://pbs.twimg.com/profile_images/1245160876262514690/MxCKt-Af_normal.jpg', 'profile_image_url_https': 'https://pbs.twimg.com/profile_images/1245160876262514690/MxCKt-Af_normal.jpg', 'profile_banner_url': 'https://pbs.twimg.com/profile_banners/1237589407022137345/1585704461', 'profile_link_color': '1DA1F2', 'profile_sidebar_border_color': 'C0DEED', 'profile_sidebar_fill_color': 'DDEEF6', 'profile_text_color': '333333', 'profile_use_background_image': True, 'has_extended_profile': True, 'default_profile': True, 'default_profile_image': False, 'following': False, 'follow_request_sent': False, 'notifications': False, 'translator_type': 'none'}, 'geo': None, 'coordinates': None, 'place': None, 'contributors': None, 'retweeted_status': {'created_at': 'Wed Jun 17 20:27:57 +0000 2020', 'id': 1273351698728267789, 'id_str': '1273351698728267789', 'text': 'Young Blk men are being lynched, white men pulling guns on Blk ppl, Karens are on a racist rampage, &amp; the #covid is… https://t.co/EkuRNKTyyb', 'truncated': True, 'entities': {'hashtags': [{'text': 'covid', 'indices': [110, 116]}], 'symbols': [], 'user_mentions': [], 'urls': [{'url': 'https://t.co/EkuRNKTyyb', 'expanded_url': 'https://twitter.com/i/web/status/1273351698728267789', 'display_url': 'twitter.com/i/web/status/1…', 'indices': [121, 144]}]}, 'metadata': {'iso_language_code': 'en', 'result_type': 'recent'}, 'source': '<a href=\"http://twitter.com/download/iphone\" rel=\"nofollow\">Twitter for iPhone</a>', 'in_reply_to_status_id': None, 'in_reply_to_status_id_str': None, 'in_reply_to_user_id': None, 'in_reply_to_user_id_str': None, 'in_reply_to_screen_name': None, 'user': {'id': 1204803083735306242, 'id_str': '1204803083735306242', 'name': 'Jetta_🙋🏾\\u200d♀️🌺💃🏿', 'screen_name': 'NoPatienceForWS', 'location': '', 'description': 'Everybody is not meant to wake up from their brainwashing, move on without em. #Lineage #NoBlackAgendaNoVote #ProudFBA. #Reparations', 'url': None, 'entities': {'description': {'urls': []}}, 'protected': False, 'followers_count': 461, 'friends_count': 216, 'listed_count': 2, 'created_at': 'Wed Dec 11 16:40:36 +0000 2019', 'favourites_count': 20664, 'utc_offset': None, 'time_zone': None, 'geo_enabled': False, 'verified': False, 'statuses_count': 2916, 'lang': None, 'contributors_enabled': False, 'is_translator': False, 'is_translation_enabled': False, 'profile_background_color': 'F5F8FA', 'profile_background_image_url': None, 'profile_background_image_url_https': None, 'profile_background_tile': False, 'profile_image_url': 'http://pbs.twimg.com/profile_images/1251571031870976000/J4m5P-KG_normal.jpg', 'profile_image_url_https': 'https://pbs.twimg.com/profile_images/1251571031870976000/J4m5P-KG_normal.jpg', 'profile_banner_url': 'https://pbs.twimg.com/profile_banners/1204803083735306242/1584677915', 'profile_link_color': '1DA1F2', 'profile_sidebar_border_color': 'C0DEED', 'profile_sidebar_fill_color': 'DDEEF6', 'profile_text_color': '333333', 'profile_use_background_image': True, 'has_extended_profile': True, 'default_profile': True, 'default_profile_image': False, 'following': False, 'follow_request_sent': False, 'notifications': False, 'translator_type': 'none'}, 'geo': None, 'coordinates': None, 'place': None, 'contributors': None, 'is_quote_status': False, 'retweet_count': 427, 'favorite_count': 978, 'favorited': False, 'retweeted': False, 'lang': 'en'}, 'is_quote_status': False, 'retweet_count': 427, 'favorite_count': 0, 'favorited': False, 'retweeted': False, 'lang': 'en'}, {'created_at': 'Thu Jun 18 06:26:36 +0000 2020', 'id': 1273502356110532609, 'id_str': '1273502356110532609', 'text': 'COVID-19 remains a source of many surprises...\\n\\n#corona #coronavirus #covid #covidー19 #covid_19 #covid19 #sarscov2… https://t.co/3JGeApTmWR', 'truncated': True, 'entities': {'hashtags': [{'text': 'corona', 'indices': [48, 55]}, {'text': 'coronavirus', 'indices': [56, 68]}, {'text': 'covid', 'indices': [69, 75]}, {'text': 'covidー19', 'indices': [76, 85]}, {'text': 'covid_19', 'indices': [86, 95]}, {'text': 'covid19', 'indices': [96, 104]}, {'text': 'sarscov2', 'indices': [105, 114]}], 'symbols': [], 'user_mentions': [], 'urls': [{'url': 'https://t.co/3JGeApTmWR', 'expanded_url': 'https://twitter.com/i/web/status/1273502356110532609', 'display_url': 'twitter.com/i/web/status/1…', 'indices': [116, 139]}]}, 'metadata': {'iso_language_code': 'en', 'result_type': 'recent'}, 'source': '<a href=\"http://www.linkedin.com/\" rel=\"nofollow\">LinkedIn</a>', 'in_reply_to_status_id': None, 'in_reply_to_status_id_str': None, 'in_reply_to_user_id': None, 'in_reply_to_user_id_str': None, 'in_reply_to_screen_name': None, 'user': {'id': 1052864761, 'id_str': '1052864761', 'name': 'vonjd', 'screen_name': 'ephorie', 'location': '', 'description': '', 'url': None, 'entities': {'description': {'urls': []}}, 'protected': False, 'followers_count': 22, 'friends_count': 77, 'listed_count': 4, 'created_at': 'Tue Jan 01 15:46:22 +0000 2013', 'favourites_count': 1047, 'utc_offset': None, 'time_zone': None, 'geo_enabled': False, 'verified': False, 'statuses_count': 182, 'lang': None, 'contributors_enabled': False, 'is_translator': False, 'is_translation_enabled': False, 'profile_background_color': 'C0DEED', 'profile_background_image_url': 'http://abs.twimg.com/images/themes/theme1/bg.png', 'profile_background_image_url_https': 'https://abs.twimg.com/images/themes/theme1/bg.png', 'profile_background_tile': False, 'profile_image_url': 'http://pbs.twimg.com/profile_images/1113014387625914369/Hx_U_vb7_normal.png', 'profile_image_url_https': 'https://pbs.twimg.com/profile_images/1113014387625914369/Hx_U_vb7_normal.png', 'profile_link_color': '1DA1F2', 'profile_sidebar_border_color': 'C0DEED', 'profile_sidebar_fill_color': 'DDEEF6', 'profile_text_color': '333333', 'profile_use_background_image': True, 'has_extended_profile': False, 'default_profile': True, 'default_profile_image': False, 'following': False, 'follow_request_sent': False, 'notifications': False, 'translator_type': 'none'}, 'geo': None, 'coordinates': None, 'place': None, 'contributors': None, 'is_quote_status': False, 'retweet_count': 0, 'favorite_count': 0, 'favorited': False, 'retweeted': False, 'possibly_sensitive': False, 'lang': 'en'}, {'created_at': 'Thu Jun 18 06:26:30 +0000 2020', 'id': 1273502331137593345, 'id_str': '1273502331137593345', 'text': 'RT @rdmaquiavelo: AL DÍA CON DON MAQUI \\n16/06/2020 \\n\\nQue el #Covid amenaza al @CongresoNL “con salvar” al #Bronco, esto debido a que la @Nl…', 'truncated': False, 'entities': {'hashtags': [{'text': 'Covid', 'indices': [60, 66]}, {'text': 'Bronco', 'indices': [106, 113]}], 'symbols': [], 'user_mentions': [{'screen_name': 'rdmaquiavelo', 'name': 'El Rincón de Maquiavelo', 'id': 1022555295673925632, 'id_str': '1022555295673925632', 'indices': [3, 16]}, {'screen_name': 'CongresoNL', 'name': 'Congreso Nuevo León', 'id': 92150016, 'id_str': '92150016', 'indices': [78, 89]}], 'urls': []}, 'metadata': {'iso_language_code': 'es', 'result_type': 'recent'}, 'source': '<a href=\"https://mobile.twitter.com\" rel=\"nofollow\">Twitter Web App</a>', 'in_reply_to_status_id': None, 'in_reply_to_status_id_str': None, 'in_reply_to_user_id': None, 'in_reply_to_user_id_str': None, 'in_reply_to_screen_name': None, 'user': {'id': 888947636752965632, 'id_str': '888947636752965632', 'name': 'Francisco fraire', 'screen_name': 'Franciscofrair6', 'location': '', 'description': 'Soy un hombre que le gusta la lectura y la historia de los cataros', 'url': None, 'entities': {'description': {'urls': []}}, 'protected': False, 'followers_count': 417, 'friends_count': 559, 'listed_count': 2, 'created_at': 'Sun Jul 23 02:23:27 +0000 2017', 'favourites_count': 9714, 'utc_offset': None, 'time_zone': None, 'geo_enabled': False, 'verified': False, 'statuses_count': 19676, 'lang': None, 'contributors_enabled': False, 'is_translator': False, 'is_translation_enabled': False, 'profile_background_color': 'F5F8FA', 'profile_background_image_url': None, 'profile_background_image_url_https': None, 'profile_background_tile': False, 'profile_image_url': 'http://pbs.twimg.com/profile_images/1271668760739487745/E4SBcAZY_normal.jpg', 'profile_image_url_https': 'https://pbs.twimg.com/profile_images/1271668760739487745/E4SBcAZY_normal.jpg', 'profile_link_color': '1DA1F2', 'profile_sidebar_border_color': 'C0DEED', 'profile_sidebar_fill_color': 'DDEEF6', 'profile_text_color': '333333', 'profile_use_background_image': True, 'has_extended_profile': False, 'default_profile': True, 'default_profile_image': False, 'following': False, 'follow_request_sent': False, 'notifications': False, 'translator_type': 'none'}, 'geo': None, 'coordinates': None, 'place': None, 'contributors': None, 'retweeted_status': {'created_at': 'Wed Jun 17 04:41:32 +0000 2020', 'id': 1273113527461523457, 'id_str': '1273113527461523457', 'text': 'AL DÍA CON DON MAQUI \\n16/06/2020 \\n\\nQue el #Covid amenaza al @CongresoNL “con salvar” al #Bronco, esto debido a que… https://t.co/Bk3NePdNa2', 'truncated': True, 'entities': {'hashtags': [{'text': 'Covid', 'indices': [42, 48]}, {'text': 'Bronco', 'indices': [88, 95]}], 'symbols': [], 'user_mentions': [{'screen_name': 'CongresoNL', 'name': 'Congreso Nuevo León', 'id': 92150016, 'id_str': '92150016', 'indices': [60, 71]}], 'urls': [{'url': 'https://t.co/Bk3NePdNa2', 'expanded_url': 'https://twitter.com/i/web/status/1273113527461523457', 'display_url': 'twitter.com/i/web/status/1…', 'indices': [116, 139]}]}, 'metadata': {'iso_language_code': 'es', 'result_type': 'recent'}, 'source': '<a href=\"https://mobile.twitter.com\" rel=\"nofollow\">Twitter Web App</a>', 'in_reply_to_status_id': None, 'in_reply_to_status_id_str': None, 'in_reply_to_user_id': None, 'in_reply_to_user_id_str': None, 'in_reply_to_screen_name': None, 'user': {'id': 1022555295673925632, 'id_str': '1022555295673925632', 'name': 'El Rincón de Maquiavelo', 'screen_name': 'rdmaquiavelo', 'location': 'Monterrey, Nuevo León', 'description': 'Medio de Comunicación para análisis e investigación política con edición Impresa y digital diariamente, con Programa Semanal en face-live Maquiavelando con...', 'url': 'https://t.co/hGjicxpTSK', 'entities': {'url': {'urls': [{'url': 'https://t.co/hGjicxpTSK', 'expanded_url': 'http://www.elrincondemaquiavelo.com', 'display_url': 'elrincondemaquiavelo.com', 'indices': [0, 23]}]}, 'description': {'urls': []}}, 'protected': False, 'followers_count': 3474, 'friends_count': 5004, 'listed_count': 6, 'created_at': 'Thu Jul 26 18:52:35 +0000 2018', 'favourites_count': 730, 'utc_offset': None, 'time_zone': None, 'geo_enabled': True, 'verified': False, 'statuses_count': 6690, 'lang': None, 'contributors_enabled': False, 'is_translator': False, 'is_translation_enabled': False, 'profile_background_color': '000000', 'profile_background_image_url': 'http://abs.twimg.com/images/themes/theme1/bg.png', 'profile_background_image_url_https': 'https://abs.twimg.com/images/themes/theme1/bg.png', 'profile_background_tile': False, 'profile_image_url': 'http://pbs.twimg.com/profile_images/1268703192520568837/VIibFKoB_normal.jpg', 'profile_image_url_https': 'https://pbs.twimg.com/profile_images/1268703192520568837/VIibFKoB_normal.jpg', 'profile_banner_url': 'https://pbs.twimg.com/profile_banners/1022555295673925632/1589634405', 'profile_link_color': '19CF86', 'profile_sidebar_border_color': '000000', 'profile_sidebar_fill_color': '000000', 'profile_text_color': '000000', 'profile_use_background_image': False, 'has_extended_profile': False, 'default_profile': False, 'default_profile_image': False, 'following': False, 'follow_request_sent': False, 'notifications': False, 'translator_type': 'none'}, 'geo': None, 'coordinates': None, 'place': None, 'contributors': None, 'is_quote_status': False, 'retweet_count': 0, 'favorite_count': 0, 'favorited': False, 'retweeted': False, 'possibly_sensitive': False, 'lang': 'es'}, 'is_quote_status': False, 'retweet_count': 0, 'favorite_count': 0, 'favorited': False, 'retweeted': False, 'lang': 'es'}]\n"
          ],
          "name": "stdout"
        }
      ]
    },
    {
      "cell_type": "code",
      "metadata": {
        "id": "wYiVi_NIKWRI",
        "colab_type": "code",
        "colab": {}
      },
      "source": [
        "#to load a text fiile\n"
      ],
      "execution_count": null,
      "outputs": []
    },
    {
      "cell_type": "code",
      "metadata": {
        "id": "Qtf5d0BTIlFJ",
        "colab_type": "code",
        "colab": {}
      },
      "source": [
        "two_tweet = result_cursor[0]._json\n",
        "two_tweet"
      ],
      "execution_count": null,
      "outputs": []
    },
    {
      "cell_type": "code",
      "metadata": {
        "tags": [],
        "cell_id": "013c846a-3ff2-4539-b296-7477326dac0e",
        "id": "USP-R4R1C4tI",
        "colab_type": "code",
        "colab": {}
      },
      "source": [
        "import pandas as pd\n",
        "\n",
        "df = pd.DataFrame.from_records(covid_results)"
      ],
      "execution_count": null,
      "outputs": []
    },
    {
      "cell_type": "code",
      "metadata": {
        "tags": [],
        "cell_id": "92d832c6-889e-40c4-b2ea-c6c606df4830",
        "id": "u7Im1GI0C4tP",
        "colab_type": "code",
        "colab": {}
      },
      "source": [
        "covid_results_users = []\n",
        "for item in covid_results:\n",
        "    covid_results_users.append(item['user'])\n",
        "\n",
        "df_users = pd.DataFrame.from_records(covid_results_users)"
      ],
      "execution_count": null,
      "outputs": []
    },
    {
      "cell_type": "code",
      "metadata": {
        "tags": [],
        "cell_id": "a8145872-5f7c-4ffb-a94c-c3468034e7f0",
        "id": "FspOQb7QC4tX",
        "colab_type": "code",
        "colab": {
          "base_uri": "https://localhost:8080/",
          "height": 56
        },
        "outputId": "c73a9d0c-4c1e-4e8d-a43d-b18772991d3f"
      },
      "source": [
        "one_tweet['user'].keys()"
      ],
      "execution_count": null,
      "outputs": [
        {
          "output_type": "execute_result",
          "data": {
            "text/plain": [
              "dict_keys(['id', 'id_str', 'name', 'screen_name', 'location', 'description', 'url', 'entities', 'protected', 'followers_count', 'friends_count', 'listed_count', 'created_at', 'favourites_count', 'utc_offset', 'time_zone', 'geo_enabled', 'verified', 'statuses_count', 'lang', 'contributors_enabled', 'is_translator', 'is_translation_enabled', 'profile_background_color', 'profile_background_image_url', 'profile_background_image_url_https', 'profile_background_tile', 'profile_image_url', 'profile_image_url_https', 'profile_banner_url', 'profile_link_color', 'profile_sidebar_border_color', 'profile_sidebar_fill_color', 'profile_text_color', 'profile_use_background_image', 'has_extended_profile', 'default_profile', 'default_profile_image', 'following', 'follow_request_sent', 'notifications', 'translator_type'])"
            ]
          },
          "metadata": {
            "tags": []
          },
          "execution_count": 42
        }
      ]
    },
    {
      "cell_type": "code",
      "metadata": {
        "id": "xYj816hbNsVl",
        "colab_type": "code",
        "colab": {
          "base_uri": "https://localhost:8080/",
          "height": 400
        },
        "outputId": "0cf92cdc-4d45-4317-bb6e-09b0fb5b9242"
      },
      "source": [
        "all_user_ids = []\n",
        "for tweet in result_cursor:\n",
        "    data = tweet._json\n",
        "    all_user_ids.append(data['user']['followers_count'])\n",
        "all_user_ids\n"
      ],
      "execution_count": null,
      "outputs": [
        {
          "output_type": "execute_result",
          "data": {
            "text/plain": [
              "[6590,\n",
              " 3995,\n",
              " 1682,\n",
              " 79,\n",
              " 1225,\n",
              " 440,\n",
              " 23,\n",
              " 66,\n",
              " 159,\n",
              " 298,\n",
              " 99,\n",
              " 73,\n",
              " 951,\n",
              " 86,\n",
              " 325,\n",
              " 7014,\n",
              " 9279,\n",
              " 126,\n",
              " 22,\n",
              " 417]"
            ]
          },
          "metadata": {
            "tags": []
          },
          "execution_count": 59
        }
      ]
    },
    {
      "cell_type": "code",
      "metadata": {
        "id": "34h-wbgpPidL",
        "colab_type": "code",
        "colab": {
          "base_uri": "https://localhost:8080/",
          "height": 823
        },
        "outputId": "29eaff48-4c58-471c-cdec-7803a5c8cbe5"
      },
      "source": [
        "data['user']"
      ],
      "execution_count": null,
      "outputs": [
        {
          "output_type": "execute_result",
          "data": {
            "text/plain": [
              "{'contributors_enabled': False,\n",
              " 'created_at': 'Sun Jul 23 02:23:27 +0000 2017',\n",
              " 'default_profile': True,\n",
              " 'default_profile_image': False,\n",
              " 'description': 'Soy un hombre que le gusta la lectura y la historia de los cataros',\n",
              " 'entities': {'description': {'urls': []}},\n",
              " 'favourites_count': 9714,\n",
              " 'follow_request_sent': False,\n",
              " 'followers_count': 417,\n",
              " 'following': False,\n",
              " 'friends_count': 559,\n",
              " 'geo_enabled': False,\n",
              " 'has_extended_profile': False,\n",
              " 'id': 888947636752965632,\n",
              " 'id_str': '888947636752965632',\n",
              " 'is_translation_enabled': False,\n",
              " 'is_translator': False,\n",
              " 'lang': None,\n",
              " 'listed_count': 2,\n",
              " 'location': '',\n",
              " 'name': 'Francisco fraire',\n",
              " 'notifications': False,\n",
              " 'profile_background_color': 'F5F8FA',\n",
              " 'profile_background_image_url': None,\n",
              " 'profile_background_image_url_https': None,\n",
              " 'profile_background_tile': False,\n",
              " 'profile_image_url': 'http://pbs.twimg.com/profile_images/1271668760739487745/E4SBcAZY_normal.jpg',\n",
              " 'profile_image_url_https': 'https://pbs.twimg.com/profile_images/1271668760739487745/E4SBcAZY_normal.jpg',\n",
              " 'profile_link_color': '1DA1F2',\n",
              " 'profile_sidebar_border_color': 'C0DEED',\n",
              " 'profile_sidebar_fill_color': 'DDEEF6',\n",
              " 'profile_text_color': '333333',\n",
              " 'profile_use_background_image': True,\n",
              " 'protected': False,\n",
              " 'screen_name': 'Franciscofrair6',\n",
              " 'statuses_count': 19676,\n",
              " 'time_zone': None,\n",
              " 'translator_type': 'none',\n",
              " 'url': None,\n",
              " 'utc_offset': None,\n",
              " 'verified': False}"
            ]
          },
          "metadata": {
            "tags": []
          },
          "execution_count": 62
        }
      ]
    },
    {
      "cell_type": "code",
      "metadata": {
        "id": "DhqzleOROY3r",
        "colab_type": "code",
        "colab": {
          "base_uri": "https://localhost:8080/",
          "height": 56
        },
        "outputId": "2fc9a57d-7482-49db-a135-b4874d8b3d7b"
      },
      "source": [
        "#maximum number of follow\n",
        "#extracting user info\n",
        "user_data api.get_user(id = '888947636752965632')\n",
        "user_data = user_data._json\n",
        "user_data.keys()\n",
        "#result_cursor[all_user_ids.index('iddnnbasbj')]._json"
      ],
      "execution_count": null,
      "outputs": [
        {
          "output_type": "execute_result",
          "data": {
            "text/plain": [
              "User(_api=<tweepy.api.API object at 0x7fd44b314a90>, _json={'id': 888947636752965632, 'id_str': '888947636752965632', 'name': 'Francisco fraire', 'screen_name': 'Franciscofrair6', 'location': '', 'profile_location': None, 'description': 'Soy un hombre que le gusta la lectura y la historia de los cataros', 'url': None, 'entities': {'description': {'urls': []}}, 'protected': False, 'followers_count': 417, 'friends_count': 559, 'listed_count': 2, 'created_at': 'Sun Jul 23 02:23:27 +0000 2017', 'favourites_count': 9724, 'utc_offset': None, 'time_zone': None, 'geo_enabled': False, 'verified': False, 'statuses_count': 19681, 'lang': None, 'status': {'created_at': 'Thu Jun 18 06:41:05 +0000 2020', 'id': 1273505997596889088, 'id_str': '1273505997596889088', 'text': 'RT @thefifthb: https://t.co/2c6nRpCQfo', 'truncated': False, 'entities': {'hashtags': [], 'symbols': [], 'user_mentions': [{'screen_name': 'thefifthb', 'name': 'Jöel Ehrmantraut', 'id': 2291474491, 'id_str': '2291474491', 'indices': [3, 13]}], 'urls': [], 'media': [{'id': 1265004951450693634, 'id_str': '1265004951450693634', 'indices': [15, 38], 'media_url': 'http://pbs.twimg.com/media/EY4zTRJUMAIYDqU.jpg', 'media_url_https': 'https://pbs.twimg.com/media/EY4zTRJUMAIYDqU.jpg', 'url': 'https://t.co/2c6nRpCQfo', 'display_url': 'pic.twitter.com/2c6nRpCQfo', 'expanded_url': 'https://twitter.com/thefifthb/status/1265004956672651264/photo/1', 'type': 'photo', 'sizes': {'large': {'w': 828, 'h': 815, 'resize': 'fit'}, 'thumb': {'w': 150, 'h': 150, 'resize': 'crop'}, 'medium': {'w': 828, 'h': 815, 'resize': 'fit'}, 'small': {'w': 680, 'h': 669, 'resize': 'fit'}}, 'source_status_id': 1265004956672651264, 'source_status_id_str': '1265004956672651264', 'source_user_id': 2291474491, 'source_user_id_str': '2291474491'}]}, 'extended_entities': {'media': [{'id': 1265004951450693634, 'id_str': '1265004951450693634', 'indices': [15, 38], 'media_url': 'http://pbs.twimg.com/media/EY4zTRJUMAIYDqU.jpg', 'media_url_https': 'https://pbs.twimg.com/media/EY4zTRJUMAIYDqU.jpg', 'url': 'https://t.co/2c6nRpCQfo', 'display_url': 'pic.twitter.com/2c6nRpCQfo', 'expanded_url': 'https://twitter.com/thefifthb/status/1265004956672651264/photo/1', 'type': 'photo', 'sizes': {'large': {'w': 828, 'h': 815, 'resize': 'fit'}, 'thumb': {'w': 150, 'h': 150, 'resize': 'crop'}, 'medium': {'w': 828, 'h': 815, 'resize': 'fit'}, 'small': {'w': 680, 'h': 669, 'resize': 'fit'}}, 'source_status_id': 1265004956672651264, 'source_status_id_str': '1265004956672651264', 'source_user_id': 2291474491, 'source_user_id_str': '2291474491'}]}, 'source': '<a href=\"https://mobile.twitter.com\" rel=\"nofollow\">Twitter Web App</a>', 'in_reply_to_status_id': None, 'in_reply_to_status_id_str': None, 'in_reply_to_user_id': None, 'in_reply_to_user_id_str': None, 'in_reply_to_screen_name': None, 'geo': None, 'coordinates': None, 'place': None, 'contributors': None, 'retweeted_status': {'created_at': 'Mon May 25 19:40:58 +0000 2020', 'id': 1265004956672651264, 'id_str': '1265004956672651264', 'text': 'https://t.co/2c6nRpCQfo', 'truncated': False, 'entities': {'hashtags': [], 'symbols': [], 'user_mentions': [], 'urls': [], 'media': [{'id': 1265004951450693634, 'id_str': '1265004951450693634', 'indices': [0, 23], 'media_url': 'http://pbs.twimg.com/media/EY4zTRJUMAIYDqU.jpg', 'media_url_https': 'https://pbs.twimg.com/media/EY4zTRJUMAIYDqU.jpg', 'url': 'https://t.co/2c6nRpCQfo', 'display_url': 'pic.twitter.com/2c6nRpCQfo', 'expanded_url': 'https://twitter.com/thefifthb/status/1265004956672651264/photo/1', 'type': 'photo', 'sizes': {'large': {'w': 828, 'h': 815, 'resize': 'fit'}, 'thumb': {'w': 150, 'h': 150, 'resize': 'crop'}, 'medium': {'w': 828, 'h': 815, 'resize': 'fit'}, 'small': {'w': 680, 'h': 669, 'resize': 'fit'}}}]}, 'extended_entities': {'media': [{'id': 1265004951450693634, 'id_str': '1265004951450693634', 'indices': [0, 23], 'media_url': 'http://pbs.twimg.com/media/EY4zTRJUMAIYDqU.jpg', 'media_url_https': 'https://pbs.twimg.com/media/EY4zTRJUMAIYDqU.jpg', 'url': 'https://t.co/2c6nRpCQfo', 'display_url': 'pic.twitter.com/2c6nRpCQfo', 'expanded_url': 'https://twitter.com/thefifthb/status/1265004956672651264/photo/1', 'type': 'photo', 'sizes': {'large': {'w': 828, 'h': 815, 'resize': 'fit'}, 'thumb': {'w': 150, 'h': 150, 'resize': 'crop'}, 'medium': {'w': 828, 'h': 815, 'resize': 'fit'}, 'small': {'w': 680, 'h': 669, 'resize': 'fit'}}}]}, 'source': '<a href=\"https://mobile.twitter.com\" rel=\"nofollow\">Twitter Web App</a>', 'in_reply_to_status_id': None, 'in_reply_to_status_id_str': None, 'in_reply_to_user_id': None, 'in_reply_to_user_id_str': None, 'in_reply_to_screen_name': None, 'geo': None, 'coordinates': None, 'place': None, 'contributors': None, 'is_quote_status': False, 'retweet_count': 1, 'favorite_count': 1, 'favorited': False, 'retweeted': False, 'possibly_sensitive': False, 'lang': 'und'}, 'is_quote_status': False, 'retweet_count': 1, 'favorite_count': 0, 'favorited': False, 'retweeted': False, 'possibly_sensitive': False, 'lang': 'und'}, 'contributors_enabled': False, 'is_translator': False, 'is_translation_enabled': False, 'profile_background_color': 'F5F8FA', 'profile_background_image_url': None, 'profile_background_image_url_https': None, 'profile_background_tile': False, 'profile_image_url': 'http://pbs.twimg.com/profile_images/1271668760739487745/E4SBcAZY_normal.jpg', 'profile_image_url_https': 'https://pbs.twimg.com/profile_images/1271668760739487745/E4SBcAZY_normal.jpg', 'profile_link_color': '1DA1F2', 'profile_sidebar_border_color': 'C0DEED', 'profile_sidebar_fill_color': 'DDEEF6', 'profile_text_color': '333333', 'profile_use_background_image': True, 'has_extended_profile': False, 'default_profile': True, 'default_profile_image': False, 'following': False, 'follow_request_sent': False, 'notifications': False, 'translator_type': 'none'}, id=888947636752965632, id_str='888947636752965632', name='Francisco fraire', screen_name='Franciscofrair6', location='', profile_location=None, description='Soy un hombre que le gusta la lectura y la historia de los cataros', url=None, entities={'description': {'urls': []}}, protected=False, followers_count=417, friends_count=559, listed_count=2, created_at=datetime.datetime(2017, 7, 23, 2, 23, 27), favourites_count=9724, utc_offset=None, time_zone=None, geo_enabled=False, verified=False, statuses_count=19681, lang=None, status=Status(_api=<tweepy.api.API object at 0x7fd44b314a90>, _json={'created_at': 'Thu Jun 18 06:41:05 +0000 2020', 'id': 1273505997596889088, 'id_str': '1273505997596889088', 'text': 'RT @thefifthb: https://t.co/2c6nRpCQfo', 'truncated': False, 'entities': {'hashtags': [], 'symbols': [], 'user_mentions': [{'screen_name': 'thefifthb', 'name': 'Jöel Ehrmantraut', 'id': 2291474491, 'id_str': '2291474491', 'indices': [3, 13]}], 'urls': [], 'media': [{'id': 1265004951450693634, 'id_str': '1265004951450693634', 'indices': [15, 38], 'media_url': 'http://pbs.twimg.com/media/EY4zTRJUMAIYDqU.jpg', 'media_url_https': 'https://pbs.twimg.com/media/EY4zTRJUMAIYDqU.jpg', 'url': 'https://t.co/2c6nRpCQfo', 'display_url': 'pic.twitter.com/2c6nRpCQfo', 'expanded_url': 'https://twitter.com/thefifthb/status/1265004956672651264/photo/1', 'type': 'photo', 'sizes': {'large': {'w': 828, 'h': 815, 'resize': 'fit'}, 'thumb': {'w': 150, 'h': 150, 'resize': 'crop'}, 'medium': {'w': 828, 'h': 815, 'resize': 'fit'}, 'small': {'w': 680, 'h': 669, 'resize': 'fit'}}, 'source_status_id': 1265004956672651264, 'source_status_id_str': '1265004956672651264', 'source_user_id': 2291474491, 'source_user_id_str': '2291474491'}]}, 'extended_entities': {'media': [{'id': 1265004951450693634, 'id_str': '1265004951450693634', 'indices': [15, 38], 'media_url': 'http://pbs.twimg.com/media/EY4zTRJUMAIYDqU.jpg', 'media_url_https': 'https://pbs.twimg.com/media/EY4zTRJUMAIYDqU.jpg', 'url': 'https://t.co/2c6nRpCQfo', 'display_url': 'pic.twitter.com/2c6nRpCQfo', 'expanded_url': 'https://twitter.com/thefifthb/status/1265004956672651264/photo/1', 'type': 'photo', 'sizes': {'large': {'w': 828, 'h': 815, 'resize': 'fit'}, 'thumb': {'w': 150, 'h': 150, 'resize': 'crop'}, 'medium': {'w': 828, 'h': 815, 'resize': 'fit'}, 'small': {'w': 680, 'h': 669, 'resize': 'fit'}}, 'source_status_id': 1265004956672651264, 'source_status_id_str': '1265004956672651264', 'source_user_id': 2291474491, 'source_user_id_str': '2291474491'}]}, 'source': '<a href=\"https://mobile.twitter.com\" rel=\"nofollow\">Twitter Web App</a>', 'in_reply_to_status_id': None, 'in_reply_to_status_id_str': None, 'in_reply_to_user_id': None, 'in_reply_to_user_id_str': None, 'in_reply_to_screen_name': None, 'geo': None, 'coordinates': None, 'place': None, 'contributors': None, 'retweeted_status': {'created_at': 'Mon May 25 19:40:58 +0000 2020', 'id': 1265004956672651264, 'id_str': '1265004956672651264', 'text': 'https://t.co/2c6nRpCQfo', 'truncated': False, 'entities': {'hashtags': [], 'symbols': [], 'user_mentions': [], 'urls': [], 'media': [{'id': 1265004951450693634, 'id_str': '1265004951450693634', 'indices': [0, 23], 'media_url': 'http://pbs.twimg.com/media/EY4zTRJUMAIYDqU.jpg', 'media_url_https': 'https://pbs.twimg.com/media/EY4zTRJUMAIYDqU.jpg', 'url': 'https://t.co/2c6nRpCQfo', 'display_url': 'pic.twitter.com/2c6nRpCQfo', 'expanded_url': 'https://twitter.com/thefifthb/status/1265004956672651264/photo/1', 'type': 'photo', 'sizes': {'large': {'w': 828, 'h': 815, 'resize': 'fit'}, 'thumb': {'w': 150, 'h': 150, 'resize': 'crop'}, 'medium': {'w': 828, 'h': 815, 'resize': 'fit'}, 'small': {'w': 680, 'h': 669, 'resize': 'fit'}}}]}, 'extended_entities': {'media': [{'id': 1265004951450693634, 'id_str': '1265004951450693634', 'indices': [0, 23], 'media_url': 'http://pbs.twimg.com/media/EY4zTRJUMAIYDqU.jpg', 'media_url_https': 'https://pbs.twimg.com/media/EY4zTRJUMAIYDqU.jpg', 'url': 'https://t.co/2c6nRpCQfo', 'display_url': 'pic.twitter.com/2c6nRpCQfo', 'expanded_url': 'https://twitter.com/thefifthb/status/1265004956672651264/photo/1', 'type': 'photo', 'sizes': {'large': {'w': 828, 'h': 815, 'resize': 'fit'}, 'thumb': {'w': 150, 'h': 150, 'resize': 'crop'}, 'medium': {'w': 828, 'h': 815, 'resize': 'fit'}, 'small': {'w': 680, 'h': 669, 'resize': 'fit'}}}]}, 'source': '<a href=\"https://mobile.twitter.com\" rel=\"nofollow\">Twitter Web App</a>', 'in_reply_to_status_id': None, 'in_reply_to_status_id_str': None, 'in_reply_to_user_id': None, 'in_reply_to_user_id_str': None, 'in_reply_to_screen_name': None, 'geo': None, 'coordinates': None, 'place': None, 'contributors': None, 'is_quote_status': False, 'retweet_count': 1, 'favorite_count': 1, 'favorited': False, 'retweeted': False, 'possibly_sensitive': False, 'lang': 'und'}, 'is_quote_status': False, 'retweet_count': 1, 'favorite_count': 0, 'favorited': False, 'retweeted': False, 'possibly_sensitive': False, 'lang': 'und'}, created_at=datetime.datetime(2020, 6, 18, 6, 41, 5), id=1273505997596889088, id_str='1273505997596889088', text='RT @thefifthb: https://t.co/2c6nRpCQfo', truncated=False, entities={'hashtags': [], 'symbols': [], 'user_mentions': [{'screen_name': 'thefifthb', 'name': 'Jöel Ehrmantraut', 'id': 2291474491, 'id_str': '2291474491', 'indices': [3, 13]}], 'urls': [], 'media': [{'id': 1265004951450693634, 'id_str': '1265004951450693634', 'indices': [15, 38], 'media_url': 'http://pbs.twimg.com/media/EY4zTRJUMAIYDqU.jpg', 'media_url_https': 'https://pbs.twimg.com/media/EY4zTRJUMAIYDqU.jpg', 'url': 'https://t.co/2c6nRpCQfo', 'display_url': 'pic.twitter.com/2c6nRpCQfo', 'expanded_url': 'https://twitter.com/thefifthb/status/1265004956672651264/photo/1', 'type': 'photo', 'sizes': {'large': {'w': 828, 'h': 815, 'resize': 'fit'}, 'thumb': {'w': 150, 'h': 150, 'resize': 'crop'}, 'medium': {'w': 828, 'h': 815, 'resize': 'fit'}, 'small': {'w': 680, 'h': 669, 'resize': 'fit'}}, 'source_status_id': 1265004956672651264, 'source_status_id_str': '1265004956672651264', 'source_user_id': 2291474491, 'source_user_id_str': '2291474491'}]}, extended_entities={'media': [{'id': 1265004951450693634, 'id_str': '1265004951450693634', 'indices': [15, 38], 'media_url': 'http://pbs.twimg.com/media/EY4zTRJUMAIYDqU.jpg', 'media_url_https': 'https://pbs.twimg.com/media/EY4zTRJUMAIYDqU.jpg', 'url': 'https://t.co/2c6nRpCQfo', 'display_url': 'pic.twitter.com/2c6nRpCQfo', 'expanded_url': 'https://twitter.com/thefifthb/status/1265004956672651264/photo/1', 'type': 'photo', 'sizes': {'large': {'w': 828, 'h': 815, 'resize': 'fit'}, 'thumb': {'w': 150, 'h': 150, 'resize': 'crop'}, 'medium': {'w': 828, 'h': 815, 'resize': 'fit'}, 'small': {'w': 680, 'h': 669, 'resize': 'fit'}}, 'source_status_id': 1265004956672651264, 'source_status_id_str': '1265004956672651264', 'source_user_id': 2291474491, 'source_user_id_str': '2291474491'}]}, source='Twitter Web App', source_url='https://mobile.twitter.com', in_reply_to_status_id=None, in_reply_to_status_id_str=None, in_reply_to_user_id=None, in_reply_to_user_id_str=None, in_reply_to_screen_name=None, geo=None, coordinates=None, place=None, contributors=None, retweeted_status=Status(_api=<tweepy.api.API object at 0x7fd44b314a90>, _json={'created_at': 'Mon May 25 19:40:58 +0000 2020', 'id': 1265004956672651264, 'id_str': '1265004956672651264', 'text': 'https://t.co/2c6nRpCQfo', 'truncated': False, 'entities': {'hashtags': [], 'symbols': [], 'user_mentions': [], 'urls': [], 'media': [{'id': 1265004951450693634, 'id_str': '1265004951450693634', 'indices': [0, 23], 'media_url': 'http://pbs.twimg.com/media/EY4zTRJUMAIYDqU.jpg', 'media_url_https': 'https://pbs.twimg.com/media/EY4zTRJUMAIYDqU.jpg', 'url': 'https://t.co/2c6nRpCQfo', 'display_url': 'pic.twitter.com/2c6nRpCQfo', 'expanded_url': 'https://twitter.com/thefifthb/status/1265004956672651264/photo/1', 'type': 'photo', 'sizes': {'large': {'w': 828, 'h': 815, 'resize': 'fit'}, 'thumb': {'w': 150, 'h': 150, 'resize': 'crop'}, 'medium': {'w': 828, 'h': 815, 'resize': 'fit'}, 'small': {'w': 680, 'h': 669, 'resize': 'fit'}}}]}, 'extended_entities': {'media': [{'id': 1265004951450693634, 'id_str': '1265004951450693634', 'indices': [0, 23], 'media_url': 'http://pbs.twimg.com/media/EY4zTRJUMAIYDqU.jpg', 'media_url_https': 'https://pbs.twimg.com/media/EY4zTRJUMAIYDqU.jpg', 'url': 'https://t.co/2c6nRpCQfo', 'display_url': 'pic.twitter.com/2c6nRpCQfo', 'expanded_url': 'https://twitter.com/thefifthb/status/1265004956672651264/photo/1', 'type': 'photo', 'sizes': {'large': {'w': 828, 'h': 815, 'resize': 'fit'}, 'thumb': {'w': 150, 'h': 150, 'resize': 'crop'}, 'medium': {'w': 828, 'h': 815, 'resize': 'fit'}, 'small': {'w': 680, 'h': 669, 'resize': 'fit'}}}]}, 'source': '<a href=\"https://mobile.twitter.com\" rel=\"nofollow\">Twitter Web App</a>', 'in_reply_to_status_id': None, 'in_reply_to_status_id_str': None, 'in_reply_to_user_id': None, 'in_reply_to_user_id_str': None, 'in_reply_to_screen_name': None, 'geo': None, 'coordinates': None, 'place': None, 'contributors': None, 'is_quote_status': False, 'retweet_count': 1, 'favorite_count': 1, 'favorited': False, 'retweeted': False, 'possibly_sensitive': False, 'lang': 'und'}, created_at=datetime.datetime(2020, 5, 25, 19, 40, 58), id=1265004956672651264, id_str='1265004956672651264', text='https://t.co/2c6nRpCQfo', truncated=False, entities={'hashtags': [], 'symbols': [], 'user_mentions': [], 'urls': [], 'media': [{'id': 1265004951450693634, 'id_str': '1265004951450693634', 'indices': [0, 23], 'media_url': 'http://pbs.twimg.com/media/EY4zTRJUMAIYDqU.jpg', 'media_url_https': 'https://pbs.twimg.com/media/EY4zTRJUMAIYDqU.jpg', 'url': 'https://t.co/2c6nRpCQfo', 'display_url': 'pic.twitter.com/2c6nRpCQfo', 'expanded_url': 'https://twitter.com/thefifthb/status/1265004956672651264/photo/1', 'type': 'photo', 'sizes': {'large': {'w': 828, 'h': 815, 'resize': 'fit'}, 'thumb': {'w': 150, 'h': 150, 'resize': 'crop'}, 'medium': {'w': 828, 'h': 815, 'resize': 'fit'}, 'small': {'w': 680, 'h': 669, 'resize': 'fit'}}}]}, extended_entities={'media': [{'id': 1265004951450693634, 'id_str': '1265004951450693634', 'indices': [0, 23], 'media_url': 'http://pbs.twimg.com/media/EY4zTRJUMAIYDqU.jpg', 'media_url_https': 'https://pbs.twimg.com/media/EY4zTRJUMAIYDqU.jpg', 'url': 'https://t.co/2c6nRpCQfo', 'display_url': 'pic.twitter.com/2c6nRpCQfo', 'expanded_url': 'https://twitter.com/thefifthb/status/1265004956672651264/photo/1', 'type': 'photo', 'sizes': {'large': {'w': 828, 'h': 815, 'resize': 'fit'}, 'thumb': {'w': 150, 'h': 150, 'resize': 'crop'}, 'medium': {'w': 828, 'h': 815, 'resize': 'fit'}, 'small': {'w': 680, 'h': 669, 'resize': 'fit'}}}]}, source='Twitter Web App', source_url='https://mobile.twitter.com', in_reply_to_status_id=None, in_reply_to_status_id_str=None, in_reply_to_user_id=None, in_reply_to_user_id_str=None, in_reply_to_screen_name=None, geo=None, coordinates=None, place=None, contributors=None, is_quote_status=False, retweet_count=1, favorite_count=1, favorited=False, retweeted=False, possibly_sensitive=False, lang='und'), is_quote_status=False, retweet_count=1, favorite_count=0, favorited=False, retweeted=False, possibly_sensitive=False, lang='und'), contributors_enabled=False, is_translator=False, is_translation_enabled=False, profile_background_color='F5F8FA', profile_background_image_url=None, profile_background_image_url_https=None, profile_background_tile=False, profile_image_url='http://pbs.twimg.com/profile_images/1271668760739487745/E4SBcAZY_normal.jpg', profile_image_url_https='https://pbs.twimg.com/profile_images/1271668760739487745/E4SBcAZY_normal.jpg', profile_link_color='1DA1F2', profile_sidebar_border_color='C0DEED', profile_sidebar_fill_color='DDEEF6', profile_text_color='333333', profile_use_background_image=True, has_extended_profile=False, default_profile=True, default_profile_image=False, following=False, follow_request_sent=False, notifications=False, translator_type='none')"
            ]
          },
          "metadata": {
            "tags": []
          },
          "execution_count": 63
        }
      ]
    },
    {
      "cell_type": "code",
      "metadata": {
        "id": "KAUyveNtRzh2",
        "colab_type": "code",
        "colab": {}
      },
      "source": [
        "def get_user_with_max_follower(hashtag):\n",
        "  search_results = api.search(q=hashtag, count=20) #you can't do json thingy here\n",
        "  #api is giving us two diff things\n",
        "  #json can't be directly retrieved here\n",
        "  #you just get a cursor from api\n",
        "  #then you have to parse it in json form\n",
        "  all_followers = []\n",
        "  tweets = []\n",
        "  for tweet in search_results:\n",
        "    data = tweet._json #json of search results\n",
        "    followers = data['user']['followers_count']\n",
        "    all_followers.append(followers)\n",
        "    tweets.append(data)\n",
        "  max_no_followers = max(all_followers)\n",
        "  target_person_index = all_followers.index(max_no_followers)\n",
        "  person_info = tweets[target_person_index]\n",
        "  user_id  = person_info['user']['id_str']\n",
        "  return api.get_user(id=user_id)._json\n",
        "#max_no_followers\n",
        "\n",
        "  #max = 0\n",
        "  #for item in all_user_ids:\n",
        "   # if item['follower_count'] >= max:\n",
        "    #  user_id_max = item\n",
        "     # max = item['follower_count']\n",
        "#  print (user_id)"
      ],
      "execution_count": null,
      "outputs": []
    },
    {
      "cell_type": "code",
      "metadata": {
        "id": "JftasmK5U3XE",
        "colab_type": "code",
        "colab": {
          "base_uri": "https://localhost:8080/",
          "height": 1000
        },
        "outputId": "91c3ebd1-1d9b-41f2-aff9-7f96e161ba3a"
      },
      "source": [
        "get_user_with_max_follower('coronavirus')\n"
      ],
      "execution_count": null,
      "outputs": [
        {
          "output_type": "execute_result",
          "data": {
            "text/plain": [
              "{'contributors_enabled': False,\n",
              " 'created_at': 'Thu Jul 09 21:32:37 +0000 2015',\n",
              " 'default_profile': False,\n",
              " 'default_profile_image': False,\n",
              " 'description': \"Spreading the word about UK's City of Culture 2017 & East Riding. History, music, art, film, food, travel, sport #Hull's different resonance. RT not endorsement\",\n",
              " 'entities': {'description': {'urls': []}},\n",
              " 'favourites_count': 15245,\n",
              " 'follow_request_sent': False,\n",
              " 'followers_count': 5831,\n",
              " 'following': False,\n",
              " 'friends_count': 3935,\n",
              " 'geo_enabled': False,\n",
              " 'has_extended_profile': False,\n",
              " 'id': 3273360132,\n",
              " 'id_str': '3273360132',\n",
              " 'is_translation_enabled': False,\n",
              " 'is_translator': False,\n",
              " 'lang': None,\n",
              " 'listed_count': 264,\n",
              " 'location': 'Hull, England',\n",
              " 'name': 'Discover Hull',\n",
              " 'notifications': False,\n",
              " 'profile_background_color': '000000',\n",
              " 'profile_background_image_url': 'http://abs.twimg.com/images/themes/theme1/bg.png',\n",
              " 'profile_background_image_url_https': 'https://abs.twimg.com/images/themes/theme1/bg.png',\n",
              " 'profile_background_tile': False,\n",
              " 'profile_banner_url': 'https://pbs.twimg.com/profile_banners/3273360132/1438507372',\n",
              " 'profile_image_url': 'http://pbs.twimg.com/profile_images/1141082751963226112/vdwINy5n_normal.png',\n",
              " 'profile_image_url_https': 'https://pbs.twimg.com/profile_images/1141082751963226112/vdwINy5n_normal.png',\n",
              " 'profile_link_color': 'ABB8C2',\n",
              " 'profile_location': {'attributes': {},\n",
              "  'bounding_box': None,\n",
              "  'contained_within': [],\n",
              "  'country': '',\n",
              "  'country_code': '',\n",
              "  'full_name': 'Hull, England',\n",
              "  'id': '7bc0da87641dd821',\n",
              "  'name': 'Hull, England',\n",
              "  'place_type': 'unknown',\n",
              "  'url': 'https://api.twitter.com/1.1/geo/id/7bc0da87641dd821.json'},\n",
              " 'profile_sidebar_border_color': '000000',\n",
              " 'profile_sidebar_fill_color': '000000',\n",
              " 'profile_text_color': '000000',\n",
              " 'profile_use_background_image': False,\n",
              " 'protected': False,\n",
              " 'screen_name': 'discoverHullEY',\n",
              " 'status': {'contributors': None,\n",
              "  'coordinates': None,\n",
              "  'created_at': 'Thu Jun 18 07:27:51 +0000 2020',\n",
              "  'entities': {'hashtags': [],\n",
              "   'symbols': [],\n",
              "   'urls': [],\n",
              "   'user_mentions': [{'id': 2846890923,\n",
              "     'id_str': '2846890923',\n",
              "     'indices': [3, 17],\n",
              "     'name': 'Anna Riley',\n",
              "     'screen_name': 'annarileynews'}]},\n",
              "  'favorite_count': 0,\n",
              "  'favorited': False,\n",
              "  'geo': None,\n",
              "  'id': 1273517767099142145,\n",
              "  'id_str': '1273517767099142145',\n",
              "  'in_reply_to_screen_name': None,\n",
              "  'in_reply_to_status_id': None,\n",
              "  'in_reply_to_status_id_str': None,\n",
              "  'in_reply_to_user_id': None,\n",
              "  'in_reply_to_user_id_str': None,\n",
              "  'is_quote_status': False,\n",
              "  'lang': 'en',\n",
              "  'place': None,\n",
              "  'retweet_count': 37,\n",
              "  'retweeted': False,\n",
              "  'retweeted_status': {'contributors': None,\n",
              "   'coordinates': None,\n",
              "   'created_at': 'Wed Jun 17 19:49:47 +0000 2020',\n",
              "   'entities': {'hashtags': [],\n",
              "    'symbols': [],\n",
              "    'urls': [{'display_url': 'twitter.com/i/web/status/1…',\n",
              "      'expanded_url': 'https://twitter.com/i/web/status/1273342092509659139',\n",
              "      'indices': [117, 140],\n",
              "      'url': 'https://t.co/0u2MAt5PNL'}],\n",
              "    'user_mentions': []},\n",
              "   'favorite_count': 181,\n",
              "   'favorited': False,\n",
              "   'geo': None,\n",
              "   'id': 1273342092509659139,\n",
              "   'id_str': '1273342092509659139',\n",
              "   'in_reply_to_screen_name': None,\n",
              "   'in_reply_to_status_id': None,\n",
              "   'in_reply_to_status_id_str': None,\n",
              "   'in_reply_to_user_id': None,\n",
              "   'in_reply_to_user_id_str': None,\n",
              "   'is_quote_status': False,\n",
              "   'lang': 'en',\n",
              "   'place': None,\n",
              "   'possibly_sensitive': False,\n",
              "   'retweet_count': 37,\n",
              "   'retweeted': False,\n",
              "   'source': '<a href=\"https://mobile.twitter.com\" rel=\"nofollow\">Twitter Web App</a>',\n",
              "   'text': 'It has been heartbreaking to hear stories from people in Hull who will never see their loved ones again as a result… https://t.co/0u2MAt5PNL',\n",
              "   'truncated': True},\n",
              "  'source': '<a href=\"http://twitter.com/download/android\" rel=\"nofollow\">Twitter for Android</a>',\n",
              "  'text': 'RT @annarileynews: It has been heartbreaking to hear stories from people in Hull who will never see their loved ones again as a result of c…',\n",
              "  'truncated': False},\n",
              " 'statuses_count': 155042,\n",
              " 'time_zone': None,\n",
              " 'translator_type': 'none',\n",
              " 'url': None,\n",
              " 'utc_offset': None,\n",
              " 'verified': False}"
            ]
          },
          "metadata": {
            "tags": []
          },
          "execution_count": 68
        }
      ]
    },
    {
      "cell_type": "code",
      "metadata": {
        "tags": [],
        "cell_id": "133b60a1-5743-4cc0-8469-be88b365c858",
        "id": "i8QuZ2rQC4tf",
        "colab_type": "code",
        "colab": {}
      },
      "source": [
        "one_tweet['entities']"
      ],
      "execution_count": null,
      "outputs": []
    },
    {
      "cell_type": "code",
      "metadata": {
        "tags": [],
        "cell_id": "f2135559-828b-4f24-b14e-763af934acf7",
        "id": "Wayjs_CpC4tp",
        "colab_type": "code",
        "colab": {}
      },
      "source": [
        "users_result = api.search_users(q='example user name here', count=100)"
      ],
      "execution_count": null,
      "outputs": []
    },
    {
      "cell_type": "code",
      "metadata": {
        "tags": [],
        "cell_id": "1e6ff6c7-e509-4f17-9c8d-57341e8ef515",
        "id": "cyHw32rpC4tw",
        "colab_type": "code",
        "colab": {}
      },
      "source": [
        "users_result[0]._json"
      ],
      "execution_count": null,
      "outputs": []
    }
  ]
}