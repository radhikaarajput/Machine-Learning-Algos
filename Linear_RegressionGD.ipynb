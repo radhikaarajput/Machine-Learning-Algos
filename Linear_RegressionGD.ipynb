{
  "nbformat": 4,
  "nbformat_minor": 0,
  "metadata": {
    "colab": {
      "name": "Linear.RegressionGD.ipynb",
      "provenance": [],
      "authorship_tag": "ABX9TyODmOpusn7yLpkWuwOEibJp",
      "include_colab_link": true
    },
    "kernelspec": {
      "name": "python3",
      "display_name": "Python 3"
    }
  },
  "cells": [
    {
      "cell_type": "markdown",
      "metadata": {
        "id": "view-in-github",
        "colab_type": "text"
      },
      "source": [
        "<a href=\"https://colab.research.google.com/github/priyaChaturvedi11/practice/blob/master/Linear_RegressionGD.ipynb\" target=\"_parent\"><img src=\"https://colab.research.google.com/assets/colab-badge.svg\" alt=\"Open In Colab\"/></a>"
      ]
    },
    {
      "cell_type": "code",
      "metadata": {
        "id": "eF7khrX3yRB1",
        "colab_type": "code",
        "colab": {}
      },
      "source": [
        "data = []\n",
        "for x in range(111):\n",
        "  data.append((x,x))"
      ],
      "execution_count": 43,
      "outputs": []
    },
    {
      "cell_type": "code",
      "metadata": {
        "id": "0D8SpOv_y3nG",
        "colab_type": "code",
        "colab": {
          "base_uri": "https://localhost:8080/",
          "height": 1000
        },
        "outputId": "645aeef6-a142-48fd-b2c6-3a33106826dc"
      },
      "source": [
        "data"
      ],
      "execution_count": 44,
      "outputs": [
        {
          "output_type": "execute_result",
          "data": {
            "text/plain": [
              "[(0, 0),\n",
              " (1, 1),\n",
              " (2, 2),\n",
              " (3, 3),\n",
              " (4, 4),\n",
              " (5, 5),\n",
              " (6, 6),\n",
              " (7, 7),\n",
              " (8, 8),\n",
              " (9, 9),\n",
              " (10, 10),\n",
              " (11, 11),\n",
              " (12, 12),\n",
              " (13, 13),\n",
              " (14, 14),\n",
              " (15, 15),\n",
              " (16, 16),\n",
              " (17, 17),\n",
              " (18, 18),\n",
              " (19, 19),\n",
              " (20, 20),\n",
              " (21, 21),\n",
              " (22, 22),\n",
              " (23, 23),\n",
              " (24, 24),\n",
              " (25, 25),\n",
              " (26, 26),\n",
              " (27, 27),\n",
              " (28, 28),\n",
              " (29, 29),\n",
              " (30, 30),\n",
              " (31, 31),\n",
              " (32, 32),\n",
              " (33, 33),\n",
              " (34, 34),\n",
              " (35, 35),\n",
              " (36, 36),\n",
              " (37, 37),\n",
              " (38, 38),\n",
              " (39, 39),\n",
              " (40, 40),\n",
              " (41, 41),\n",
              " (42, 42),\n",
              " (43, 43),\n",
              " (44, 44),\n",
              " (45, 45),\n",
              " (46, 46),\n",
              " (47, 47),\n",
              " (48, 48),\n",
              " (49, 49),\n",
              " (50, 50),\n",
              " (51, 51),\n",
              " (52, 52),\n",
              " (53, 53),\n",
              " (54, 54),\n",
              " (55, 55),\n",
              " (56, 56),\n",
              " (57, 57),\n",
              " (58, 58),\n",
              " (59, 59),\n",
              " (60, 60),\n",
              " (61, 61),\n",
              " (62, 62),\n",
              " (63, 63),\n",
              " (64, 64),\n",
              " (65, 65),\n",
              " (66, 66),\n",
              " (67, 67),\n",
              " (68, 68),\n",
              " (69, 69),\n",
              " (70, 70),\n",
              " (71, 71),\n",
              " (72, 72),\n",
              " (73, 73),\n",
              " (74, 74),\n",
              " (75, 75),\n",
              " (76, 76),\n",
              " (77, 77),\n",
              " (78, 78),\n",
              " (79, 79),\n",
              " (80, 80),\n",
              " (81, 81),\n",
              " (82, 82),\n",
              " (83, 83),\n",
              " (84, 84),\n",
              " (85, 85),\n",
              " (86, 86),\n",
              " (87, 87),\n",
              " (88, 88),\n",
              " (89, 89),\n",
              " (90, 90),\n",
              " (91, 91),\n",
              " (92, 92),\n",
              " (93, 93),\n",
              " (94, 94),\n",
              " (95, 95),\n",
              " (96, 96),\n",
              " (97, 97),\n",
              " (98, 98),\n",
              " (99, 99),\n",
              " (100, 100),\n",
              " (101, 101),\n",
              " (102, 102),\n",
              " (103, 103),\n",
              " (104, 104),\n",
              " (105, 105),\n",
              " (106, 106),\n",
              " (107, 107),\n",
              " (108, 108),\n",
              " (109, 109),\n",
              " (110, 110)]"
            ]
          },
          "metadata": {
            "tags": []
          },
          "execution_count": 44
        }
      ]
    },
    {
      "cell_type": "code",
      "metadata": {
        "id": "jdAmqLrby5lf",
        "colab_type": "code",
        "colab": {}
      },
      "source": [
        "slope = 0\n",
        "y_intercept = 0\n",
        "cost = 0"
      ],
      "execution_count": 45,
      "outputs": []
    },
    {
      "cell_type": "code",
      "metadata": {
        "id": "jzjwpx-P0PD0",
        "colab_type": "code",
        "colab": {}
      },
      "source": [
        ""
      ],
      "execution_count": 45,
      "outputs": []
    },
    {
      "cell_type": "code",
      "metadata": {
        "id": "255CZxdM1BUi",
        "colab_type": "code",
        "colab": {}
      },
      "source": [
        "def calculate_total_cost (slope, y_intercept, data):\n",
        "  total_cost = 0 \n",
        "  for x in data:\n",
        "    hypo = slope * x[0] + y_intercept\n",
        "    difference = (hypo - x[1])**2\n",
        "    total_cost += difference\n",
        "  total_cost = total_cost * (1/(2*len(data))) \n",
        "  return total_cost"
      ],
      "execution_count": 46,
      "outputs": []
    },
    {
      "cell_type": "code",
      "metadata": {
        "id": "2YW2trbVy-q8",
        "colab_type": "code",
        "colab": {}
      },
      "source": [
        ""
      ],
      "execution_count": 46,
      "outputs": []
    },
    {
      "cell_type": "code",
      "metadata": {
        "id": "lDo2sQeV3gx8",
        "colab_type": "code",
        "colab": {}
      },
      "source": [
        "learning_rate = 0.0001"
      ],
      "execution_count": 47,
      "outputs": []
    },
    {
      "cell_type": "code",
      "metadata": {
        "id": "E9NTK8Te2xGB",
        "colab_type": "code",
        "colab": {}
      },
      "source": [
        "def claculate_slope (slope, y_intercept, data, learning_rate):\n",
        "  total_cost= 0\n",
        "  for x in data:\n",
        "    hypo = slope * x[0] + y_intercept\n",
        "    total_cost += (hypo - x[1])*x[0]\n",
        "  slope = slope - ((learning_rate/len(data)) * total_cost)\n",
        "  return slope"
      ],
      "execution_count": 48,
      "outputs": []
    },
    {
      "cell_type": "code",
      "metadata": {
        "id": "cmd0vF6e6zAk",
        "colab_type": "code",
        "colab": {}
      },
      "source": [
        "#def calculate_intercept (slope, y_intercept, data, leraning_rate):\n",
        "# total_cost = 0\n",
        "# for x in data:\n",
        "#   hypo = slope * x[0] + y_intercept\n",
        "#   total_cost += (hypo - x[1])\n",
        "# y_intercept = y_intercept - ((learning_rate/len(data)) * total_cost)\n",
        "# return y_intercept"
      ],
      "execution_count": 49,
      "outputs": []
    },
    {
      "cell_type": "code",
      "metadata": {
        "id": "KQfpjK347WAH",
        "colab_type": "code",
        "colab": {}
      },
      "source": [
        "def calculate_intercept (slope, y_intercept, data, learning_rate):\n",
        "  total_cost = 0\n",
        "  for x in data:\n",
        "    hypo = slope * x[0] + y_intercept\n",
        "    difference = hypo - x[1]\n",
        "    total_cost = total_cost + difference\n",
        "  total_cost = total_cost * learning_rate * (1/len(data))\n",
        "  y_intercept = y_intercept - total_cost\n",
        "  return y_intercept"
      ],
      "execution_count": 50,
      "outputs": []
    },
    {
      "cell_type": "code",
      "metadata": {
        "id": "KbJ-HBnW8ojq",
        "colab_type": "code",
        "colab": {}
      },
      "source": [
        "import pandas as pd"
      ],
      "execution_count": 51,
      "outputs": []
    },
    {
      "cell_type": "code",
      "metadata": {
        "id": "WAqie3ED8vXM",
        "colab_type": "code",
        "colab": {}
      },
      "source": [
        "cost = calculate_total_cost (slope, y_intercept, data)"
      ],
      "execution_count": 52,
      "outputs": []
    },
    {
      "cell_type": "code",
      "metadata": {
        "id": "03kHLmxn82S1",
        "colab_type": "code",
        "colab": {
          "base_uri": "https://localhost:8080/",
          "height": 36
        },
        "outputId": "bf7b7085-4c5a-4206-e260-dfa91508fe99"
      },
      "source": [
        "cost"
      ],
      "execution_count": 53,
      "outputs": [
        {
          "output_type": "execute_result",
          "data": {
            "text/plain": [
              "2025.8333333333333"
            ]
          },
          "metadata": {
            "tags": []
          },
          "execution_count": 53
        }
      ]
    },
    {
      "cell_type": "code",
      "metadata": {
        "id": "lRGO55V4-FaN",
        "colab_type": "code",
        "colab": {
          "base_uri": "https://localhost:8080/",
          "height": 113
        },
        "outputId": "fbb8310b-b127-4c44-94fb-85a0a961607b"
      },
      "source": [
        "# setting up convergence for linear regression (stopping criteria)\n",
        "previous_cost = cost + 1 \n",
        "while previous_cost>cost and abs(cost-previous_cost)>0.001:\n",
        "    slope = claculate_slope (slope, y_intercept, data, learning_rate)\n",
        "    print('ini slope:', slope)\n",
        "    y_intercept = calculate_intercept(slope, y_intercept, data, learning_rate)\n",
        "    print('ini y_intercept', y_intercept)\n",
        "    previous_cost = cost\n",
        "    cost = calculate_total_cost(slope, y_intercept, data)\n",
        "print('cost:',cost)\n",
        "print('slope:',slope)\n",
        "print('y_intercept:',y_intercept)"
      ],
      "execution_count": 56,
      "outputs": [
        {
          "output_type": "stream",
          "text": [
            "ini slope: 0.9996450976345362\n",
            "ini y_intercept 0.00806902677598625\n",
            "cost: 0.0001302154119404886\n",
            "slope: 0.9996450976345362\n",
            "y_intercept: 0.00806902677598625\n"
          ],
          "name": "stdout"
        }
      ]
    }
  ]
}