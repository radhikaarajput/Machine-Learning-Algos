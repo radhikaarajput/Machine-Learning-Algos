{
  "nbformat": 4,
  "nbformat_minor": 0,
  "metadata": {
    "orig_nbformat": 2,
    "deepnote_notebook_id": "f1a63d22-ee9c-4f11-b9a5-dfcab3a57096",
    "deepnote_execution_queue": [],
    "colab": {
      "name": "Tweepy_REF.ipynb",
      "provenance": [],
      "collapsed_sections": [],
      "include_colab_link": true
    },
    "kernelspec": {
      "name": "python3",
      "display_name": "Python 3"
    }
  },
  "cells": [
    {
      "cell_type": "markdown",
      "metadata": {
        "id": "view-in-github",
        "colab_type": "text"
      },
      "source": [
        "<a href=\"https://colab.research.google.com/github/priyaChaturvedi11/practice/blob/master/Tweepy_REF_pc_session_reddit.ipynb\" target=\"_parent\"><img src=\"https://colab.research.google.com/assets/colab-badge.svg\" alt=\"Open In Colab\"/></a>"
      ]
    },
    {
      "cell_type": "code",
      "metadata": {
        "tags": [],
        "cell_id": "7e431c86-3a8f-4c37-b4ea-a1223b46b661",
        "id": "Fft4y0E0C4r2",
        "colab_type": "code",
        "colab": {}
      },
      "source": [
        "\n",
        "import tweepy as tweepy"
      ],
      "execution_count": null,
      "outputs": []
    },
    {
      "cell_type": "code",
      "metadata": {
        "tags": [],
        "cell_id": "44de0875-4519-4b25-b941-4d1966880e59",
        "id": "Q9-nSNasC4sK",
        "colab_type": "code",
        "colab": {}
      },
      "source": [
        "consumer_key = 'V9Awf1dfvzw3pZa4daejEzUxm'\n",
        "consumer_secret = '1f33HZJJRB4FwraPiw7Gnu96kPrpd93kQXUsDyz5iecumAX6X5'\n",
        "access_token = '1180350016625373184-zeKWxmOglE1bHAs5nRrYxEr4kuQ81X'\n",
        "access_token_secret = 'ZVOlxkFBknpQLgguV5zgUos0fBX7j3r09x5wCjusSiwV7'\n",
        "\n",
        "\n",
        "auth = tweepy.OAuthHandler(consumer_key, consumer_secret)\n",
        "auth.set_access_token(access_token, access_token_secret)\n",
        "api = tweepy.API(auth, wait_on_rate_limit=True)"
      ],
      "execution_count": null,
      "outputs": []
    },
    {
      "cell_type": "code",
      "metadata": {
        "tags": [],
        "cell_id": "518d76dc-1268-4e0e-a35f-4b068fe014de",
        "id": "JMK2whN9C4sa",
        "colab_type": "code",
        "colab": {}
      },
      "source": [
        "result_cursor = api.search(q='#covid', count=20)"
      ],
      "execution_count": null,
      "outputs": []
    },
    {
      "cell_type": "code",
      "metadata": {
        "tags": [],
        "cell_id": "f602f929-33ca-423a-a2b6-f58b54650e61",
        "id": "S6xJNrEaC4sl",
        "colab_type": "code",
        "colab": {
          "base_uri": "https://localhost:8080/",
          "height": 56
        },
        "outputId": "3753dd99-e86a-4402-f102-01f1dc99cbaa"
      },
      "source": [
        "for item in result_cursor:\n",
        "    print(item._json)\n",
        "    break"
      ],
      "execution_count": null,
      "outputs": [
        {
          "output_type": "stream",
          "text": [
            "{'created_at': 'Thu Jun 18 06:27:26 +0000 2020', 'id': 1273502562914914304, 'id_str': '1273502562914914304', 'text': 'Any Twitter / Telegraph / Facebook handle which gives up to date #Covid news on Maharashtra and Mumbai ? \\n\\nIs it re… https://t.co/6vPzSycSGX', 'truncated': True, 'entities': {'hashtags': [{'text': 'Covid', 'indices': [65, 71]}], 'symbols': [], 'user_mentions': [], 'urls': [{'url': 'https://t.co/6vPzSycSGX', 'expanded_url': 'https://twitter.com/i/web/status/1273502562914914304', 'display_url': 'twitter.com/i/web/status/1…', 'indices': [117, 140]}]}, 'metadata': {'iso_language_code': 'en', 'result_type': 'recent'}, 'source': '<a href=\"https://mobile.twitter.com\" rel=\"nofollow\">Twitter Web App</a>', 'in_reply_to_status_id': None, 'in_reply_to_status_id_str': None, 'in_reply_to_user_id': None, 'in_reply_to_user_id_str': None, 'in_reply_to_screen_name': None, 'user': {'id': 291678421, 'id_str': '291678421', 'name': 'Aneesh Gokhale', 'screen_name': 'authorAneesh', 'location': 'India', 'description': 'Author of Brahmaputra - The Story of Lachit Barphukan. Available at Amazon India.\\nNext book - Battles of the Maratha Empire\\nRT not endorsement', 'url': 'https://t.co/YEVd5bp1UO', 'entities': {'url': {'urls': [{'url': 'https://t.co/YEVd5bp1UO', 'expanded_url': 'http://www.aneeshbooks.com', 'display_url': 'aneeshbooks.com', 'indices': [0, 23]}]}, 'description': {'urls': []}}, 'protected': False, 'followers_count': 6590, 'friends_count': 822, 'listed_count': 48, 'created_at': 'Mon May 02 12:53:51 +0000 2011', 'favourites_count': 22880, 'utc_offset': None, 'time_zone': None, 'geo_enabled': False, 'verified': False, 'statuses_count': 24107, 'lang': None, 'contributors_enabled': False, 'is_translator': False, 'is_translation_enabled': False, 'profile_background_color': '1A1B1F', 'profile_background_image_url': 'http://abs.twimg.com/images/themes/theme9/bg.gif', 'profile_background_image_url_https': 'https://abs.twimg.com/images/themes/theme9/bg.gif', 'profile_background_tile': False, 'profile_image_url': 'http://pbs.twimg.com/profile_images/1270311741013069825/Kt1hjh2M_normal.jpg', 'profile_image_url_https': 'https://pbs.twimg.com/profile_images/1270311741013069825/Kt1hjh2M_normal.jpg', 'profile_banner_url': 'https://pbs.twimg.com/profile_banners/291678421/1591700898', 'profile_link_color': '7FDBB6', 'profile_sidebar_border_color': '181A1E', 'profile_sidebar_fill_color': '252429', 'profile_text_color': '666666', 'profile_use_background_image': True, 'has_extended_profile': True, 'default_profile': False, 'default_profile_image': False, 'following': False, 'follow_request_sent': False, 'notifications': False, 'translator_type': 'none'}, 'geo': None, 'coordinates': None, 'place': None, 'contributors': None, 'is_quote_status': False, 'retweet_count': 0, 'favorite_count': 0, 'favorited': False, 'retweeted': False, 'lang': 'en'}\n"
          ],
          "name": "stdout"
        }
      ]
    },
    {
      "cell_type": "code",
      "metadata": {
        "tags": [],
        "cell_id": "4f29aa42-c741-4061-869e-60ace7167a06",
        "id": "FGiorQf0C4su",
        "colab_type": "code",
        "colab": {}
      },
      "source": [
        "covid_results = []\n",
        "for item in result_cursor:\n",
        "    covid_results.append(item._json)"
      ],
      "execution_count": null,
      "outputs": []
    },
    {
      "cell_type": "code",
      "metadata": {
        "tags": [],
        "cell_id": "2f5e1fb2-07e3-473a-b2e0-060bcf8bdb86",
        "id": "FpGleee2C4s4",
        "colab_type": "code",
        "colab": {
          "base_uri": "https://localhost:8080/",
          "height": 1000
        },
        "outputId": "4da94f76-c4fa-4f95-e5bf-815437bb3906"
      },
      "source": [
        "covid_results[0]"
      ],
      "execution_count": null,
      "outputs": [
        {
          "output_type": "execute_result",
          "data": {
            "text/plain": [
              "{'contributors': None,\n",
              " 'coordinates': None,\n",
              " 'created_at': 'Thu Jun 18 06:27:26 +0000 2020',\n",
              " 'entities': {'hashtags': [{'indices': [65, 71], 'text': 'Covid'}],\n",
              "  'symbols': [],\n",
              "  'urls': [{'display_url': 'twitter.com/i/web/status/1…',\n",
              "    'expanded_url': 'https://twitter.com/i/web/status/1273502562914914304',\n",
              "    'indices': [117, 140],\n",
              "    'url': 'https://t.co/6vPzSycSGX'}],\n",
              "  'user_mentions': []},\n",
              " 'favorite_count': 0,\n",
              " 'favorited': False,\n",
              " 'geo': None,\n",
              " 'id': 1273502562914914304,\n",
              " 'id_str': '1273502562914914304',\n",
              " 'in_reply_to_screen_name': None,\n",
              " 'in_reply_to_status_id': None,\n",
              " 'in_reply_to_status_id_str': None,\n",
              " 'in_reply_to_user_id': None,\n",
              " 'in_reply_to_user_id_str': None,\n",
              " 'is_quote_status': False,\n",
              " 'lang': 'en',\n",
              " 'metadata': {'iso_language_code': 'en', 'result_type': 'recent'},\n",
              " 'place': None,\n",
              " 'retweet_count': 0,\n",
              " 'retweeted': False,\n",
              " 'source': '<a href=\"https://mobile.twitter.com\" rel=\"nofollow\">Twitter Web App</a>',\n",
              " 'text': 'Any Twitter / Telegraph / Facebook handle which gives up to date #Covid news on Maharashtra and Mumbai ? \\n\\nIs it re… https://t.co/6vPzSycSGX',\n",
              " 'truncated': True,\n",
              " 'user': {'contributors_enabled': False,\n",
              "  'created_at': 'Mon May 02 12:53:51 +0000 2011',\n",
              "  'default_profile': False,\n",
              "  'default_profile_image': False,\n",
              "  'description': 'Author of Brahmaputra - The Story of Lachit Barphukan. Available at Amazon India.\\nNext book - Battles of the Maratha Empire\\nRT not endorsement',\n",
              "  'entities': {'description': {'urls': []},\n",
              "   'url': {'urls': [{'display_url': 'aneeshbooks.com',\n",
              "      'expanded_url': 'http://www.aneeshbooks.com',\n",
              "      'indices': [0, 23],\n",
              "      'url': 'https://t.co/YEVd5bp1UO'}]}},\n",
              "  'favourites_count': 22880,\n",
              "  'follow_request_sent': False,\n",
              "  'followers_count': 6590,\n",
              "  'following': False,\n",
              "  'friends_count': 822,\n",
              "  'geo_enabled': False,\n",
              "  'has_extended_profile': True,\n",
              "  'id': 291678421,\n",
              "  'id_str': '291678421',\n",
              "  'is_translation_enabled': False,\n",
              "  'is_translator': False,\n",
              "  'lang': None,\n",
              "  'listed_count': 48,\n",
              "  'location': 'India',\n",
              "  'name': 'Aneesh Gokhale',\n",
              "  'notifications': False,\n",
              "  'profile_background_color': '1A1B1F',\n",
              "  'profile_background_image_url': 'http://abs.twimg.com/images/themes/theme9/bg.gif',\n",
              "  'profile_background_image_url_https': 'https://abs.twimg.com/images/themes/theme9/bg.gif',\n",
              "  'profile_background_tile': False,\n",
              "  'profile_banner_url': 'https://pbs.twimg.com/profile_banners/291678421/1591700898',\n",
              "  'profile_image_url': 'http://pbs.twimg.com/profile_images/1270311741013069825/Kt1hjh2M_normal.jpg',\n",
              "  'profile_image_url_https': 'https://pbs.twimg.com/profile_images/1270311741013069825/Kt1hjh2M_normal.jpg',\n",
              "  'profile_link_color': '7FDBB6',\n",
              "  'profile_sidebar_border_color': '181A1E',\n",
              "  'profile_sidebar_fill_color': '252429',\n",
              "  'profile_text_color': '666666',\n",
              "  'profile_use_background_image': True,\n",
              "  'protected': False,\n",
              "  'screen_name': 'authorAneesh',\n",
              "  'statuses_count': 24107,\n",
              "  'time_zone': None,\n",
              "  'translator_type': 'none',\n",
              "  'url': 'https://t.co/YEVd5bp1UO',\n",
              "  'utc_offset': None,\n",
              "  'verified': False}}"
            ]
          },
          "metadata": {
            "tags": []
          },
          "execution_count": 20
        }
      ]
    },
    {
      "cell_type": "code",
      "metadata": {
        "tags": [],
        "cell_id": "5eef99a4-7154-4758-a51e-8b4e5f22422b",
        "id": "yR_2c7FnC4tB",
        "colab_type": "code",
        "colab": {}
      },
      "source": [
        "one_tweet = covid_results[0]"
      ],
      "execution_count": null,
      "outputs": []
    },
    {
      "cell_type": "markdown",
      "metadata": {
        "id": "LEceuTwEIbm1",
        "colab_type": "text"
      },
      "source": [
        "one_tweet.keys()"
      ]
    },
    {
      "cell_type": "code",
      "metadata": {
        "id": "IPWJv2tKJAfJ",
        "colab_type": "code",
        "colab": {
          "base_uri": "https://localhost:8080/",
          "height": 151
        },
        "outputId": "4dc660e3-0753-4979-9495-e8c6385d1b7e"
      },
      "source": [
        "one_tweet_entities = one_tweet['entities']\n",
        "one_tweet_entities"
      ],
      "execution_count": null,
      "outputs": [
        {
          "output_type": "execute_result",
          "data": {
            "text/plain": [
              "{'hashtags': [{'indices': [65, 71], 'text': 'Covid'}],\n",
              " 'symbols': [],\n",
              " 'urls': [{'display_url': 'twitter.com/i/web/status/1…',\n",
              "   'expanded_url': 'https://twitter.com/i/web/status/1273502562914914304',\n",
              "   'indices': [117, 140],\n",
              "   'url': 'https://t.co/6vPzSycSGX'}],\n",
              " 'user_mentions': []}"
            ]
          },
          "metadata": {
            "tags": []
          },
          "execution_count": 27
        }
      ]
    },
    {
      "cell_type": "code",
      "metadata": {
        "id": "MvAG8-48K559",
        "colab_type": "code",
        "colab": {}
      },
      "source": [
        "all_hashtags = []\n",
        "for item in result_cursor:\n",
        "  print(item._json['entities']['hashtags'])\n",
        "print(item._json['entities']['hashtags'])\n",
        "\n",
        "  "
      ],
      "execution_count": null,
      "outputs": []
    },
    {
      "cell_type": "code",
      "metadata": {
        "id": "M8Sm7NZHMLVv",
        "colab_type": "code",
        "colab": {}
      },
      "source": [
        ""
      ],
      "execution_count": null,
      "outputs": []
    },
    {
      "cell_type": "markdown",
      "metadata": {
        "id": "yRq7Cs79MKyB",
        "colab_type": "text"
      },
      "source": [
        ""
      ]
    },
    {
      "cell_type": "code",
      "metadata": {
        "id": "aK7cMvcwKr_g",
        "colab_type": "code",
        "colab": {}
      },
      "source": [
        "for item in result_cursor:"
      ],
      "execution_count": null,
      "outputs": []
    },
    {
      "cell_type": "code",
      "metadata": {
        "id": "qik5JYIeJPpM",
        "colab_type": "code",
        "colab": {}
      },
      "source": [
        "result = []\n",
        "for item in result_cursor:\n",
        "  result.append(item._json)\n",
        "\n",
        "print (result)"
      ],
      "execution_count": null,
      "outputs": []
    },
    {
      "cell_type": "code",
      "metadata": {
        "id": "wYiVi_NIKWRI",
        "colab_type": "code",
        "colab": {}
      },
      "source": [
        "#to load a text fiile\n"
      ],
      "execution_count": null,
      "outputs": []
    },
    {
      "cell_type": "code",
      "metadata": {
        "id": "Qtf5d0BTIlFJ",
        "colab_type": "code",
        "colab": {}
      },
      "source": [
        "two_tweet = result_cursor[0]._json\n",
        "two_tweet"
      ],
      "execution_count": null,
      "outputs": []
    },
    {
      "cell_type": "code",
      "metadata": {
        "tags": [],
        "cell_id": "013c846a-3ff2-4539-b296-7477326dac0e",
        "id": "USP-R4R1C4tI",
        "colab_type": "code",
        "colab": {}
      },
      "source": [
        "import pandas as pd\n",
        "\n",
        "df = pd.DataFrame.from_records(covid_results)"
      ],
      "execution_count": null,
      "outputs": []
    },
    {
      "cell_type": "code",
      "metadata": {
        "tags": [],
        "cell_id": "92d832c6-889e-40c4-b2ea-c6c606df4830",
        "id": "u7Im1GI0C4tP",
        "colab_type": "code",
        "colab": {}
      },
      "source": [
        "covid_results_users = []\n",
        "for item in covid_results:\n",
        "    covid_results_users.append(item['user'])\n",
        "\n",
        "df_users = pd.DataFrame.from_records(covid_results_users)"
      ],
      "execution_count": null,
      "outputs": []
    },
    {
      "cell_type": "code",
      "metadata": {
        "tags": [],
        "cell_id": "a8145872-5f7c-4ffb-a94c-c3468034e7f0",
        "id": "FspOQb7QC4tX",
        "colab_type": "code",
        "colab": {}
      },
      "source": [
        "one_tweet['user'].keys()"
      ],
      "execution_count": null,
      "outputs": []
    },
    {
      "cell_type": "code",
      "metadata": {
        "id": "xYj816hbNsVl",
        "colab_type": "code",
        "colab": {}
      },
      "source": [
        "all_user_ids = []\n",
        "for tweet in result_cursor:\n",
        "    data = tweet._json\n",
        "    all_user_ids.append(data['user']['followers_count'])\n",
        "all_user_ids\n"
      ],
      "execution_count": null,
      "outputs": []
    },
    {
      "cell_type": "code",
      "metadata": {
        "id": "34h-wbgpPidL",
        "colab_type": "code",
        "colab": {}
      },
      "source": [
        "data['user']"
      ],
      "execution_count": null,
      "outputs": []
    },
    {
      "cell_type": "code",
      "metadata": {
        "id": "DhqzleOROY3r",
        "colab_type": "code",
        "colab": {}
      },
      "source": [
        "#maximum number of follow\n",
        "#extracting user info\n",
        "user_data api.get_user(id = '888947636752965632')\n",
        "user_data = user_data._json\n",
        "user_data.keys()\n",
        "#result_cursor[all_user_ids.index('iddnnbasbj')]._json"
      ],
      "execution_count": null,
      "outputs": []
    },
    {
      "cell_type": "code",
      "metadata": {
        "id": "KAUyveNtRzh2",
        "colab_type": "code",
        "colab": {}
      },
      "source": [
        "def get_user_with_max_follower(hashtag):\n",
        "  search_results = api.search(q=hashtag, count=20) #you can't do json thingy here\n",
        "  #api is giving us two diff things\n",
        "  #json can't be directly retrieved here\n",
        "  #you just get a cursor from api\n",
        "  #then you have to parse it in json form\n",
        "  all_followers = []\n",
        "  tweets = []\n",
        "  for tweet in search_results:\n",
        "    data = tweet._json #json of search results\n",
        "    followers = data['user']['followers_count']\n",
        "    all_followers.append(followers)\n",
        "    tweets.append(data)\n",
        "  max_no_followers = max(all_followers)\n",
        "  target_person_index = all_followers.index(max_no_followers)\n",
        "  person_info = tweets[target_person_index]\n",
        "  user_id  = person_info['user']['id_str']\n",
        "  return api.get_user(id=user_id)._json\n",
        "#max_no_followers\n",
        "\n",
        "  #max = 0\n",
        "  #for item in all_user_ids:\n",
        "   # if item['follower_count'] >= max:\n",
        "    #  user_id_max = item\n",
        "     # max = item['follower_count']\n",
        "#  print (user_id)"
      ],
      "execution_count": null,
      "outputs": []
    },
    {
      "cell_type": "code",
      "metadata": {
        "id": "JftasmK5U3XE",
        "colab_type": "code",
        "colab": {}
      },
      "source": [
        "get_user_with_max_follower('coronavirus')\n"
      ],
      "execution_count": null,
      "outputs": []
    },
    {
      "cell_type": "code",
      "metadata": {
        "tags": [],
        "cell_id": "133b60a1-5743-4cc0-8469-be88b365c858",
        "id": "i8QuZ2rQC4tf",
        "colab_type": "code",
        "colab": {}
      },
      "source": [
        "one_tweet['entities']"
      ],
      "execution_count": null,
      "outputs": []
    },
    {
      "cell_type": "code",
      "metadata": {
        "tags": [],
        "cell_id": "f2135559-828b-4f24-b14e-763af934acf7",
        "id": "Wayjs_CpC4tp",
        "colab_type": "code",
        "colab": {}
      },
      "source": [
        "users_result = api.search_users(q='example user name here', count=100)"
      ],
      "execution_count": null,
      "outputs": []
    },
    {
      "cell_type": "code",
      "metadata": {
        "tags": [],
        "cell_id": "1e6ff6c7-e509-4f17-9c8d-57341e8ef515",
        "id": "cyHw32rpC4tw",
        "colab_type": "code",
        "colab": {}
      },
      "source": [
        "users_result[0]._json"
      ],
      "execution_count": null,
      "outputs": []
    },
    {
      "cell_type": "code",
      "metadata": {
        "id": "l1i-gL0TqQlA",
        "colab_type": "code",
        "colab": {}
      },
      "source": [
        "#start of the reddit session\n",
        "import requests \n",
        "import json as json\n",
        "\n",
        "comments_url = \"https://api.pushshift.io/reddit/comment/search/?\"\n",
        "submissions_url = \"https://api.pushshift.io/reddit/submission/search/?\"\n",
        "\n",
        "def getData (url, ext):\n",
        "  r = requests.get(url + ext)\n",
        "  data = json.loads(r.text)\n",
        "  return data['data']\n"
      ],
      "execution_count": 14,
      "outputs": []
    },
    {
      "cell_type": "code",
      "metadata": {
        "id": "vTFj3c6JtSQd",
        "colab_type": "code",
        "colab": {}
      },
      "source": [
        "query = \"q=open+AI+image+GPT\"\n",
        "subreddit_retrieval = \"subreddit=MachineLearning\"\n",
        "final_search_ext = query + \"&\" + subreddit_retrieval\n"
      ],
      "execution_count": 15,
      "outputs": []
    },
    {
      "cell_type": "code",
      "metadata": {
        "id": "8rGyWITewp7m",
        "colab_type": "code",
        "colab": {
          "base_uri": "https://localhost:8080/",
          "height": 1000
        },
        "outputId": "ee1aef87-bd7b-457e-d80c-65b864702a5c"
      },
      "source": [
        "final_search_data = getData(submissions_url, final_search_ext)\n",
        "final_search_data"
      ],
      "execution_count": 17,
      "outputs": [
        {
          "output_type": "execute_result",
          "data": {
            "text/plain": [
              "[{'all_awardings': [],\n",
              "  'allow_live_comments': False,\n",
              "  'author': 'lfotofilter',\n",
              "  'author_flair_css_class': None,\n",
              "  'author_flair_richtext': [],\n",
              "  'author_flair_text': None,\n",
              "  'author_flair_type': 'text',\n",
              "  'author_fullname': 't2_92bb2',\n",
              "  'author_patreon_flair': False,\n",
              "  'author_premium': False,\n",
              "  'awarders': [],\n",
              "  'can_mod_post': False,\n",
              "  'contest_mode': False,\n",
              "  'created_utc': 1592421301,\n",
              "  'domain': 'self.MachineLearning',\n",
              "  'full_link': 'https://www.reddit.com/r/MachineLearning/comments/hay15t/r_openai_image_gpt/',\n",
              "  'gildings': {},\n",
              "  'id': 'hay15t',\n",
              "  'is_crosspostable': True,\n",
              "  'is_meta': False,\n",
              "  'is_original_content': False,\n",
              "  'is_reddit_media_domain': False,\n",
              "  'is_robot_indexable': True,\n",
              "  'is_self': True,\n",
              "  'is_video': False,\n",
              "  'link_flair_background_color': '',\n",
              "  'link_flair_css_class': 'three',\n",
              "  'link_flair_richtext': [],\n",
              "  'link_flair_text': 'Research',\n",
              "  'link_flair_text_color': 'dark',\n",
              "  'link_flair_type': 'text',\n",
              "  'locked': False,\n",
              "  'media_only': False,\n",
              "  'no_follow': False,\n",
              "  'num_comments': 93,\n",
              "  'num_crossposts': 0,\n",
              "  'over_18': False,\n",
              "  'parent_whitelist_status': 'all_ads',\n",
              "  'permalink': '/r/MachineLearning/comments/hay15t/r_openai_image_gpt/',\n",
              "  'pinned': False,\n",
              "  'post_hint': 'self',\n",
              "  'preview': {'enabled': False,\n",
              "   'images': [{'id': 'uC9IFPSkBgSlKYHkRJ-nmCMayD79LbDecq88kyvx1h0',\n",
              "     'resolutions': [{'height': 64,\n",
              "       'url': 'https://external-preview.redd.it/WY082BO9shD5Dqs-M4aZOBB5SZSKtcpteu2kB3M2Ncc.jpg?width=108&amp;crop=smart&amp;auto=webp&amp;s=8d51d5213c2a109ce07172ab9a7ca24392a99f06',\n",
              "       'width': 108},\n",
              "      {'height': 129,\n",
              "       'url': 'https://external-preview.redd.it/WY082BO9shD5Dqs-M4aZOBB5SZSKtcpteu2kB3M2Ncc.jpg?width=216&amp;crop=smart&amp;auto=webp&amp;s=82af8c74234383859800252c97a62dcbcf4b269c',\n",
              "       'width': 216},\n",
              "      {'height': 192,\n",
              "       'url': 'https://external-preview.redd.it/WY082BO9shD5Dqs-M4aZOBB5SZSKtcpteu2kB3M2Ncc.jpg?width=320&amp;crop=smart&amp;auto=webp&amp;s=ea94ec488379c82758666b4a6470da80c4b3455b',\n",
              "       'width': 320},\n",
              "      {'height': 384,\n",
              "       'url': 'https://external-preview.redd.it/WY082BO9shD5Dqs-M4aZOBB5SZSKtcpteu2kB3M2Ncc.jpg?width=640&amp;crop=smart&amp;auto=webp&amp;s=0dc4cd87c925a393b0a93217229b85b9cd9f5185',\n",
              "       'width': 640},\n",
              "      {'height': 576,\n",
              "       'url': 'https://external-preview.redd.it/WY082BO9shD5Dqs-M4aZOBB5SZSKtcpteu2kB3M2Ncc.jpg?width=960&amp;crop=smart&amp;auto=webp&amp;s=df96ce704607a17c2b744f6e8c3fe800aaa52b56',\n",
              "       'width': 960},\n",
              "      {'height': 648,\n",
              "       'url': 'https://external-preview.redd.it/WY082BO9shD5Dqs-M4aZOBB5SZSKtcpteu2kB3M2Ncc.jpg?width=1080&amp;crop=smart&amp;auto=webp&amp;s=6f7d52378771b0ce0279dba08bf7a9e7cb458a69',\n",
              "       'width': 1080}],\n",
              "     'source': {'height': 687,\n",
              "      'url': 'https://external-preview.redd.it/WY082BO9shD5Dqs-M4aZOBB5SZSKtcpteu2kB3M2Ncc.jpg?auto=webp&amp;s=c9a78ff357bbcce875a0d2ee6289deaab3ca1f91',\n",
              "      'width': 1145},\n",
              "     'variants': {}}]},\n",
              "  'pwls': 6,\n",
              "  'retrieved_on': 1592425821,\n",
              "  'score': 38,\n",
              "  'selftext': 'Open AI just released a blog post about [Image GPT](https://openai.com/blog/image-gpt/). They apply the GPT-2 transformer-based model to pixel sequences (as opposed to word sequences).\\n\\nThis could actually be quite powerful in my view, because, as opposed to much of the current competition in self-supervised learning for images, Open AI are actually using a model of p(x) (of sorts) for downstream tasks. Recent successful methods like SimCLR rely heavily on augmentations, and mainly focus on learning features that are robust to these augmentations.\\n\\nSlowly but surely, transformers are taking over the world.',\n",
              "  'send_replies': True,\n",
              "  'spoiler': False,\n",
              "  'stickied': False,\n",
              "  'subreddit': 'MachineLearning',\n",
              "  'subreddit_id': 't5_2r3gv',\n",
              "  'subreddit_subscribers': 1104799,\n",
              "  'subreddit_type': 'public',\n",
              "  'thumbnail': 'self',\n",
              "  'title': '[R] OpenAI Image GPT',\n",
              "  'total_awards_received': 0,\n",
              "  'treatment_tags': [],\n",
              "  'upvote_ratio': 0.9,\n",
              "  'url': 'https://www.reddit.com/r/MachineLearning/comments/hay15t/r_openai_image_gpt/',\n",
              "  'whitelist_status': 'all_ads',\n",
              "  'wls': 6},\n",
              " {'all_awardings': [],\n",
              "  'allow_live_comments': False,\n",
              "  'author': 'minimaxir',\n",
              "  'author_flair_css_class': None,\n",
              "  'author_flair_richtext': [],\n",
              "  'author_flair_text': None,\n",
              "  'author_flair_type': 'text',\n",
              "  'author_fullname': 't2_5f2eg',\n",
              "  'author_patreon_flair': False,\n",
              "  'can_mod_post': False,\n",
              "  'contest_mode': False,\n",
              "  'created_utc': 1562686354,\n",
              "  'domain': 'self.MachineLearning',\n",
              "  'full_link': 'https://www.reddit.com/r/MachineLearning/comments/cb2eac/p_make_your_own_aigenerated_magic_the_gathering/',\n",
              "  'gildings': {},\n",
              "  'id': 'cb2eac',\n",
              "  'is_crosspostable': True,\n",
              "  'is_meta': False,\n",
              "  'is_original_content': False,\n",
              "  'is_reddit_media_domain': False,\n",
              "  'is_robot_indexable': True,\n",
              "  'is_self': True,\n",
              "  'is_video': False,\n",
              "  'link_flair_background_color': '',\n",
              "  'link_flair_css_class': 'four',\n",
              "  'link_flair_richtext': [],\n",
              "  'link_flair_text': 'Project',\n",
              "  'link_flair_text_color': 'dark',\n",
              "  'link_flair_type': 'text',\n",
              "  'locked': False,\n",
              "  'media_only': False,\n",
              "  'no_follow': True,\n",
              "  'num_comments': 32,\n",
              "  'num_crossposts': 0,\n",
              "  'over_18': False,\n",
              "  'parent_whitelist_status': 'all_ads',\n",
              "  'permalink': '/r/MachineLearning/comments/cb2eac/p_make_your_own_aigenerated_magic_the_gathering/',\n",
              "  'pinned': False,\n",
              "  'pwls': 6,\n",
              "  'retrieved_on': 1562686355,\n",
              "  'score': 203,\n",
              "  'selftext': \"[https://minimaxir.com/apps/gpt2-mtg/](https://minimaxir.com/apps/gpt2-mtg/)\\n\\nGive a card name, card type, and/or card mana cost to a finetuned GPT-2, and get a custom card image + card text!\\n\\nI've also created a text dump of \\\\*thousands\\\\* of said cards: [https://github.com/minimaxir/mtg-gpt-2-cloud-run/tree/master/generated\\\\_card\\\\_dumps](https://github.com/minimaxir/mtg-gpt-2-cloud-run/tree/master/generated_card_dumps)\\n\\nEven with only a little training and data augmentation, GPT-2 117M overfits on Magic cards, which leads to some interesting remixes of existing cards, and some cards with *interesting* value. Some examples:\\n\\n[Krovikan Vampire](https://github.com/minimaxir/mtg-card-creator-api/blob/master/card_image_examples/vampire.jpg?raw=true)\\n\\n[Krovikan Scuttle](https://github.com/minimaxir/mtg-card-creator-api/blob/master/card_image_examples/krovikan_scuttle.jpg?raw=true)\\n\\n[Vona](https://github.com/minimaxir/mtg-card-creator-api/blob/master/card_image_examples/vona.jpg?raw=true)\\n\\n[Zephyr Return](https://github.com/minimaxir/mtg-card-creator-api/blob/master/card_image_examples/zephyr_return.jpg?raw=true)\\n\\nAnd a few cards where the card name is chosen:\\n\\n[United States of America](https://github.com/minimaxir/mtg-card-creator-api/blob/master/card_image_examples/united_states_of_america.jpg?raw=true)\\n\\n[Facebook](https://github.com/minimaxir/mtg-card-creator-api/blob/master/card_image_examples/facebook.jpg?raw=true)\\n\\n[Twitter](https://github.com/minimaxir/mtg-card-creator-api/blob/master/card_image_examples/twitter_red.jpg?raw=true)\\n\\n[Mark Rosewater](https://github.com/minimaxir/mtg-card-creator-api/blob/master/card_image_examples/mark_rosewater.jpg?raw=true)\\n\\nThe code for the text generation API is open-sourced [here](https://github.com/minimaxir/mtg-gpt-2-cloud-run), and the code for the image generation API (which uses an ugly wine hack) is open sourced [here](https://github.com/minimaxir/mtg-card-creator-api).\\n\\nOther helpful notes:\\n\\n* To share the generated card image, you can Save As the generated card locally, and to use it elsewhere, rename it and add a .jpg file extension.\\n* The network can recite existing card names and rules text of existing cards, but rarely to the same card. The network often makes interesting color shift decisions with changes to CMC/Rarity.\\n* In terms of color accuracy, color pie is mostly correct. Creature types and mechanics often follow the appropriate color identity. P/T, mana cost, and rarity are balanced.\\n* The card formatting issues are due to the underlying mtgencode/MSE implementations and are not easy to fix (most notable with Planeswalker cards).\\n\\nLet me know what you think! :)\",\n",
              "  'send_replies': True,\n",
              "  'spoiler': False,\n",
              "  'stickied': False,\n",
              "  'subreddit': 'MachineLearning',\n",
              "  'subreddit_id': 't5_2r3gv',\n",
              "  'subreddit_subscribers': 699582,\n",
              "  'subreddit_type': 'public',\n",
              "  'thumbnail': 'self',\n",
              "  'title': '[P] Make your own AI-generated Magic: The Gathering cards with GPT-2',\n",
              "  'total_awards_received': 0,\n",
              "  'updated_utc': 1562772740,\n",
              "  'url': 'https://www.reddit.com/r/MachineLearning/comments/cb2eac/p_make_your_own_aigenerated_magic_the_gathering/',\n",
              "  'whitelist_status': 'all_ads',\n",
              "  'wls': 6},\n",
              " {'all_awardings': [],\n",
              "  'author': 'og_mryamz',\n",
              "  'author_flair_css_class': None,\n",
              "  'author_flair_richtext': [],\n",
              "  'author_flair_text': None,\n",
              "  'author_flair_type': 'text',\n",
              "  'author_fullname': 't2_2jvu4muy',\n",
              "  'author_patreon_flair': False,\n",
              "  'can_mod_post': False,\n",
              "  'contest_mode': False,\n",
              "  'created_utc': 1557702294,\n",
              "  'domain': 'self.MachineLearning',\n",
              "  'full_link': 'https://www.reddit.com/r/MachineLearning/comments/bnvgyl/gpt_model_345m_output/',\n",
              "  'gildings': {},\n",
              "  'id': 'bnvgyl',\n",
              "  'is_crosspostable': True,\n",
              "  'is_meta': False,\n",
              "  'is_original_content': False,\n",
              "  'is_reddit_media_domain': False,\n",
              "  'is_robot_indexable': True,\n",
              "  'is_self': True,\n",
              "  'is_video': False,\n",
              "  'link_flair_background_color': '',\n",
              "  'link_flair_richtext': [],\n",
              "  'link_flair_text_color': 'dark',\n",
              "  'link_flair_type': 'text',\n",
              "  'locked': False,\n",
              "  'media_only': False,\n",
              "  'no_follow': True,\n",
              "  'num_comments': 0,\n",
              "  'num_crossposts': 0,\n",
              "  'over_18': False,\n",
              "  'parent_whitelist_status': 'all_ads',\n",
              "  'permalink': '/r/MachineLearning/comments/bnvgyl/gpt_model_345m_output/',\n",
              "  'pinned': False,\n",
              "  'pwls': 6,\n",
              "  'retrieved_on': 1557702295,\n",
              "  'score': 1,\n",
              "  'selftext': 'This ai prose is rich with allegory\\n\\nPrompt\\n\\nIt was a quaint village, not too far from the southern bay. The smell of grass fumed -- like it always did early spring -- as the sound of the stream rushed along the riverside. A girl stood and wondered while taking in the cool crisp air. These were her final moments.\\n\\nGPT Output (after 5 samples)\\n\\nNo sooner had she placed her hand on the nameplate on the plaque than a shaft of sunlight stabbed through the mist at her feet. She looked down at the cold marble inside and saw that underneath was her sister\\'s diamond-studded slipcase. It was open for inspection. It was ice cold and dark and strangely, she called it \"Shiny.\" She was so lonely at this point it hurt badly. The girl let out a short struggle. Snow drifts filled the sky, overlapping like sides of frost inside the ladder from which she slid down into the fissure of the mountain. At last, a firm hand fell on the hard smooth stone again. It\\'s dull, granite surface gleamed out in the dark wind beneath, like a mouth of millions of teeth. \"You\\'ll remember me for the court case we win today. Then the dust will pass.\" She looked down at her carved stone and over at the child. \"They\\'ll see right through it.\" There was the crossroads, and no spiritual journey was made.\\r\\r\\rWhen she finally got down, as far as she had ever gone on ice -- still heading down on the roads -- there was hardly a breath of wind. The little snow from the bottom of the mountain director faced directly up, overhead, as her face opened up into sincere smiling and the cold slab at her heel curled around her into an image of life. As she let out her first breath of air she clawed like a red-clawed beast at the chain that tightens at the base of her glassy skull and when she broke the tight clasp and looked up into the direction of the softly glowing sun, it felt like seeing snow landscape like a panel cast from crystalline stone. It wasn\\'t snow on her foot -- for thousands of years, snow had fallen on virtually every other person away from religion -- and the snow was real after all, shadowed and much too complex to fit into a myth. But, and her certainest prayer in her fingers, the joy still lingered when she saw her moon face, minus a skull to juxtapose the lineaments of our mortal soul.',\n",
              "  'send_replies': True,\n",
              "  'spoiler': False,\n",
              "  'stickied': False,\n",
              "  'subreddit': 'MachineLearning',\n",
              "  'subreddit_id': 't5_2r3gv',\n",
              "  'subreddit_subscribers': 653966,\n",
              "  'subreddit_type': 'public',\n",
              "  'thumbnail': 'self',\n",
              "  'title': 'GPT Model 345M Output',\n",
              "  'total_awards_received': 0,\n",
              "  'updated_utc': 1557788668,\n",
              "  'url': 'https://www.reddit.com/r/MachineLearning/comments/bnvgyl/gpt_model_345m_output/',\n",
              "  'whitelist_status': 'all_ads',\n",
              "  'wls': 6}]"
            ]
          },
          "metadata": {
            "tags": []
          },
          "execution_count": 17
        }
      ]
    },
    {
      "cell_type": "code",
      "metadata": {
        "id": "kmGaq3mlv8Tv",
        "colab_type": "code",
        "colab": {
          "base_uri": "https://localhost:8080/",
          "height": 36
        },
        "outputId": "eedc22db-e2ef-41d7-ff8f-2b5fa03f6a58"
      },
      "source": [
        "\n",
        "author_data = getData(submissions_url, \"author=minimaxir=100\")\n",
        "len(author_data)"
      ],
      "execution_count": 19,
      "outputs": [
        {
          "output_type": "execute_result",
          "data": {
            "text/plain": [
              "0"
            ]
          },
          "metadata": {
            "tags": []
          },
          "execution_count": 19
        }
      ]
    }
  ]
}